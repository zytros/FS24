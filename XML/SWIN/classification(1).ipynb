{
  "cells": [
    {
      "cell_type": "markdown",
      "id": "zpiEiO2BUeO5",
      "metadata": {
        "id": "zpiEiO2BUeO5"
      },
      "source": [
        "# Off-the-shelf image classification with Swin Transformers on TF-Hub\n",
        "\n",
        "<table class=\"tfo-notebook-buttons\" align=\"left\">\n",
        "  <td>\n",
        "    <a target=\"_blank\" href=\"https://colab.research.google.com/github/sayakpaul/swin-transformers-tf/blob/main/notebooks/classification.ipynb\"><img src=\"https://www.tensorflow.org/images/colab_logo_32px.png\" />Run in Google Colab</a>\n",
        "  </td>\n",
        "  <td>\n",
        "    <a target=\"_blank\" href=\"https://github.com/sayakpaul/swin-transformers-tf/blob/main/notebooks/classification.ipynb\"><img src=\"https://www.tensorflow.org/images/GitHub-Mark-32px.png\" />View on GitHub</a>\n",
        "  </td>\n",
        "  <td>\n",
        "    <a href=\"https://tfhub.dev/sayakpaul/collections/swin/1\"><img src=\"https://www.tensorflow.org/images/hub_logo_32px.png\" />See TF Hub models</a>\n",
        "  </td>\n",
        "</table>"
      ]
    },
    {
      "cell_type": "markdown",
      "id": "661e6538",
      "metadata": {
        "id": "661e6538"
      },
      "source": [
        "## Setup"
      ]
    },
    {
      "cell_type": "code",
      "execution_count": 1,
      "id": "f2b73e50-6538-4af5-9878-ed99489409f5",
      "metadata": {
        "id": "f2b73e50-6538-4af5-9878-ed99489409f5"
      },
      "outputs": [
        {
          "name": "stderr",
          "output_type": "stream",
          "text": [
            "Der Befehl \"wget\" ist entweder falsch geschrieben oder\n",
            "konnte nicht gefunden werden.\n"
          ]
        }
      ],
      "source": [
        "!wget https://storage.googleapis.com/bit_models/ilsvrc2012_wordnet_lemmas.txt -O ilsvrc2012_wordnet_lemmas.txt"
      ]
    },
    {
      "cell_type": "code",
      "execution_count": 6,
      "id": "43974820-4eeb-4b3a-90b4-9ddfa00d1cb9",
      "metadata": {
        "id": "43974820-4eeb-4b3a-90b4-9ddfa00d1cb9"
      },
      "outputs": [],
      "source": [
        "import tensorflow as tf\n",
        "import tensorflow_hub as hub\n",
        "from tensorflow import keras\n",
        "\n",
        "\n",
        "from PIL import Image\n",
        "from io import BytesIO\n",
        "\n",
        "import matplotlib.pyplot as plt\n",
        "import numpy as np\n",
        "import requests\n",
        "import cv2"
      ]
    },
    {
      "cell_type": "markdown",
      "id": "z5l1cRpiSavW",
      "metadata": {
        "id": "z5l1cRpiSavW"
      },
      "source": [
        "## Select a [Swin](https://arxiv.org/abs/2103.14030) ImageNet-1k model\n",
        "\n",
        "Find the entire collection [here](https://tfhub.dev/sayakpaul/collections/swin/1). For inferring with the ImageNet-22k models, please refer [here](https://tfhub.dev/google/bit/m-r50x1/imagenet21k_classification/1#usage)."
      ]
    },
    {
      "cell_type": "code",
      "execution_count": 7,
      "id": "a0wM8idaSaOq",
      "metadata": {
        "id": "a0wM8idaSaOq"
      },
      "outputs": [
        {
          "name": "stdout",
          "output_type": "stream",
          "text": [
            "Input resolution: 224 x 224 x 3.\n",
            "TF-Hub handle: https://tfhub.dev/sayakpaul/swin_tiny_patch4_window7_224/1.\n"
          ]
        }
      ],
      "source": [
        "model_name = \"swin_tiny_patch4_window7_224\" #@param [\"swin_tiny_patch4_window7_224\", \"swin_small_patch4_window7_224\", \"swin_base_patch4_window7_224\", \"swin_base_patch4_window12_384\", \"swin_large_patch4_window7_224\", \"swin_large_patch4_window7_384\", \"swin_s3_tiny_224\", \"swin_s3_small_224\", \"swin_s3_base_224\"]\n",
        "\n",
        "model_handle_map ={\n",
        "    \"swin_tiny_patch4_window7_224\": \"https://tfhub.dev/sayakpaul/swin_tiny_patch4_window7_224/1\",\n",
        "    \"swin_small_patch4_window7_224\": \"https://tfhub.dev/sayakpaul/swin_small_patch4_window7_224/1\",\n",
        "    \"swin_base_patch4_window7_224\": \"https://tfhub.dev/sayakpaul/swin_base_patch4_window7_224/1\",\n",
        "    \"swin_base_patch4_window12_384\": \"https://tfhub.dev/sayakpaul/swin_base_patch4_window12_384/1\",\n",
        "    \"swin_large_patch4_window7_224\": \"https://tfhub.dev/sayakpaul/swin_large_patch4_window7_224/1\",\n",
        "    \"swin_large_patch4_window7_384\": \"https://tfhub.dev/sayakpaul/swin_large_patch4_window7_384/1\",\n",
        "    \"swin_s3_tiny_224\": \"https://tfhub.dev/sayakpaul/swin_s3_tiny_224/1\",\n",
        "    \"swin_s3_small_224\": \"https://tfhub.dev/sayakpaul/swin_s3_small_224/1\",\n",
        "    \"swin_s3_base_224\": \"https://tfhub.dev/sayakpaul/swin_s3_base_224/1\",\n",
        "}\n",
        "\n",
        "input_resolution = int(model_name.split(\"_\")[-1])\n",
        "model_handle = model_handle_map[model_name]\n",
        "print(f\"Input resolution: {input_resolution} x {input_resolution} x 3.\")\n",
        "print(f\"TF-Hub handle: {model_handle}.\")"
      ]
    },
    {
      "cell_type": "markdown",
      "id": "441b5361",
      "metadata": {
        "id": "441b5361"
      },
      "source": [
        "## Image preprocessing utilities"
      ]
    },
    {
      "cell_type": "code",
      "execution_count": 8,
      "id": "63e76ff1-e1e0-4c6a-91b2-4114aad60e5b",
      "metadata": {
        "id": "63e76ff1-e1e0-4c6a-91b2-4114aad60e5b"
      },
      "outputs": [],
      "source": [
        "crop_layer = keras.layers.CenterCrop(input_resolution, input_resolution)\n",
        "norm_layer = keras.layers.Normalization(\n",
        "    mean=[0.485 * 255, 0.456 * 255, 0.406 * 255],\n",
        "    variance=[(0.229 * 255) ** 2, (0.224 * 255) ** 2, (0.225 * 255) ** 2],\n",
        ")\n",
        "\n",
        "\n",
        "def preprocess_image(image, size=input_resolution):\n",
        "    image = np.array(image)\n",
        "    image_resized = tf.expand_dims(image, 0)\n",
        "\n",
        "    if size == 224:\n",
        "        resize_size = int((256 / 224) * size)\n",
        "        image_resized = tf.image.resize(image_resized, (resize_size, resize_size), method=\"bicubic\")\n",
        "        image_resized = crop_layer(image_resized)\n",
        "    else:\n",
        "        image_resized = tf.image.resize(image_resized, (size, size), method=\"bicubic\")\n",
        "\n",
        "    return norm_layer(image_resized).numpy()\n",
        "\n",
        "\n",
        "def load_image_from_url(url):\n",
        "    # Credit: Willi Gierke\n",
        "    image = Image.open('data/cat.jpeg')\n",
        "    preprocessed_image = preprocess_image(image)\n",
        "    return image, preprocessed_image"
      ]
    },
    {
      "cell_type": "markdown",
      "id": "8b961e14",
      "metadata": {
        "id": "8b961e14"
      },
      "source": [
        "## Load ImageNet-1k labels and a demo image"
      ]
    },
    {
      "cell_type": "code",
      "execution_count": 12,
      "id": "8dc9250a-5eb6-4547-8893-dd4c746ab53b",
      "metadata": {
        "id": "8dc9250a-5eb6-4547-8893-dd4c746ab53b"
      },
      "outputs": [
        {
          "ename": "UnidentifiedImageError",
          "evalue": "cannot identify image file <_io.BytesIO object at 0x000002BCF3A26CF0>",
          "output_type": "error",
          "traceback": [
            "\u001b[1;31m---------------------------------------------------------------------------\u001b[0m",
            "\u001b[1;31mUnidentifiedImageError\u001b[0m                    Traceback (most recent call last)",
            "Cell \u001b[1;32mIn[12], line 6\u001b[0m\n\u001b[0;32m      3\u001b[0m imagenet_int_to_str \u001b[38;5;241m=\u001b[39m [line\u001b[38;5;241m.\u001b[39mrstrip() \u001b[38;5;28;01mfor\u001b[39;00m line \u001b[38;5;129;01min\u001b[39;00m lines]\n\u001b[0;32m      5\u001b[0m img_url \u001b[38;5;241m=\u001b[39m \u001b[38;5;124m\"\u001b[39m\u001b[38;5;124mhttps://en.wikipedia.org/wiki/Elephant#/media/File:African_Bush_Elephant.jpg\u001b[39m\u001b[38;5;124m\"\u001b[39m\n\u001b[1;32m----> 6\u001b[0m image, preprocessed_image \u001b[38;5;241m=\u001b[39m \u001b[43mload_image_from_url\u001b[49m\u001b[43m(\u001b[49m\u001b[43mimg_url\u001b[49m\u001b[43m)\u001b[49m\n\u001b[0;32m      8\u001b[0m plt\u001b[38;5;241m.\u001b[39mimshow(image)\n\u001b[0;32m      9\u001b[0m plt\u001b[38;5;241m.\u001b[39mshow()\n",
            "Cell \u001b[1;32mIn[8], line 25\u001b[0m, in \u001b[0;36mload_image_from_url\u001b[1;34m(url)\u001b[0m\n\u001b[0;32m     22\u001b[0m \u001b[38;5;28;01mdef\u001b[39;00m \u001b[38;5;21mload_image_from_url\u001b[39m(url):\n\u001b[0;32m     23\u001b[0m     \u001b[38;5;66;03m# Credit: Willi Gierke\u001b[39;00m\n\u001b[0;32m     24\u001b[0m     response \u001b[38;5;241m=\u001b[39m requests\u001b[38;5;241m.\u001b[39mget(url)\n\u001b[1;32m---> 25\u001b[0m     image \u001b[38;5;241m=\u001b[39m \u001b[43mImage\u001b[49m\u001b[38;5;241;43m.\u001b[39;49m\u001b[43mopen\u001b[49m\u001b[43m(\u001b[49m\u001b[43mBytesIO\u001b[49m\u001b[43m(\u001b[49m\u001b[43mresponse\u001b[49m\u001b[38;5;241;43m.\u001b[39;49m\u001b[43mcontent\u001b[49m\u001b[43m)\u001b[49m\u001b[43m)\u001b[49m\n\u001b[0;32m     26\u001b[0m     preprocessed_image \u001b[38;5;241m=\u001b[39m preprocess_image(image)\n\u001b[0;32m     27\u001b[0m     \u001b[38;5;28;01mreturn\u001b[39;00m image, preprocessed_image\n",
            "File \u001b[1;32mc:\\Users\\lucas\\.conda\\envs\\tf\\lib\\site-packages\\PIL\\Image.py:3339\u001b[0m, in \u001b[0;36mopen\u001b[1;34m(fp, mode, formats)\u001b[0m\n\u001b[0;32m   3337\u001b[0m     warnings\u001b[38;5;241m.\u001b[39mwarn(message)\n\u001b[0;32m   3338\u001b[0m msg \u001b[38;5;241m=\u001b[39m \u001b[38;5;124m\"\u001b[39m\u001b[38;5;124mcannot identify image file \u001b[39m\u001b[38;5;132;01m%r\u001b[39;00m\u001b[38;5;124m\"\u001b[39m \u001b[38;5;241m%\u001b[39m (filename \u001b[38;5;28;01mif\u001b[39;00m filename \u001b[38;5;28;01melse\u001b[39;00m fp)\n\u001b[1;32m-> 3339\u001b[0m \u001b[38;5;28;01mraise\u001b[39;00m UnidentifiedImageError(msg)\n",
            "\u001b[1;31mUnidentifiedImageError\u001b[0m: cannot identify image file <_io.BytesIO object at 0x000002BCF3A26CF0>"
          ]
        }
      ],
      "source": [
        "with open(\"ilsvrc2012_wordnet_lemmas.txt\", \"r\") as f:\n",
        "    lines = f.readlines()\n",
        "imagenet_int_to_str = [line.rstrip() for line in lines]\n",
        "\n",
        "img_url = \"https://en.wikipedia.org/wiki/Elephant#/media/File:African_Bush_Elephant.jpg\"\n",
        "image, preprocessed_image = load_image_from_url(img_url)\n",
        "\n",
        "plt.imshow(image)\n",
        "plt.show()"
      ]
    },
    {
      "cell_type": "markdown",
      "id": "9006a643",
      "metadata": {
        "id": "9006a643"
      },
      "source": [
        "## Run inference"
      ]
    },
    {
      "cell_type": "code",
      "execution_count": null,
      "id": "bHnCyJtAf9el",
      "metadata": {
        "id": "bHnCyJtAf9el"
      },
      "outputs": [],
      "source": [
        "def get_model(model_url: str) -> tf.keras.Model:\n",
        "    inputs = tf.keras.Input((input_resolution, input_resolution, 3))\n",
        "    hub_module = hub.KerasLayer(model_url)\n",
        "\n",
        "    outputs = hub_module(inputs)\n",
        "\n",
        "    return tf.keras.Model(inputs, outputs)"
      ]
    },
    {
      "cell_type": "code",
      "execution_count": null,
      "id": "8dfd2c7d-e454-48da-a40b-cd5d6f6c4908",
      "metadata": {
        "id": "8dfd2c7d-e454-48da-a40b-cd5d6f6c4908"
      },
      "outputs": [],
      "source": [
        "classification_model = get_model(model_handle)\n",
        "predictions = classification_model.predict(preprocessed_image)\n",
        "predicted_label = imagenet_int_to_str[int(np.argmax(predictions))]\n",
        "print(predicted_label)"
      ]
    },
    {
      "cell_type": "markdown",
      "id": "wPisHE9lMmaN",
      "metadata": {
        "id": "wPisHE9lMmaN"
      },
      "source": [
        "## Obtain attention scores"
      ]
    },
    {
      "cell_type": "code",
      "execution_count": null,
      "id": "cRO5v-yPMoEO",
      "metadata": {
        "id": "cRO5v-yPMoEO"
      },
      "outputs": [],
      "source": [
        "swin_tiny_patch4_window7_224_tf = tf.keras.models.load_model(\n",
        "    f\"gs://tfhub-modules/sayakpaul/{model_name}/1/uncompressed\"\n",
        ")\n",
        "all_attn_scores = swin_tiny_patch4_window7_224_tf.get_attention_scores(\n",
        "    preprocessed_image\n",
        ")\n",
        "print(all_attn_scores.keys())"
      ]
    },
    {
      "cell_type": "code",
      "execution_count": null,
      "id": "GwRtcNR2NLrC",
      "metadata": {
        "id": "GwRtcNR2NLrC"
      },
      "outputs": [],
      "source": [
        "# attn score dimensions:\n",
        "# (batch_size, nb_attention_heads, seq_length, seq_length)\n",
        "print(all_attn_scores[\"swin_stage_3\"].keys()), print(all_attn_scores[\"swin_stage_3\"][\"swin_block_0\"].shape)"
      ]
    }
  ],
  "metadata": {
    "accelerator": "GPU",
    "colab": {
      "machine_shape": "hm",
      "name": "classification.ipynb",
      "provenance": []
    },
    "environment": {
      "kernel": "python3",
      "name": "tf2-gpu.2-7.m87",
      "type": "gcloud",
      "uri": "gcr.io/deeplearning-platform-release/tf2-gpu.2-7:m87"
    },
    "kernelspec": {
      "display_name": "Python 3",
      "language": "python",
      "name": "python3"
    },
    "language_info": {
      "codemirror_mode": {
        "name": "ipython",
        "version": 3
      },
      "file_extension": ".py",
      "mimetype": "text/x-python",
      "name": "python",
      "nbconvert_exporter": "python",
      "pygments_lexer": "ipython3",
      "version": "3.10.10"
    }
  },
  "nbformat": 4,
  "nbformat_minor": 5
}
