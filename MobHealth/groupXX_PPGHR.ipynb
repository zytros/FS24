{
 "cells": [
  {
   "cell_type": "code",
   "execution_count": 1,
   "metadata": {
    "collapsed": false,
    "pycharm": {
     "name": "#%%\n"
    }
   },
   "outputs": [],
   "source": [
    "# Instructions for submission\n",
    "\n",
    "# 1. Rename this file to groupXX_PPGHR.ipynb where XX is your group number as visible in the Google spreadsheet\n",
    "# 2. State the team members (e-mail, legi):\n",
    "# example@student.ethz.ch, XX-YYY-ZZZ\n",
    "# JOE MAMA\n",
    "# FAT ASS\n",
    "# TO BE FILLED\n",
    "# 3. Kaggle team name: TO BE FILLED\n",
    "# 4. Upload this file in a zipped folder together with your final predictions to the provided Polybox link. See the Submission section in the PDF for more details."
   ]
  },
  {
   "cell_type": "code",
   "execution_count": 17,
   "metadata": {
    "collapsed": false,
    "pycharm": {
     "name": "#%%\n"
    }
   },
   "outputs": [],
   "source": [
    "# Import necessary libraries\n",
    "import matplotlib.dates as mdates\n",
    "import matplotlib.pyplot as plt\n",
    "import numpy as np\n",
    "import pandas as pd\n",
    "from scipy.signal import butter, lfilter\n",
    "from sklearn.model_selection import train_test_split\n",
    "from sktime.regression.deep_learning.resnet import ResNetRegressor\n",
    "from sktime.regression.deep_learning.cnn import CNNRegressor\n",
    "from sktime.regression.deep_learning.mcdcnn import MCDCNNRegressor\n",
    "import torch\n",
    "import torch.nn as nn\n",
    "from torch.utils.data import TensorDataset, DataLoader\n",
    "import xgboost as xgb\n"
   ]
  },
  {
   "cell_type": "code",
   "execution_count": 2,
   "metadata": {},
   "outputs": [],
   "source": [
    "def butter_lowpass(cutoff, fs, order=5):\n",
    "    nyq = 0.5 * fs\n",
    "    normal_cutoff = cutoff / nyq\n",
    "    b, a = butter(order, normal_cutoff, btype='low', analog=False)\n",
    "    return b, a\n",
    "\n",
    "def lowpass_filter(data, cutoff, fs, order=5):\n",
    "    b, a = butter_lowpass(cutoff, fs, order=order)\n",
    "    y = lfilter(b, a, data)\n",
    "    return y\n",
    "\n",
    "def passband_heart(ppg_signal, fs):\n",
    "    # Bandpass filter to isolate heart rate component\n",
    "    # : highcut to 160bpm = 2.67Hz\n",
    "    lowcut = 0.67 / (0.5 * fs)  # 40 bpm\n",
    "    highcut = 2.67 / (0.5 * fs)  # 240 bpm\n",
    "    b, a = butter(1, [lowcut, highcut], btype='band')\n",
    "    filtered_signal = lfilter(b, a, ppg_signal)\n",
    "    return filtered_signal\n",
    "\n",
    "def normalize_data(data):\n",
    "    min_val = np.min(data)\n",
    "    max_val = np.max(data)\n",
    "    normalized_data = (data - min_val) / (max_val - min_val)\n",
    "    return normalized_data"
   ]
  },
  {
   "cell_type": "code",
   "execution_count": 135,
   "metadata": {},
   "outputs": [],
   "source": [
    "def prepare_data(phase,y):\n",
    "    INTERVAL_LENGTH = 128*30\n",
    "    X = []\n",
    "    for i in range(len(y)):\n",
    "        X.append(phase[i*INTERVAL_LENGTH:(i+1)*INTERVAL_LENGTH])\n",
    "    return np.array(X)\n",
    "\n",
    "def prepare_full_data(ppg, accx, accy, accz):\n",
    "    INTERVAL_LENGTH = 128*30\n",
    "    # Normalize the PPG signal\n",
    "    ppg_normalized = normalize_data(ppg)\n",
    "    accx_normalized = normalize_data(accx)\n",
    "    accy_normalized = normalize_data(accy)\n",
    "    accz_normalized = normalize_data(accz)\n",
    "    ds = []\n",
    "    for i in range(len(ppg) // INTERVAL_LENGTH):\n",
    "        ppg_interval = ppg_normalized[i*INTERVAL_LENGTH:(i+1)*INTERVAL_LENGTH]\n",
    "        accx_interval = accx_normalized[i*INTERVAL_LENGTH:(i+1)*INTERVAL_LENGTH]\n",
    "        accy_interval = accy_normalized[i*INTERVAL_LENGTH:(i+1)*INTERVAL_LENGTH]\n",
    "        accz_interval = accz_normalized[i*INTERVAL_LENGTH:(i+1)*INTERVAL_LENGTH]\n",
    "        ds.append([ppg_interval, accx_interval, accy_interval, accz_interval])\n",
    "    \n",
    "\n",
    "    # Combine the normalized signals into a single array\n",
    "    data = np.array(ds)\n",
    "\n",
    "    return data\n",
    "\n",
    "def split_data(X, y, test_size=0.2, random_state=42):\n",
    "    X_train, X_test, y_train, y_test = train_test_split(X, y, test_size=test_size, random_state=random_state)\n",
    "    return X_train, X_test, y_train, y_test\n",
    "\n",
    "def create_dataloaders_from_arrays(X_train, y_train, X_test, y_test, batch_size=16):\n",
    "    # Convert arrays to PyTorch tensors\n",
    "    X_train = np.array(X_train, dtype=np.float32)\n",
    "    y_train = np.array(y_train, dtype=np.float32)\n",
    "    X_test = np.array(X_test, dtype=np.float32)\n",
    "    y_test = np.array(y_test, dtype=np.float32)\n",
    "    X_train_torch = torch.tensor(X_train)\n",
    "    y_train_torch = torch.tensor(y_train)\n",
    "    X_test_torch = torch.tensor(X_test)\n",
    "    y_test_torch = torch.tensor(y_test)\n",
    "\n",
    "    # Create TensorDatasets\n",
    "    train_dataset = TensorDataset(X_train_torch, y_train_torch)\n",
    "    test_dataset = TensorDataset(X_test_torch, y_test_torch)\n",
    "\n",
    "    # Create DataLoaders\n",
    "    train_loader = DataLoader(dataset=train_dataset, batch_size=batch_size, shuffle=True)\n",
    "    test_loader = DataLoader(dataset=test_dataset, batch_size=batch_size, shuffle=False)\n",
    "\n",
    "    return train_loader, test_loader\n",
    "\n",
    "def train_model(model, train_loader, num_epochs=10):\n",
    "    # Use GPU if available\n",
    "    device = torch.device(\"cuda\" if torch.cuda.is_available() else \"cpu\")\n",
    "    print(f'Using device {device}')\n",
    "    model = model.to(device)\n",
    "\n",
    "    # Define the loss function and optimizer\n",
    "    loss_fn = nn.MSELoss()\n",
    "    optimizer = torch.optim.Adam(model.parameters())\n",
    "\n",
    "    for epoch in range(num_epochs):\n",
    "        for i, (inputs, labels) in enumerate(train_loader):\n",
    "            inputs = inputs.to(device)\n",
    "            labels = labels.to(device)\n",
    "\n",
    "            # Forward pass\n",
    "            outputs = model(inputs)\n",
    "            loss = loss_fn(outputs, labels)\n",
    "\n",
    "            # Backward pass and optimize\n",
    "            optimizer.zero_grad()\n",
    "            loss.backward()\n",
    "            optimizer.step()\n",
    "\n",
    "        print(f'Epoch [{epoch+1}/{num_epochs}], Loss: {loss.item()}')\n",
    "\n",
    "    return model\n",
    "\n",
    "    \n",
    "def predict(model, data):\n",
    "    # Convert the data to a PyTorch tensor and add an extra dimension\n",
    "    data_tensor = torch.tensor(data, dtype=torch.float32).unsqueeze(0)\n",
    "\n",
    "    # Use GPU if available\n",
    "    device = torch.device(\"cuda\" if torch.cuda.is_available() else \"cpu\")\n",
    "    data_tensor = data_tensor.to(device)\n",
    "    model = model.to(device)\n",
    "\n",
    "    # Set the model to evaluation mode\n",
    "    model.eval()\n",
    "\n",
    "    # Make the prediction\n",
    "    with torch.no_grad():\n",
    "        output = model(data_tensor)\n",
    "\n",
    "    # Convert the output tensor to a numpy array and return it\n",
    "    return output.cpu().numpy()\n",
    "\n",
    "def prepare_full_data_xgb(ppg,accx,accy,accz):\n",
    "    INTERVAL_LENGTH = 128*30\n",
    "    # Normalize the PPG signal\n",
    "    ppg_normalized = normalize_data(ppg)\n",
    "    accx_normalized = normalize_data(accx)\n",
    "    accy_normalized = normalize_data(accy)\n",
    "    accz_normalized = normalize_data(accz)\n",
    "    ds = []\n",
    "    for i in range(len(ppg) // INTERVAL_LENGTH):\n",
    "        ppg_interval = ppg_normalized[i*INTERVAL_LENGTH:(i+1)*INTERVAL_LENGTH]\n",
    "        accx_interval = accx_normalized[i*INTERVAL_LENGTH:(i+1)*INTERVAL_LENGTH]\n",
    "        accy_interval = accy_normalized[i*INTERVAL_LENGTH:(i+1)*INTERVAL_LENGTH]\n",
    "        accz_interval = accz_normalized[i*INTERVAL_LENGTH:(i+1)*INTERVAL_LENGTH]\n",
    "        ds.append(np.concatenate((ppg_interval, accx_interval, accy_interval, accz_interval)))\n",
    "    \n",
    "\n",
    "    # Combine the normalized signals into a single array\n",
    "    data = np.array(ds)\n",
    "    print('data shape:', data.shape)\n",
    "\n",
    "    return data\n"
   ]
  },
  {
   "cell_type": "code",
   "execution_count": 136,
   "metadata": {
    "collapsed": false,
    "pycharm": {
     "name": "#%%\n"
    }
   },
   "outputs": [
    {
     "name": "stdout",
     "output_type": "stream",
     "text": [
      "Keys for data: dict_keys(['phase 0', 'phase 1', 'phase 2', 'phase 3', 'phase 4', 'phase 5'])\n",
      "Keys for phase 0: dict_keys(['ground truth HR', 'PPG wrist', 'IMU X wrist', 'IMU Y wrist', 'IMU Z wrist'])\n"
     ]
    }
   ],
   "source": [
    "sampling_rate = 128  # Hz\n",
    "\n",
    "# Load data item containing the PPG, HR, and IMU signals from all phases\n",
    "data = np.load('mhealth24_data_public.npy', allow_pickle=True).item() # now it is a dict\n",
    "\n",
    "print('Keys for data:', data.keys())\n",
    "\n",
    "# Example to extract the data from phase 0\n",
    "# phase 0,3: wrist\n",
    "# testing: phases 1,3,5\n",
    "phase0_data = data['phase 0']\n",
    "phase1_data = data['phase 1']\n",
    "phase2_data = data['phase 2']\n",
    "phase3_data = data['phase 3']\n",
    "phase4_data = data['phase 4']\n",
    "phase5_data = data['phase 5']\n",
    "print('Keys for phase 0:', phase0_data.keys())\n",
    "\n",
    "# Get the individual signals from phase 0\n",
    "ppg_phase0 = phase0_data['PPG wrist']\n",
    "ref_hr_phase0 = phase0_data['ground truth HR']  # only available for phase 0, 2, and 4 (training data)\n",
    "IMU_X_phase0 = phase0_data['IMU X wrist']\n",
    "IMU_Y_phase0 = phase0_data['IMU Y wrist']\n",
    "IMU_Z_phase0 = phase0_data['IMU Z wrist']\n",
    "ppg_phase1 = phase1_data['PPG head']\n",
    "IMU_X_phase1 = phase1_data['IMU X head']\n",
    "IMU_Y_phase1 = phase1_data['IMU Y head']\n",
    "IMU_Z_phase1 = phase1_data['IMU Z head']\n",
    "ppg_phase2 = phase2_data['PPG head']\n",
    "ref_hr_phase2 = phase2_data['ground truth HR']\n",
    "IMU_X_phase2 = phase2_data['IMU X head']\n",
    "IMU_Y_phase2 = phase2_data['IMU Y head']\n",
    "IMU_Z_phase2 = phase2_data['IMU Z head']\n",
    "ppg_phase3 = phase3_data['PPG wrist']\n",
    "IMU_X_phase3 = phase3_data['IMU X wrist']\n",
    "IMU_Y_phase3 = phase3_data['IMU Y wrist']\n",
    "IMU_Z_phase3 = phase3_data['IMU Z wrist']\n",
    "ppg_phase4 = phase4_data['PPG head']\n",
    "ref_hr_phase4 = phase4_data['ground truth HR']\n",
    "IMU_X_phase4 = phase4_data['IMU X head']\n",
    "IMU_Y_phase4 = phase4_data['IMU Y head']\n",
    "IMU_Z_phase4 = phase4_data['IMU Z head']\n",
    "ppg_phase5 = phase5_data['PPG head']\n",
    "IMU_X_phase5 = phase5_data['IMU X head']\n",
    "IMU_Y_phase5 = phase5_data['IMU Y head']\n",
    "IMU_Z_phase5 = phase5_data['IMU Z head']\n",
    "\n"
   ]
  },
  {
   "cell_type": "code",
   "execution_count": 137,
   "metadata": {},
   "outputs": [
    {
     "data": {
      "text/plain": [
       "((1739520,), (453,))"
      ]
     },
     "execution_count": 137,
     "metadata": {},
     "output_type": "execute_result"
    }
   ],
   "source": [
    "data_x = np.concatenate((ppg_phase2, ppg_phase4), axis=0)\n",
    "y = np.concatenate((ref_hr_phase2, ref_hr_phase4), axis=0)\n",
    "data_x.shape, y.shape"
   ]
  },
  {
   "cell_type": "code",
   "execution_count": 138,
   "metadata": {},
   "outputs": [],
   "source": [
    "y = ref_hr_phase0\n",
    "\n",
    "sig_flt = passband_heart(ppg_phase0, sampling_rate)\n",
    "X = prepare_data(sig_flt,y)\n",
    "X = normalize_data(X)\n",
    "X_train, X_test, y_train, y_test = split_data(X, y)"
   ]
  },
  {
   "cell_type": "code",
   "execution_count": 214,
   "metadata": {},
   "outputs": [
    {
     "name": "stdout",
     "output_type": "stream",
     "text": [
      "(57, 4, 3840)\n"
     ]
    }
   ],
   "source": [
    "D = prepare_full_data(ppg_phase4, IMU_X_phase4, IMU_Y_phase4, IMU_Z_phase4)\n",
    "print(D.shape)\n",
    "D_train, D_test, yD_train, yD_test = split_data(D, ref_hr_phase4)"
   ]
  },
  {
   "cell_type": "code",
   "execution_count": 208,
   "metadata": {},
   "outputs": [
    {
     "name": "stdout",
     "output_type": "stream",
     "text": [
      "data shape: (396, 15360)\n",
      "data shape: (396, 15360)\n",
      "data shape: (396, 15360)\n",
      "data shape: (396, 15360)\n",
      "data shape: (57, 15360)\n",
      "data shape: (57, 15360)\n"
     ]
    }
   ],
   "source": [
    "XGB_D_0 = prepare_full_data_xgb(passband_heart(ppg_phase0, sampling_rate), IMU_X_phase0, IMU_Y_phase0, IMU_Z_phase0)\n",
    "XGB_D_1 = prepare_full_data_xgb(passband_heart(ppg_phase1, sampling_rate), IMU_X_phase1, IMU_Y_phase1, IMU_Z_phase1)\n",
    "XGB_D_2 = prepare_full_data_xgb(passband_heart(ppg_phase2, sampling_rate), IMU_X_phase2, IMU_Y_phase2, IMU_Z_phase2)\n",
    "XGB_D_3 = prepare_full_data_xgb(passband_heart(ppg_phase3, sampling_rate), IMU_X_phase3, IMU_Y_phase3, IMU_Z_phase3)\n",
    "XGB_D_4 = prepare_full_data_xgb(passband_heart(ppg_phase4, sampling_rate), IMU_X_phase4, IMU_Y_phase4, IMU_Z_phase4)\n",
    "XGB_D_5 = prepare_full_data_xgb(passband_heart(ppg_phase5, sampling_rate), IMU_X_phase5, IMU_Y_phase5, IMU_Z_phase5)\n",
    "XGB_D_train, XGB_D_test, yXGB_D_train, yXGB_D_test = split_data(XGB_D_4, ref_hr_phase4)"
   ]
  },
  {
   "cell_type": "code",
   "execution_count": 260,
   "metadata": {
    "execution": {
     "iopub.execute_input": "2024-02-27T16:41:39.118559Z",
     "iopub.status.busy": "2024-02-27T16:41:39.118082Z",
     "iopub.status.idle": "2024-02-27T16:41:39.410371Z",
     "shell.execute_reply": "2024-02-27T16:41:39.409061Z",
     "shell.execute_reply.started": "2024-02-27T16:41:39.118529Z"
    },
    "pycharm": {
     "is_executing": true,
     "name": "#%%\n"
    },
    "trusted": true
   },
   "outputs": [
    {
     "data": {
      "image/png": "[encoded data removed]",
      "text/plain": [
       "<Figure size 640x480 with 1 Axes>"
      ]
     },
     "metadata": {},
     "output_type": "display_data"
    },
    {
     "data": {
      "image/png": "[encoded data removed]",
      "text/plain": [
       "<Figure size 640x480 with 1 Axes>"
      ]
     },
     "metadata": {},
     "output_type": "display_data"
    }
   ],
   "source": [
    "# Function to plot any signal with time on the x-axis\n",
    "def plot_signal(signal, title, ylabel, sampling_rate=128):\n",
    "    x = np.linspace(0, len(signal) / sampling_rate, len(signal))\n",
    "    t = pd.to_datetime(x, unit='s')\n",
    "\n",
    "    fig, ax = plt.subplots()\n",
    "    ax.plot(t, signal)\n",
    "    ax.set_title(title)\n",
    "    ax.set_xlabel('Time [min:sec]')\n",
    "    ax.set_ylabel(ylabel)\n",
    "    ax.xaxis.set_major_formatter(mdates.DateFormatter('%M:%S'))\n",
    "    plt.show()\n",
    "\n",
    "# If you want to be able to interactively look at your plotted data (e.g., zooming in or out),\n",
    "# uncomment the line with \"%matplotlib widget\" below\n",
    "# Careful: This does not work on Kaggle, but requires that you run the Jupyter Notebook locally on your computer\n",
    "# If you have an interactive plot and you want to go back to the non-interactive plot, comment the line with \n",
    "# \"%matplotlib widget\" out and restart your kernel\n",
    "# If you accidently run this script on Kaggle when \"%matplotlib widget\" is not commented out and you receive an error afterwards that your plot cannot be plotted, comment \"%matplotlib widget\" out and restart the kernel via \"Run << Factory reset\"\n",
    "\n",
    "# %matplotlib widget\n",
    "\n",
    "# Example plot of a 10-second window of the PPG signal\n",
    "plot_window_start = 320  # in seconds\n",
    "plot_window_end = 325  # in seconds\n",
    "plot_signal(ppg_phase4[plot_window_start*sampling_rate:plot_window_end*sampling_rate], 'PPG wrist', 'Amplitude')\n",
    "plot_signal(passband_heart(ppg_phase4, sampling_rate)[plot_window_start*sampling_rate:plot_window_end*sampling_rate], 'PPG filtered', 'amplitude')\n"
   ]
  },
  {
   "cell_type": "code",
   "execution_count": 10,
   "metadata": {
    "execution": {
     "iopub.execute_input": "2024-02-27T16:43:33.477338Z",
     "iopub.status.busy": "2024-02-27T16:43:33.476869Z",
     "iopub.status.idle": "2024-02-27T16:43:33.486836Z",
     "shell.execute_reply": "2024-02-27T16:43:33.485998Z",
     "shell.execute_reply.started": "2024-02-27T16:43:33.477304Z"
    },
    "pycharm": {
     "is_executing": true,
     "name": "#%%\n"
    },
    "trusted": true
   },
   "outputs": [
    {
     "name": "stdout",
     "output_type": "stream",
     "text": [
      "Mean error: 45.880, Median error 40.329\n",
      "Resulting score 43.105\n"
     ]
    }
   ],
   "source": [
    "# Function to print the mean and median absolute error between your predicted HR and the reference HR\n",
    "# With this function, you can evaluate the resulting score that you would obtain on the public dataset\n",
    "# with your predicted HR values on Kaggle\n",
    "def print_score(pred_hr, ref_hr):\n",
    "    err = np.abs(np.asarray(pred_hr) - np.asarray(ref_hr))\n",
    "    print(\"Mean error: {:4.3f}, Median error {:4.3f}\".format(np.mean(err), np.median(err)))\n",
    "    s = 0.5 * np.mean(err) + 0.5 * np.median(err)\n",
    "    print(\"Resulting score {:4.3f}\".format(s))\n",
    "    return s\n",
    "\n",
    "# Example on how to use the print_score function with randomly generated HR values as the predictions\n",
    "pred_hr_phase0 = list(np.random.randint(40, 180, len(ref_hr_phase0)))\n",
    "_ = print_score(pred_hr_phase0, ref_hr_phase0)"
   ]
  },
  {
   "cell_type": "code",
   "execution_count": 11,
   "metadata": {
    "execution": {
     "iopub.execute_input": "2024-02-27T16:44:07.531442Z",
     "iopub.status.busy": "2024-02-27T16:44:07.531059Z",
     "iopub.status.idle": "2024-02-27T16:44:07.556296Z",
     "shell.execute_reply": "2024-02-27T16:44:07.554873Z",
     "shell.execute_reply.started": "2024-02-27T16:44:07.531404Z"
    },
    "pycharm": {
     "name": "#%%\n"
    },
    "trusted": true
   },
   "outputs": [],
   "source": [
    "# For each phase, you should now have obtained a list of predicted HR values\n",
    "# Below, we give an example of how you can produce the submission.csv file from your predicted HR values\n",
    "# To demonstrate the format of the submission.csv file, we provide an example with randomly generated HR values\n",
    "# For phase 0, 1, 2, and 3 you should each obtain 396 HR values\n",
    "# For phase 4 and 5 you should each obtain 57 HR values\n",
    "# IMPORTANT: You have to replace the following predicted HR values with your predicted HR values!\n",
    "pred_hr_phase0 = list(np.random.randint(40, 180, 396))\n",
    "pred_hr_phase1 = list(np.random.randint(40, 180, 396))\n",
    "pred_hr_phase2 = list(np.random.randint(40, 180, 396))\n",
    "pred_hr_phase3 = list(np.random.randint(40, 180, 396))\n",
    "pred_hr_phase4 = list(np.random.randint(40, 180, 57))\n",
    "pred_hr_phase5 = list(np.random.randint(40, 180, 57))\n",
    "\n",
    "# You can keep the below code unchanged to produce the submission.csv file\n",
    "pred_hr_phases = [pred_hr_phase0, pred_hr_phase1, pred_hr_phase2,\n",
    "                  pred_hr_phase3, pred_hr_phase4, pred_hr_phase5]\n",
    "ids = []\n",
    "pred_hr_flattened = []\n",
    "\n",
    "for phase_counter in range(len(pred_hr_phases)):\n",
    "    for hr_counter in range(len(pred_hr_phases[phase_counter])):\n",
    "        pred_hr_flattened.append(pred_hr_phases[phase_counter][hr_counter])\n",
    "        ids.append(f'phase{phase_counter}_{hr_counter}')\n",
    "\n",
    "# If you use Kaggle, on the right side in tab \"Output\", you should now see a file called \"submission.csv\" after pressing \"refresh\"\n",
    "# Download the file and submit it to the competition on Kaggle to obtain a score on the leaderboard for your team\n",
    "df = pd.DataFrame({'Id': ids, 'Predicted': pred_hr_flattened})\n",
    "df.to_csv('submission.csv', index=False)"
   ]
  },
  {
   "cell_type": "code",
   "execution_count": 12,
   "metadata": {},
   "outputs": [],
   "source": [
    "def better_score(pred, ref, desc):\n",
    "    # Calculate the score\n",
    "    score = print_score(pred, ref)\n",
    "    with open('losses.txt', 'a') as f:\n",
    "        f.write(\"Score for \" + desc + \": \" + str(score) + \"\\n\")\n",
    "    return score"
   ]
  },
  {
   "cell_type": "code",
   "execution_count": 107,
   "metadata": {},
   "outputs": [
    {
     "data": {
      "text/html": [
       "<style>#sk-5b40c7fa-9d07-436c-98b0-36d4d689805e {color: black;background-color: white;}#sk-5b40c7fa-9d07-436c-98b0-36d4d689805e pre{padding: 0;}#sk-5b40c7fa-9d07-436c-98b0-36d4d689805e div.sk-toggleable {background-color: white;}#sk-5b40c7fa-9d07-436c-98b0-36d4d689805e label.sk-toggleable__label {cursor: pointer;display: block;width: 100%;margin-bottom: 0;padding: 0.3em;box-sizing: border-box;text-align: center;}#sk-5b40c7fa-9d07-436c-98b0-36d4d689805e label.sk-toggleable__label-arrow:before {content: \"▸\";float: left;margin-right: 0.25em;color: #696969;}#sk-5b40c7fa-9d07-436c-98b0-36d4d689805e label.sk-toggleable__label-arrow:hover:before {color: black;}#sk-5b40c7fa-9d07-436c-98b0-36d4d689805e div.sk-estimator:hover label.sk-toggleable__label-arrow:before {color: black;}#sk-5b40c7fa-9d07-436c-98b0-36d4d689805e div.sk-toggleable__content {max-height: 0;max-width: 0;overflow: hidden;text-align: left;background-color: #f0f8ff;}#sk-5b40c7fa-9d07-436c-98b0-36d4d689805e div.sk-toggleable__content pre {margin: 0.2em;color: black;border-radius: 0.25em;background-color: #f0f8ff;}#sk-5b40c7fa-9d07-436c-98b0-36d4d689805e input.sk-toggleable__control:checked~div.sk-toggleable__content {max-height: 200px;max-width: 100%;overflow: auto;}#sk-5b40c7fa-9d07-436c-98b0-36d4d689805e input.sk-toggleable__control:checked~label.sk-toggleable__label-arrow:before {content: \"▾\";}#sk-5b40c7fa-9d07-436c-98b0-36d4d689805e div.sk-estimator input.sk-toggleable__control:checked~label.sk-toggleable__label {background-color: #d4ebff;}#sk-5b40c7fa-9d07-436c-98b0-36d4d689805e div.sk-label input.sk-toggleable__control:checked~label.sk-toggleable__label {background-color: #d4ebff;}#sk-5b40c7fa-9d07-436c-98b0-36d4d689805e input.sk-hidden--visually {border: 0;clip: rect(1px 1px 1px 1px);clip: rect(1px, 1px, 1px, 1px);height: 1px;margin: -1px;overflow: hidden;padding: 0;position: absolute;width: 1px;}#sk-5b40c7fa-9d07-436c-98b0-36d4d689805e div.sk-estimator {font-family: monospace;background-color: #f0f8ff;border: 1px dotted black;border-radius: 0.25em;box-sizing: border-box;margin-bottom: 0.5em;}#sk-5b40c7fa-9d07-436c-98b0-36d4d689805e div.sk-estimator:hover {background-color: #d4ebff;}#sk-5b40c7fa-9d07-436c-98b0-36d4d689805e div.sk-parallel-item::after {content: \"\";width: 100%;border-bottom: 1px solid gray;flex-grow: 1;}#sk-5b40c7fa-9d07-436c-98b0-36d4d689805e div.sk-label:hover label.sk-toggleable__label {background-color: #d4ebff;}#sk-5b40c7fa-9d07-436c-98b0-36d4d689805e div.sk-serial::before {content: \"\";position: absolute;border-left: 1px solid gray;box-sizing: border-box;top: 2em;bottom: 0;left: 50%;}#sk-5b40c7fa-9d07-436c-98b0-36d4d689805e div.sk-serial {display: flex;flex-direction: column;align-items: center;background-color: white;padding-right: 0.2em;padding-left: 0.2em;}#sk-5b40c7fa-9d07-436c-98b0-36d4d689805e div.sk-item {z-index: 1;}#sk-5b40c7fa-9d07-436c-98b0-36d4d689805e div.sk-parallel {display: flex;align-items: stretch;justify-content: center;background-color: white;}#sk-5b40c7fa-9d07-436c-98b0-36d4d689805e div.sk-parallel::before {content: \"\";position: absolute;border-left: 1px solid gray;box-sizing: border-box;top: 2em;bottom: 0;left: 50%;}#sk-5b40c7fa-9d07-436c-98b0-36d4d689805e div.sk-parallel-item {display: flex;flex-direction: column;position: relative;background-color: white;}#sk-5b40c7fa-9d07-436c-98b0-36d4d689805e div.sk-parallel-item:first-child::after {align-self: flex-end;width: 50%;}#sk-5b40c7fa-9d07-436c-98b0-36d4d689805e div.sk-parallel-item:last-child::after {align-self: flex-start;width: 50%;}#sk-5b40c7fa-9d07-436c-98b0-36d4d689805e div.sk-parallel-item:only-child::after {width: 0;}#sk-5b40c7fa-9d07-436c-98b0-36d4d689805e div.sk-dashed-wrapped {border: 1px dashed gray;margin: 0 0.4em 0.5em 0.4em;box-sizing: border-box;padding-bottom: 0.4em;background-color: white;position: relative;}#sk-5b40c7fa-9d07-436c-98b0-36d4d689805e div.sk-label label {font-family: monospace;font-weight: bold;background-color: white;display: inline-block;line-height: 1.2em;}#sk-5b40c7fa-9d07-436c-98b0-36d4d689805e div.sk-label-container {position: relative;z-index: 2;text-align: center;}#sk-5b40c7fa-9d07-436c-98b0-36d4d689805e div.sk-container {/* jupyter's `normalize.less` sets `[hidden] { display: none; }` but bootstrap.min.css set `[hidden] { display: none !important; }` so we also need the `!important` here to be able to override the default hidden behavior on the sphinx rendered scikit-learn.org. See: https://github.com/scikit-learn/scikit-learn/issues/21755 */display: inline-block !important;position: relative;}#sk-5b40c7fa-9d07-436c-98b0-36d4d689805e div.sk-text-repr-fallback {display: none;}</style><div id='sk-5b40c7fa-9d07-436c-98b0-36d4d689805e' class=\"sk-top-container\"><div class=\"sk-text-repr-fallback\"><pre>ResNetRegressor(batch_size=4, n_epochs=10)</pre><b>Please rerun this cell to show the HTML repr or trust the notebook.</b></div><div class=\"sk-container\" hidden><div class='sk-item'><div class=\"sk-estimator sk-toggleable\"><input class=\"sk-toggleable__control sk-hidden--visually\" id=UUID('8fb5bfe4-908c-4b2d-a364-2fcbbcd0d24d') type=\"checkbox\" checked><label for=UUID('8fb5bfe4-908c-4b2d-a364-2fcbbcd0d24d') class='sk-toggleable__label sk-toggleable__label-arrow'>ResNetRegressor</label><div class=\"sk-toggleable__content\"><pre>ResNetRegressor(batch_size=4, n_epochs=10)</pre></div></div></div></div></div>"
      ],
      "text/plain": [
       "ResNetRegressor(batch_size=4, n_epochs=10)"
      ]
     },
     "execution_count": 107,
     "metadata": {},
     "output_type": "execute_result"
    }
   ],
   "source": [
    "clf = ResNetRegressor(n_epochs=10, batch_size=4) \n",
    "clf.fit(D_train, yD_train) \n",
    "\n",
    "#transferlearning XGBoost"
   ]
  },
  {
   "cell_type": "code",
   "execution_count": 258,
   "metadata": {},
   "outputs": [
    {
     "data": {
      "text/html": [
       "<style>#sk-d17d21c9-1fd2-4cdf-a342-e05cddeb7054 {color: black;background-color: white;}#sk-d17d21c9-1fd2-4cdf-a342-e05cddeb7054 pre{padding: 0;}#sk-d17d21c9-1fd2-4cdf-a342-e05cddeb7054 div.sk-toggleable {background-color: white;}#sk-d17d21c9-1fd2-4cdf-a342-e05cddeb7054 label.sk-toggleable__label {cursor: pointer;display: block;width: 100%;margin-bottom: 0;padding: 0.3em;box-sizing: border-box;text-align: center;}#sk-d17d21c9-1fd2-4cdf-a342-e05cddeb7054 label.sk-toggleable__label-arrow:before {content: \"▸\";float: left;margin-right: 0.25em;color: #696969;}#sk-d17d21c9-1fd2-4cdf-a342-e05cddeb7054 label.sk-toggleable__label-arrow:hover:before {color: black;}#sk-d17d21c9-1fd2-4cdf-a342-e05cddeb7054 div.sk-estimator:hover label.sk-toggleable__label-arrow:before {color: black;}#sk-d17d21c9-1fd2-4cdf-a342-e05cddeb7054 div.sk-toggleable__content {max-height: 0;max-width: 0;overflow: hidden;text-align: left;background-color: #f0f8ff;}#sk-d17d21c9-1fd2-4cdf-a342-e05cddeb7054 div.sk-toggleable__content pre {margin: 0.2em;color: black;border-radius: 0.25em;background-color: #f0f8ff;}#sk-d17d21c9-1fd2-4cdf-a342-e05cddeb7054 input.sk-toggleable__control:checked~div.sk-toggleable__content {max-height: 200px;max-width: 100%;overflow: auto;}#sk-d17d21c9-1fd2-4cdf-a342-e05cddeb7054 input.sk-toggleable__control:checked~label.sk-toggleable__label-arrow:before {content: \"▾\";}#sk-d17d21c9-1fd2-4cdf-a342-e05cddeb7054 div.sk-estimator input.sk-toggleable__control:checked~label.sk-toggleable__label {background-color: #d4ebff;}#sk-d17d21c9-1fd2-4cdf-a342-e05cddeb7054 div.sk-label input.sk-toggleable__control:checked~label.sk-toggleable__label {background-color: #d4ebff;}#sk-d17d21c9-1fd2-4cdf-a342-e05cddeb7054 input.sk-hidden--visually {border: 0;clip: rect(1px 1px 1px 1px);clip: rect(1px, 1px, 1px, 1px);height: 1px;margin: -1px;overflow: hidden;padding: 0;position: absolute;width: 1px;}#sk-d17d21c9-1fd2-4cdf-a342-e05cddeb7054 div.sk-estimator {font-family: monospace;background-color: #f0f8ff;border: 1px dotted black;border-radius: 0.25em;box-sizing: border-box;margin-bottom: 0.5em;}#sk-d17d21c9-1fd2-4cdf-a342-e05cddeb7054 div.sk-estimator:hover {background-color: #d4ebff;}#sk-d17d21c9-1fd2-4cdf-a342-e05cddeb7054 div.sk-parallel-item::after {content: \"\";width: 100%;border-bottom: 1px solid gray;flex-grow: 1;}#sk-d17d21c9-1fd2-4cdf-a342-e05cddeb7054 div.sk-label:hover label.sk-toggleable__label {background-color: #d4ebff;}#sk-d17d21c9-1fd2-4cdf-a342-e05cddeb7054 div.sk-serial::before {content: \"\";position: absolute;border-left: 1px solid gray;box-sizing: border-box;top: 2em;bottom: 0;left: 50%;}#sk-d17d21c9-1fd2-4cdf-a342-e05cddeb7054 div.sk-serial {display: flex;flex-direction: column;align-items: center;background-color: white;padding-right: 0.2em;padding-left: 0.2em;}#sk-d17d21c9-1fd2-4cdf-a342-e05cddeb7054 div.sk-item {z-index: 1;}#sk-d17d21c9-1fd2-4cdf-a342-e05cddeb7054 div.sk-parallel {display: flex;align-items: stretch;justify-content: center;background-color: white;}#sk-d17d21c9-1fd2-4cdf-a342-e05cddeb7054 div.sk-parallel::before {content: \"\";position: absolute;border-left: 1px solid gray;box-sizing: border-box;top: 2em;bottom: 0;left: 50%;}#sk-d17d21c9-1fd2-4cdf-a342-e05cddeb7054 div.sk-parallel-item {display: flex;flex-direction: column;position: relative;background-color: white;}#sk-d17d21c9-1fd2-4cdf-a342-e05cddeb7054 div.sk-parallel-item:first-child::after {align-self: flex-end;width: 50%;}#sk-d17d21c9-1fd2-4cdf-a342-e05cddeb7054 div.sk-parallel-item:last-child::after {align-self: flex-start;width: 50%;}#sk-d17d21c9-1fd2-4cdf-a342-e05cddeb7054 div.sk-parallel-item:only-child::after {width: 0;}#sk-d17d21c9-1fd2-4cdf-a342-e05cddeb7054 div.sk-dashed-wrapped {border: 1px dashed gray;margin: 0 0.4em 0.5em 0.4em;box-sizing: border-box;padding-bottom: 0.4em;background-color: white;position: relative;}#sk-d17d21c9-1fd2-4cdf-a342-e05cddeb7054 div.sk-label label {font-family: monospace;font-weight: bold;background-color: white;display: inline-block;line-height: 1.2em;}#sk-d17d21c9-1fd2-4cdf-a342-e05cddeb7054 div.sk-label-container {position: relative;z-index: 2;text-align: center;}#sk-d17d21c9-1fd2-4cdf-a342-e05cddeb7054 div.sk-container {/* jupyter's `normalize.less` sets `[hidden] { display: none; }` but bootstrap.min.css set `[hidden] { display: none !important; }` so we also need the `!important` here to be able to override the default hidden behavior on the sphinx rendered scikit-learn.org. See: https://github.com/scikit-learn/scikit-learn/issues/21755 */display: inline-block !important;position: relative;}#sk-d17d21c9-1fd2-4cdf-a342-e05cddeb7054 div.sk-text-repr-fallback {display: none;}</style><div id='sk-d17d21c9-1fd2-4cdf-a342-e05cddeb7054' class=\"sk-top-container\"><div class=\"sk-text-repr-fallback\"><pre>CNNRegressor(avg_pool_size=21, kernel_size=49, n_epochs=500)</pre><b>Please rerun this cell to show the HTML repr or trust the notebook.</b></div><div class=\"sk-container\" hidden><div class='sk-item'><div class=\"sk-estimator sk-toggleable\"><input class=\"sk-toggleable__control sk-hidden--visually\" id=UUID('da3c2f9b-80bc-477a-8083-6f937474efc4') type=\"checkbox\" checked><label for=UUID('da3c2f9b-80bc-477a-8083-6f937474efc4') class='sk-toggleable__label sk-toggleable__label-arrow'>CNNRegressor</label><div class=\"sk-toggleable__content\"><pre>CNNRegressor(avg_pool_size=21, kernel_size=49, n_epochs=500)</pre></div></div></div></div></div>"
      ],
      "text/plain": [
       "CNNRegressor(avg_pool_size=21, kernel_size=49, n_epochs=500)"
      ]
     },
     "execution_count": 258,
     "metadata": {},
     "output_type": "execute_result"
    }
   ],
   "source": [
    "clf_cnn = CNNRegressor(n_epochs=500, batch_size=16, kernel_size=49, avg_pool_size=21)\n",
    "clf_cnn.fit(D_train, yD_train)"
   ]
  },
  {
   "cell_type": "code",
   "execution_count": 259,
   "metadata": {},
   "outputs": [
    {
     "name": "stdout",
     "output_type": "stream",
     "text": [
      "1/1 [==============================] - 0s 98ms/step\n",
      "Mean error: 18.963, Median error 14.225\n",
      "Resulting score 16.594\n"
     ]
    },
    {
     "data": {
      "text/plain": [
       "16.594121276804678"
      ]
     },
     "execution_count": 259,
     "metadata": {},
     "output_type": "execute_result"
    }
   ],
   "source": [
    "pred = clf_cnn.predict(D_test)\n",
    "print_score(pred, yD_test)"
   ]
  },
  {
   "cell_type": "code",
   "execution_count": 244,
   "metadata": {},
   "outputs": [],
   "source": [
    "class MyModel(nn.Module):\n",
    "    #TODO: deeper mode, conv layers, dropout\n",
    "    def __init__(self):\n",
    "        super(MyModel, self).__init__()\n",
    "        self.fc0 = nn.Linear(128*30, 1024)\n",
    "        self.fc00 = nn.Linear(1024, 1024)\n",
    "        self.fc1 = nn.Linear(1024, 512)\n",
    "        self.dropout = nn.Dropout(0.25)\n",
    "        self.fc2 = nn.Linear(512, 256)\n",
    "        self.fc3 = nn.Linear(256, 128)\n",
    "        self.dropout2 = nn.Dropout(0.25)\n",
    "        self.fc4 = nn.Linear(128, 32)\n",
    "        self.fc5 = nn.Linear(32, 1)\n",
    "    \n",
    "    def forward(self, x):\n",
    "        #x = x.view(x.size(0), -1)\n",
    "        x = torch.relu(self.fc0(x))\n",
    "        x = torch.relu(self.fc00(x))\n",
    "        x = torch.relu(self.fc1(x))\n",
    "        x = self.dropout(x)\n",
    "        x = torch.relu(self.fc2(x))\n",
    "        x = torch.relu(self.fc3(x))\n",
    "        self.dropout2(x)\n",
    "        x = torch.relu(self.fc4(x))\n",
    "        x = self.fc5(x)\n",
    "        return x"
   ]
  },
  {
   "cell_type": "code",
   "execution_count": 246,
   "metadata": {},
   "outputs": [],
   "source": [
    "class MyModel2(nn.Module):\n",
    "    def __init__(self):\n",
    "        super(MyModel2, self).__init__()\n",
    "        self.fc0 = nn.Linear(128*30, 1024)\n",
    "        self.dropout0 = nn.Dropout(p=0.5)\n",
    "        self.fc00 = nn.Linear(1024, 1024)\n",
    "        self.dropout00 = nn.Dropout(p=0.5)\n",
    "        self.fc1 = nn.Linear(1024, 512)\n",
    "        self.dropout1 = nn.Dropout(p=0.5)\n",
    "        self.fc2 = nn.Linear(512, 256)\n",
    "        self.dropout2 = nn.Dropout(p=0.5)\n",
    "        self.fc3 = nn.Linear(256, 128)\n",
    "        self.dropout3 = nn.Dropout(p=0.5)\n",
    "        self.fc4 = nn.Linear(128, 32)\n",
    "        self.dropout4 = nn.Dropout(p=0.5)\n",
    "        self.fc5 = nn.Linear(32, 1)\n",
    "    \n",
    "    def forward(self, x):\n",
    "        x = torch.relu(self.fc0(x))\n",
    "        x = self.dropout0(x)\n",
    "        x = torch.relu(self.fc00(x))\n",
    "        x = self.dropout00(x)\n",
    "        x = torch.relu(self.fc1(x))\n",
    "        x = self.dropout1(x)\n",
    "        x = torch.relu(self.fc2(x))\n",
    "        x = self.dropout2(x)\n",
    "        x = torch.relu(self.fc3(x))\n",
    "        x = self.dropout3(x)\n",
    "        x = torch.relu(self.fc4(x))\n",
    "        x = self.dropout4(x)\n",
    "        x = self.fc5(x)\n",
    "        return x"
   ]
  },
  {
   "cell_type": "code",
   "execution_count": 247,
   "metadata": {},
   "outputs": [],
   "source": [
    "class ConvNet(nn.Module):\n",
    "    def __init__(self):\n",
    "        super(ConvNet, self).__init__()\n",
    "        self.conv1 = nn.Conv1d(4, 8, kernel_size=63, padding=1) #3840 -> 3588\n",
    "        self.maxpool1 = nn.MaxPool1d(3) #3588 -> 1196\n",
    "        self.conv2 = nn.Conv1d(8, 16, kernel_size=31, padding=1) #1196 -> 1132\n",
    "        self.maxpool2 = nn.MaxPool1d(2) #1132 -> 566\n",
    "        self.conv3 = nn.Conv1d(16, 32, kernel_size=15, padding=1) #566 -> 552\n",
    "        self.avgpool1 = nn.AvgPool1d(3) #552 -> 185\n",
    "        self.fc1 = nn.Linear(201*32, 256)\n",
    "        self.fc2 = nn.Linear(256, 128)\n",
    "        self.do = nn.Dropout(0.25)\n",
    "        self.fc3 = nn.Linear(128, 32)\n",
    "        self.fc4 = nn.Linear(32, 1)\n",
    "    \n",
    "    def forward(self, x):\n",
    "        #x = x.unsqueeze(1)\n",
    "        x = self.maxpool1(torch.relu(self.conv1(x)))\n",
    "        x = self.maxpool2(torch.relu(self.conv2(x)))\n",
    "        x = self.avgpool1(torch.relu(self.conv3(x)))\n",
    "        x = x.view(-1, 201*32)\n",
    "        x = torch.relu(self.fc1(x))\n",
    "        x = torch.relu(self.fc2(x))\n",
    "        x = self.do(x)\n",
    "        x = torch.relu(self.fc3(x))\n",
    "        x = self.fc4(x)\n",
    "        return x"
   ]
  },
  {
   "cell_type": "code",
   "execution_count": 243,
   "metadata": {},
   "outputs": [
    {
     "data": {
      "text/plain": [
       "torch.Size([4, 3840])"
      ]
     },
     "execution_count": 243,
     "metadata": {},
     "output_type": "execute_result"
    }
   ],
   "source": [
    "train_loader, test_loader = create_dataloaders_from_arrays(D_train, yD_train, D_test, yD_test)\n",
    "train_loader.dataset[0][0].shape"
   ]
  },
  {
   "cell_type": "code",
   "execution_count": 248,
   "metadata": {},
   "outputs": [
    {
     "name": "stdout",
     "output_type": "stream",
     "text": [
      "Using device cpu\n"
     ]
    },
    {
     "name": "stderr",
     "output_type": "stream",
     "text": [
      "c:\\Users\\lucas\\anaconda3\\lib\\site-packages\\torch\\nn\\modules\\loss.py:530: UserWarning: Using a target size (torch.Size([16])) that is different to the input size (torch.Size([16, 4, 1])). This will likely lead to incorrect results due to broadcasting. Please ensure they have the same size.\n",
      "  return F.mse_loss(input, target, reduction=self.reduction)\n",
      "c:\\Users\\lucas\\anaconda3\\lib\\site-packages\\torch\\nn\\modules\\loss.py:530: UserWarning: Using a target size (torch.Size([13])) that is different to the input size (torch.Size([13, 4, 1])). This will likely lead to incorrect results due to broadcasting. Please ensure they have the same size.\n",
      "  return F.mse_loss(input, target, reduction=self.reduction)\n"
     ]
    },
    {
     "name": "stdout",
     "output_type": "stream",
     "text": [
      "Epoch [1/1000], Loss: 21770.693359375\n",
      "Epoch [2/1000], Loss: 15878.1689453125\n",
      "Epoch [3/1000], Loss: 11592.7177734375\n",
      "Epoch [4/1000], Loss: 2872.862548828125\n",
      "Epoch [5/1000], Loss: 5913.43505859375\n",
      "Epoch [6/1000], Loss: 2490.01416015625\n"
     ]
    },
    {
     "ename": "KeyboardInterrupt",
     "evalue": "",
     "output_type": "error",
     "traceback": [
      "\u001b[1;31m---------------------------------------------------------------------------\u001b[0m",
      "\u001b[1;31mKeyboardInterrupt\u001b[0m                         Traceback (most recent call last)",
      "Cell \u001b[1;32mIn[248], line 5\u001b[0m\n\u001b[0;32m      3\u001b[0m conv_net \u001b[38;5;241m=\u001b[39m ConvNet()\n\u001b[0;32m      4\u001b[0m \u001b[38;5;66;03m#TODO: increase num_epochs\u001b[39;00m\n\u001b[1;32m----> 5\u001b[0m \u001b[43mtrain_model\u001b[49m\u001b[43m(\u001b[49m\u001b[43mmodel\u001b[49m\u001b[43m,\u001b[49m\u001b[43m \u001b[49m\u001b[43mtrain_loader\u001b[49m\u001b[43m,\u001b[49m\u001b[43m \u001b[49m\u001b[43mnum_epochs\u001b[49m\u001b[38;5;241;43m=\u001b[39;49m\u001b[38;5;241;43m1000\u001b[39;49m\u001b[43m)\u001b[49m\n",
      "Cell \u001b[1;32mIn[135], line 75\u001b[0m, in \u001b[0;36mtrain_model\u001b[1;34m(model, train_loader, num_epochs)\u001b[0m\n\u001b[0;32m     73\u001b[0m     \u001b[38;5;66;03m# Backward pass and optimize\u001b[39;00m\n\u001b[0;32m     74\u001b[0m     optimizer\u001b[38;5;241m.\u001b[39mzero_grad()\n\u001b[1;32m---> 75\u001b[0m     \u001b[43mloss\u001b[49m\u001b[38;5;241;43m.\u001b[39;49m\u001b[43mbackward\u001b[49m\u001b[43m(\u001b[49m\u001b[43m)\u001b[49m\n\u001b[0;32m     76\u001b[0m     optimizer\u001b[38;5;241m.\u001b[39mstep()\n\u001b[0;32m     78\u001b[0m \u001b[38;5;28mprint\u001b[39m(\u001b[38;5;124mf\u001b[39m\u001b[38;5;124m'\u001b[39m\u001b[38;5;124mEpoch [\u001b[39m\u001b[38;5;132;01m{\u001b[39;00mepoch\u001b[38;5;241m+\u001b[39m\u001b[38;5;241m1\u001b[39m\u001b[38;5;132;01m}\u001b[39;00m\u001b[38;5;124m/\u001b[39m\u001b[38;5;132;01m{\u001b[39;00mnum_epochs\u001b[38;5;132;01m}\u001b[39;00m\u001b[38;5;124m], Loss: \u001b[39m\u001b[38;5;132;01m{\u001b[39;00mloss\u001b[38;5;241m.\u001b[39mitem()\u001b[38;5;132;01m}\u001b[39;00m\u001b[38;5;124m'\u001b[39m)\n",
      "File \u001b[1;32mc:\\Users\\lucas\\anaconda3\\lib\\site-packages\\torch\\_tensor.py:396\u001b[0m, in \u001b[0;36mTensor.backward\u001b[1;34m(self, gradient, retain_graph, create_graph, inputs)\u001b[0m\n\u001b[0;32m    387\u001b[0m \u001b[38;5;28;01mif\u001b[39;00m has_torch_function_unary(\u001b[38;5;28mself\u001b[39m):\n\u001b[0;32m    388\u001b[0m     \u001b[38;5;28;01mreturn\u001b[39;00m handle_torch_function(\n\u001b[0;32m    389\u001b[0m         Tensor\u001b[38;5;241m.\u001b[39mbackward,\n\u001b[0;32m    390\u001b[0m         (\u001b[38;5;28mself\u001b[39m,),\n\u001b[1;32m   (...)\u001b[0m\n\u001b[0;32m    394\u001b[0m         create_graph\u001b[38;5;241m=\u001b[39mcreate_graph,\n\u001b[0;32m    395\u001b[0m         inputs\u001b[38;5;241m=\u001b[39minputs)\n\u001b[1;32m--> 396\u001b[0m \u001b[43mtorch\u001b[49m\u001b[38;5;241;43m.\u001b[39;49m\u001b[43mautograd\u001b[49m\u001b[38;5;241;43m.\u001b[39;49m\u001b[43mbackward\u001b[49m\u001b[43m(\u001b[49m\u001b[38;5;28;43mself\u001b[39;49m\u001b[43m,\u001b[49m\u001b[43m \u001b[49m\u001b[43mgradient\u001b[49m\u001b[43m,\u001b[49m\u001b[43m \u001b[49m\u001b[43mretain_graph\u001b[49m\u001b[43m,\u001b[49m\u001b[43m \u001b[49m\u001b[43mcreate_graph\u001b[49m\u001b[43m,\u001b[49m\u001b[43m \u001b[49m\u001b[43minputs\u001b[49m\u001b[38;5;241;43m=\u001b[39;49m\u001b[43minputs\u001b[49m\u001b[43m)\u001b[49m\n",
      "File \u001b[1;32mc:\\Users\\lucas\\anaconda3\\lib\\site-packages\\torch\\autograd\\__init__.py:173\u001b[0m, in \u001b[0;36mbackward\u001b[1;34m(tensors, grad_tensors, retain_graph, create_graph, grad_variables, inputs)\u001b[0m\n\u001b[0;32m    168\u001b[0m     retain_graph \u001b[38;5;241m=\u001b[39m create_graph\n\u001b[0;32m    170\u001b[0m \u001b[38;5;66;03m# The reason we repeat same the comment below is that\u001b[39;00m\n\u001b[0;32m    171\u001b[0m \u001b[38;5;66;03m# some Python versions print out the first line of a multi-line function\u001b[39;00m\n\u001b[0;32m    172\u001b[0m \u001b[38;5;66;03m# calls in the traceback and some print out the last line\u001b[39;00m\n\u001b[1;32m--> 173\u001b[0m \u001b[43mVariable\u001b[49m\u001b[38;5;241;43m.\u001b[39;49m\u001b[43m_execution_engine\u001b[49m\u001b[38;5;241;43m.\u001b[39;49m\u001b[43mrun_backward\u001b[49m\u001b[43m(\u001b[49m\u001b[43m  \u001b[49m\u001b[38;5;66;43;03m# Calls into the C++ engine to run the backward pass\u001b[39;49;00m\n\u001b[0;32m    174\u001b[0m \u001b[43m    \u001b[49m\u001b[43mtensors\u001b[49m\u001b[43m,\u001b[49m\u001b[43m \u001b[49m\u001b[43mgrad_tensors_\u001b[49m\u001b[43m,\u001b[49m\u001b[43m \u001b[49m\u001b[43mretain_graph\u001b[49m\u001b[43m,\u001b[49m\u001b[43m \u001b[49m\u001b[43mcreate_graph\u001b[49m\u001b[43m,\u001b[49m\u001b[43m \u001b[49m\u001b[43minputs\u001b[49m\u001b[43m,\u001b[49m\n\u001b[0;32m    175\u001b[0m \u001b[43m    \u001b[49m\u001b[43mallow_unreachable\u001b[49m\u001b[38;5;241;43m=\u001b[39;49m\u001b[38;5;28;43;01mTrue\u001b[39;49;00m\u001b[43m,\u001b[49m\u001b[43m \u001b[49m\u001b[43maccumulate_grad\u001b[49m\u001b[38;5;241;43m=\u001b[39;49m\u001b[38;5;28;43;01mTrue\u001b[39;49;00m\u001b[43m)\u001b[49m\n",
      "\u001b[1;31mKeyboardInterrupt\u001b[0m: "
     ]
    }
   ],
   "source": [
    "model = MyModel()\n",
    "model2 = MyModel2()\n",
    "conv_net = ConvNet()\n",
    "#TODO: increase num_epochs\n",
    "train_model(model, train_loader, num_epochs=1000)"
   ]
  },
  {
   "cell_type": "code",
   "execution_count": 50,
   "metadata": {},
   "outputs": [],
   "source": [
    "pred = predict(conv_net, D_test.astype(np.float32)[0])"
   ]
  },
  {
   "cell_type": "code",
   "execution_count": 51,
   "metadata": {},
   "outputs": [
    {
     "name": "stdout",
     "output_type": "stream",
     "text": [
      "Mean error: 17.742, Median error 15.453\n",
      "Resulting score 16.597\n"
     ]
    },
    {
     "data": {
      "text/plain": [
       "16.597091507823286"
      ]
     },
     "execution_count": 51,
     "metadata": {},
     "output_type": "execute_result"
    }
   ],
   "source": [
    "better_score(pred, yD_test, 'ConvNet 1/2 s kernels')"
   ]
  },
  {
   "cell_type": "code",
   "execution_count": 18,
   "metadata": {},
   "outputs": [
    {
     "name": "stdout",
     "output_type": "stream",
     "text": [
      "Is CUDA supported by this system? True\n",
      "CUDA version: 12.1\n",
      "ID of current CUDA device:0\n",
      "Name of current CUDA device:NVIDIA GeForce RTX 2070\n"
     ]
    }
   ],
   "source": [
    "print(f\"Is CUDA supported by this system? {torch.cuda.is_available()}\")\n",
    "print(f\"CUDA version: {torch.version.cuda}\")\n",
    " \n",
    "# Storing ID of current CUDA device\n",
    "cuda_id = torch.cuda.current_device()\n",
    "print(f\"ID of current CUDA device:{torch.cuda.current_device()}\")\n",
    "       \n",
    "print(f\"Name of current CUDA device:{torch.cuda.get_device_name(cuda_id)}\")"
   ]
  },
  {
   "cell_type": "code",
   "execution_count": 105,
   "metadata": {},
   "outputs": [
    {
     "data": {
      "text/plain": [
       "{'name': 'model_4',\n",
       " 'trainable': True,\n",
       " 'layers': [{'class_name': 'InputLayer',\n",
       "   'config': {'batch_input_shape': (None, 3840, 4),\n",
       "    'dtype': 'float32',\n",
       "    'sparse': False,\n",
       "    'ragged': False,\n",
       "    'name': 'input_5'},\n",
       "   'name': 'input_5',\n",
       "   'inbound_nodes': []},\n",
       "  {'class_name': 'Conv1D',\n",
       "   'config': {'name': 'conv1d_26',\n",
       "    'trainable': True,\n",
       "    'dtype': 'float32',\n",
       "    'filters': 6,\n",
       "    'kernel_size': (7,),\n",
       "    'strides': (1,),\n",
       "    'padding': 'valid',\n",
       "    'data_format': 'channels_last',\n",
       "    'dilation_rate': (1,),\n",
       "    'groups': 1,\n",
       "    'activation': 'linear',\n",
       "    'use_bias': True,\n",
       "    'kernel_initializer': {'class_name': 'GlorotUniform',\n",
       "     'config': {'seed': None}},\n",
       "    'bias_initializer': {'class_name': 'Zeros', 'config': {}},\n",
       "    'kernel_regularizer': None,\n",
       "    'bias_regularizer': None,\n",
       "    'activity_regularizer': None,\n",
       "    'kernel_constraint': None,\n",
       "    'bias_constraint': None},\n",
       "   'name': 'conv1d_26',\n",
       "   'inbound_nodes': [[['input_5', 0, 0, {}]]]},\n",
       "  {'class_name': 'AveragePooling1D',\n",
       "   'config': {'name': 'average_pooling1d_4',\n",
       "    'trainable': True,\n",
       "    'dtype': 'float32',\n",
       "    'strides': (3,),\n",
       "    'pool_size': (3,),\n",
       "    'padding': 'valid',\n",
       "    'data_format': 'channels_last'},\n",
       "   'name': 'average_pooling1d_4',\n",
       "   'inbound_nodes': [[['conv1d_26', 0, 0, {}]]]},\n",
       "  {'class_name': 'Conv1D',\n",
       "   'config': {'name': 'conv1d_27',\n",
       "    'trainable': True,\n",
       "    'dtype': 'float32',\n",
       "    'filters': 12,\n",
       "    'kernel_size': (7,),\n",
       "    'strides': (1,),\n",
       "    'padding': 'valid',\n",
       "    'data_format': 'channels_last',\n",
       "    'dilation_rate': (1,),\n",
       "    'groups': 1,\n",
       "    'activation': 'linear',\n",
       "    'use_bias': True,\n",
       "    'kernel_initializer': {'class_name': 'GlorotUniform',\n",
       "     'config': {'seed': None}},\n",
       "    'bias_initializer': {'class_name': 'Zeros', 'config': {}},\n",
       "    'kernel_regularizer': None,\n",
       "    'bias_regularizer': None,\n",
       "    'activity_regularizer': None,\n",
       "    'kernel_constraint': None,\n",
       "    'bias_constraint': None},\n",
       "   'name': 'conv1d_27',\n",
       "   'inbound_nodes': [[['average_pooling1d_4', 0, 0, {}]]]},\n",
       "  {'class_name': 'AveragePooling1D',\n",
       "   'config': {'name': 'average_pooling1d_5',\n",
       "    'trainable': True,\n",
       "    'dtype': 'float32',\n",
       "    'strides': (3,),\n",
       "    'pool_size': (3,),\n",
       "    'padding': 'valid',\n",
       "    'data_format': 'channels_last'},\n",
       "   'name': 'average_pooling1d_5',\n",
       "   'inbound_nodes': [[['conv1d_27', 0, 0, {}]]]},\n",
       "  {'class_name': 'Flatten',\n",
       "   'config': {'name': 'flatten_2',\n",
       "    'trainable': True,\n",
       "    'dtype': 'float32',\n",
       "    'data_format': 'channels_last'},\n",
       "   'name': 'flatten_2',\n",
       "   'inbound_nodes': [[['average_pooling1d_5', 0, 0, {}]]]},\n",
       "  {'class_name': 'Dense',\n",
       "   'config': {'name': 'dense_4',\n",
       "    'trainable': True,\n",
       "    'dtype': 'float32',\n",
       "    'units': 1,\n",
       "    'activation': 'linear',\n",
       "    'use_bias': True,\n",
       "    'kernel_initializer': {'class_name': 'GlorotUniform',\n",
       "     'config': {'seed': None}},\n",
       "    'bias_initializer': {'class_name': 'Zeros', 'config': {}},\n",
       "    'kernel_regularizer': None,\n",
       "    'bias_regularizer': None,\n",
       "    'activity_regularizer': None,\n",
       "    'kernel_constraint': None,\n",
       "    'bias_constraint': None},\n",
       "   'name': 'dense_4',\n",
       "   'inbound_nodes': [[['flatten_2', 0, 0, {}]]]}],\n",
       " 'input_layers': [['input_5', 0, 0]],\n",
       " 'output_layers': [['dense_4', 0, 0]]}"
      ]
     },
     "execution_count": 105,
     "metadata": {},
     "output_type": "execute_result"
    }
   ],
   "source": [
    "clf_cnn.model_.get_config()"
   ]
  },
  {
   "cell_type": "code",
   "execution_count": 199,
   "metadata": {},
   "outputs": [],
   "source": [
    "xgb_reg_model_wrist = xgb.XGBRegressor(objective ='reg:squarederror', learning_rate = 0.1, max_depth = 20, alpha = 15, n_estimators = 1000, subsample = 0.8)\n",
    "# phase0, all data, objective ='reg:squarederror', learning_rate = 0.1, max_depth = 20, alpha = 15, n_estimators = 1000, subsample = 0.8, 4.352\n",
    "xgb_reg_model_head = xgb.XGBRegressor(objective ='reg:squarederror', learning_rate = 0.1, max_depth = 25, alpha = 10, n_estimators = 500, subsample = 0.8)\n",
    "# phase2, all data, objective ='reg:squarederror', learning_rate = 0.1, max_depth = 25, alpha = 10, n_estimators = 500, subsample = 0.8, 5.55"
   ]
  },
  {
   "cell_type": "code",
   "execution_count": 210,
   "metadata": {},
   "outputs": [],
   "source": [
    "xgb_reg_model_head2 = xgb.XGBRegressor(objective ='reg:squarederror', learning_rate = 0.1, max_depth = 25, alpha = 10, n_estimators = 500, subsample = 0.8)"
   ]
  },
  {
   "cell_type": "code",
   "execution_count": 204,
   "metadata": {},
   "outputs": [
    {
     "data": {
      "text/html": [
       "<style>#sk-container-id-41 {color: black;background-color: white;}#sk-container-id-41 pre{padding: 0;}#sk-container-id-41 div.sk-toggleable {background-color: white;}#sk-container-id-41 label.sk-toggleable__label {cursor: pointer;display: block;width: 100%;margin-bottom: 0;padding: 0.3em;box-sizing: border-box;text-align: center;}#sk-container-id-41 label.sk-toggleable__label-arrow:before {content: \"▸\";float: left;margin-right: 0.25em;color: #696969;}#sk-container-id-41 label.sk-toggleable__label-arrow:hover:before {color: black;}#sk-container-id-41 div.sk-estimator:hover label.sk-toggleable__label-arrow:before {color: black;}#sk-container-id-41 div.sk-toggleable__content {max-height: 0;max-width: 0;overflow: hidden;text-align: left;background-color: #f0f8ff;}#sk-container-id-41 div.sk-toggleable__content pre {margin: 0.2em;color: black;border-radius: 0.25em;background-color: #f0f8ff;}#sk-container-id-41 input.sk-toggleable__control:checked~div.sk-toggleable__content {max-height: 200px;max-width: 100%;overflow: auto;}#sk-container-id-41 input.sk-toggleable__control:checked~label.sk-toggleable__label-arrow:before {content: \"▾\";}#sk-container-id-41 div.sk-estimator input.sk-toggleable__control:checked~label.sk-toggleable__label {background-color: #d4ebff;}#sk-container-id-41 div.sk-label input.sk-toggleable__control:checked~label.sk-toggleable__label {background-color: #d4ebff;}#sk-container-id-41 input.sk-hidden--visually {border: 0;clip: rect(1px 1px 1px 1px);clip: rect(1px, 1px, 1px, 1px);height: 1px;margin: -1px;overflow: hidden;padding: 0;position: absolute;width: 1px;}#sk-container-id-41 div.sk-estimator {font-family: monospace;background-color: #f0f8ff;border: 1px dotted black;border-radius: 0.25em;box-sizing: border-box;margin-bottom: 0.5em;}#sk-container-id-41 div.sk-estimator:hover {background-color: #d4ebff;}#sk-container-id-41 div.sk-parallel-item::after {content: \"\";width: 100%;border-bottom: 1px solid gray;flex-grow: 1;}#sk-container-id-41 div.sk-label:hover label.sk-toggleable__label {background-color: #d4ebff;}#sk-container-id-41 div.sk-serial::before {content: \"\";position: absolute;border-left: 1px solid gray;box-sizing: border-box;top: 0;bottom: 0;left: 50%;z-index: 0;}#sk-container-id-41 div.sk-serial {display: flex;flex-direction: column;align-items: center;background-color: white;padding-right: 0.2em;padding-left: 0.2em;position: relative;}#sk-container-id-41 div.sk-item {position: relative;z-index: 1;}#sk-container-id-41 div.sk-parallel {display: flex;align-items: stretch;justify-content: center;background-color: white;position: relative;}#sk-container-id-41 div.sk-item::before, #sk-container-id-41 div.sk-parallel-item::before {content: \"\";position: absolute;border-left: 1px solid gray;box-sizing: border-box;top: 0;bottom: 0;left: 50%;z-index: -1;}#sk-container-id-41 div.sk-parallel-item {display: flex;flex-direction: column;z-index: 1;position: relative;background-color: white;}#sk-container-id-41 div.sk-parallel-item:first-child::after {align-self: flex-end;width: 50%;}#sk-container-id-41 div.sk-parallel-item:last-child::after {align-self: flex-start;width: 50%;}#sk-container-id-41 div.sk-parallel-item:only-child::after {width: 0;}#sk-container-id-41 div.sk-dashed-wrapped {border: 1px dashed gray;margin: 0 0.4em 0.5em 0.4em;box-sizing: border-box;padding-bottom: 0.4em;background-color: white;}#sk-container-id-41 div.sk-label label {font-family: monospace;font-weight: bold;display: inline-block;line-height: 1.2em;}#sk-container-id-41 div.sk-label-container {text-align: center;}#sk-container-id-41 div.sk-container {/* jupyter's `normalize.less` sets `[hidden] { display: none; }` but bootstrap.min.css set `[hidden] { display: none !important; }` so we also need the `!important` here to be able to override the default hidden behavior on the sphinx rendered scikit-learn.org. See: https://github.com/scikit-learn/scikit-learn/issues/21755 */display: inline-block !important;position: relative;}#sk-container-id-41 div.sk-text-repr-fallback {display: none;}</style><div id=\"sk-container-id-41\" class=\"sk-top-container\"><div class=\"sk-text-repr-fallback\"><pre>XGBRegressor(alpha=15, base_score=None, booster=None, callbacks=None,\n",
       "             colsample_bylevel=None, colsample_bynode=None,\n",
       "             colsample_bytree=None, early_stopping_rounds=None,\n",
       "             enable_categorical=False, eval_metric=None, feature_types=None,\n",
       "             gamma=None, gpu_id=None, grow_policy=None, importance_type=None,\n",
       "             interaction_constraints=None, learning_rate=0.1, max_bin=None,\n",
       "             max_cat_threshold=None, max_cat_to_onehot=None,\n",
       "             max_delta_step=None, max_depth=20, max_leaves=None,\n",
       "             min_child_weight=None, missing=nan, monotone_constraints=None,\n",
       "             n_estimators=1000, n_jobs=None, num_parallel_tree=None,\n",
       "             predictor=None, ...)</pre><b>In a Jupyter environment, please rerun this cell to show the HTML representation or trust the notebook. <br />On GitHub, the HTML representation is unable to render, please try loading this page with nbviewer.org.</b></div><div class=\"sk-container\" hidden><div class=\"sk-item\"><div class=\"sk-estimator sk-toggleable\"><input class=\"sk-toggleable__control sk-hidden--visually\" id=\"sk-estimator-id-41\" type=\"checkbox\" checked><label for=\"sk-estimator-id-41\" class=\"sk-toggleable__label sk-toggleable__label-arrow\">XGBRegressor</label><div class=\"sk-toggleable__content\"><pre>XGBRegressor(alpha=15, base_score=None, booster=None, callbacks=None,\n",
       "             colsample_bylevel=None, colsample_bynode=None,\n",
       "             colsample_bytree=None, early_stopping_rounds=None,\n",
       "             enable_categorical=False, eval_metric=None, feature_types=None,\n",
       "             gamma=None, gpu_id=None, grow_policy=None, importance_type=None,\n",
       "             interaction_constraints=None, learning_rate=0.1, max_bin=None,\n",
       "             max_cat_threshold=None, max_cat_to_onehot=None,\n",
       "             max_delta_step=None, max_depth=20, max_leaves=None,\n",
       "             min_child_weight=None, missing=nan, monotone_constraints=None,\n",
       "             n_estimators=1000, n_jobs=None, num_parallel_tree=None,\n",
       "             predictor=None, ...)</pre></div></div></div></div></div>"
      ],
      "text/plain": [
       "XGBRegressor(alpha=15, base_score=None, booster=None, callbacks=None,\n",
       "             colsample_bylevel=None, colsample_bynode=None,\n",
       "             colsample_bytree=None, early_stopping_rounds=None,\n",
       "             enable_categorical=False, eval_metric=None, feature_types=None,\n",
       "             gamma=None, gpu_id=None, grow_policy=None, importance_type=None,\n",
       "             interaction_constraints=None, learning_rate=0.1, max_bin=None,\n",
       "             max_cat_threshold=None, max_cat_to_onehot=None,\n",
       "             max_delta_step=None, max_depth=20, max_leaves=None,\n",
       "             min_child_weight=None, missing=nan, monotone_constraints=None,\n",
       "             n_estimators=1000, n_jobs=None, num_parallel_tree=None,\n",
       "             predictor=None, ...)"
      ]
     },
     "execution_count": 204,
     "metadata": {},
     "output_type": "execute_result"
    }
   ],
   "source": [
    "xgb_reg_model_wrist.fit(XGB_D_train, yXGB_D_train)"
   ]
  },
  {
   "cell_type": "code",
   "execution_count": 200,
   "metadata": {},
   "outputs": [
    {
     "data": {
      "text/html": [
       "<style>#sk-container-id-40 {color: black;background-color: white;}#sk-container-id-40 pre{padding: 0;}#sk-container-id-40 div.sk-toggleable {background-color: white;}#sk-container-id-40 label.sk-toggleable__label {cursor: pointer;display: block;width: 100%;margin-bottom: 0;padding: 0.3em;box-sizing: border-box;text-align: center;}#sk-container-id-40 label.sk-toggleable__label-arrow:before {content: \"▸\";float: left;margin-right: 0.25em;color: #696969;}#sk-container-id-40 label.sk-toggleable__label-arrow:hover:before {color: black;}#sk-container-id-40 div.sk-estimator:hover label.sk-toggleable__label-arrow:before {color: black;}#sk-container-id-40 div.sk-toggleable__content {max-height: 0;max-width: 0;overflow: hidden;text-align: left;background-color: #f0f8ff;}#sk-container-id-40 div.sk-toggleable__content pre {margin: 0.2em;color: black;border-radius: 0.25em;background-color: #f0f8ff;}#sk-container-id-40 input.sk-toggleable__control:checked~div.sk-toggleable__content {max-height: 200px;max-width: 100%;overflow: auto;}#sk-container-id-40 input.sk-toggleable__control:checked~label.sk-toggleable__label-arrow:before {content: \"▾\";}#sk-container-id-40 div.sk-estimator input.sk-toggleable__control:checked~label.sk-toggleable__label {background-color: #d4ebff;}#sk-container-id-40 div.sk-label input.sk-toggleable__control:checked~label.sk-toggleable__label {background-color: #d4ebff;}#sk-container-id-40 input.sk-hidden--visually {border: 0;clip: rect(1px 1px 1px 1px);clip: rect(1px, 1px, 1px, 1px);height: 1px;margin: -1px;overflow: hidden;padding: 0;position: absolute;width: 1px;}#sk-container-id-40 div.sk-estimator {font-family: monospace;background-color: #f0f8ff;border: 1px dotted black;border-radius: 0.25em;box-sizing: border-box;margin-bottom: 0.5em;}#sk-container-id-40 div.sk-estimator:hover {background-color: #d4ebff;}#sk-container-id-40 div.sk-parallel-item::after {content: \"\";width: 100%;border-bottom: 1px solid gray;flex-grow: 1;}#sk-container-id-40 div.sk-label:hover label.sk-toggleable__label {background-color: #d4ebff;}#sk-container-id-40 div.sk-serial::before {content: \"\";position: absolute;border-left: 1px solid gray;box-sizing: border-box;top: 0;bottom: 0;left: 50%;z-index: 0;}#sk-container-id-40 div.sk-serial {display: flex;flex-direction: column;align-items: center;background-color: white;padding-right: 0.2em;padding-left: 0.2em;position: relative;}#sk-container-id-40 div.sk-item {position: relative;z-index: 1;}#sk-container-id-40 div.sk-parallel {display: flex;align-items: stretch;justify-content: center;background-color: white;position: relative;}#sk-container-id-40 div.sk-item::before, #sk-container-id-40 div.sk-parallel-item::before {content: \"\";position: absolute;border-left: 1px solid gray;box-sizing: border-box;top: 0;bottom: 0;left: 50%;z-index: -1;}#sk-container-id-40 div.sk-parallel-item {display: flex;flex-direction: column;z-index: 1;position: relative;background-color: white;}#sk-container-id-40 div.sk-parallel-item:first-child::after {align-self: flex-end;width: 50%;}#sk-container-id-40 div.sk-parallel-item:last-child::after {align-self: flex-start;width: 50%;}#sk-container-id-40 div.sk-parallel-item:only-child::after {width: 0;}#sk-container-id-40 div.sk-dashed-wrapped {border: 1px dashed gray;margin: 0 0.4em 0.5em 0.4em;box-sizing: border-box;padding-bottom: 0.4em;background-color: white;}#sk-container-id-40 div.sk-label label {font-family: monospace;font-weight: bold;display: inline-block;line-height: 1.2em;}#sk-container-id-40 div.sk-label-container {text-align: center;}#sk-container-id-40 div.sk-container {/* jupyter's `normalize.less` sets `[hidden] { display: none; }` but bootstrap.min.css set `[hidden] { display: none !important; }` so we also need the `!important` here to be able to override the default hidden behavior on the sphinx rendered scikit-learn.org. See: https://github.com/scikit-learn/scikit-learn/issues/21755 */display: inline-block !important;position: relative;}#sk-container-id-40 div.sk-text-repr-fallback {display: none;}</style><div id=\"sk-container-id-40\" class=\"sk-top-container\"><div class=\"sk-text-repr-fallback\"><pre>XGBRegressor(alpha=10, base_score=None, booster=None, callbacks=None,\n",
       "             colsample_bylevel=None, colsample_bynode=None,\n",
       "             colsample_bytree=None, early_stopping_rounds=None,\n",
       "             enable_categorical=False, eval_metric=None, feature_types=None,\n",
       "             gamma=None, gpu_id=None, grow_policy=None, importance_type=None,\n",
       "             interaction_constraints=None, learning_rate=0.1, max_bin=None,\n",
       "             max_cat_threshold=None, max_cat_to_onehot=None,\n",
       "             max_delta_step=None, max_depth=25, max_leaves=None,\n",
       "             min_child_weight=None, missing=nan, monotone_constraints=None,\n",
       "             n_estimators=500, n_jobs=None, num_parallel_tree=None,\n",
       "             predictor=None, ...)</pre><b>In a Jupyter environment, please rerun this cell to show the HTML representation or trust the notebook. <br />On GitHub, the HTML representation is unable to render, please try loading this page with nbviewer.org.</b></div><div class=\"sk-container\" hidden><div class=\"sk-item\"><div class=\"sk-estimator sk-toggleable\"><input class=\"sk-toggleable__control sk-hidden--visually\" id=\"sk-estimator-id-40\" type=\"checkbox\" checked><label for=\"sk-estimator-id-40\" class=\"sk-toggleable__label sk-toggleable__label-arrow\">XGBRegressor</label><div class=\"sk-toggleable__content\"><pre>XGBRegressor(alpha=10, base_score=None, booster=None, callbacks=None,\n",
       "             colsample_bylevel=None, colsample_bynode=None,\n",
       "             colsample_bytree=None, early_stopping_rounds=None,\n",
       "             enable_categorical=False, eval_metric=None, feature_types=None,\n",
       "             gamma=None, gpu_id=None, grow_policy=None, importance_type=None,\n",
       "             interaction_constraints=None, learning_rate=0.1, max_bin=None,\n",
       "             max_cat_threshold=None, max_cat_to_onehot=None,\n",
       "             max_delta_step=None, max_depth=25, max_leaves=None,\n",
       "             min_child_weight=None, missing=nan, monotone_constraints=None,\n",
       "             n_estimators=500, n_jobs=None, num_parallel_tree=None,\n",
       "             predictor=None, ...)</pre></div></div></div></div></div>"
      ],
      "text/plain": [
       "XGBRegressor(alpha=10, base_score=None, booster=None, callbacks=None,\n",
       "             colsample_bylevel=None, colsample_bynode=None,\n",
       "             colsample_bytree=None, early_stopping_rounds=None,\n",
       "             enable_categorical=False, eval_metric=None, feature_types=None,\n",
       "             gamma=None, gpu_id=None, grow_policy=None, importance_type=None,\n",
       "             interaction_constraints=None, learning_rate=0.1, max_bin=None,\n",
       "             max_cat_threshold=None, max_cat_to_onehot=None,\n",
       "             max_delta_step=None, max_depth=25, max_leaves=None,\n",
       "             min_child_weight=None, missing=nan, monotone_constraints=None,\n",
       "             n_estimators=500, n_jobs=None, num_parallel_tree=None,\n",
       "             predictor=None, ...)"
      ]
     },
     "execution_count": 200,
     "metadata": {},
     "output_type": "execute_result"
    }
   ],
   "source": [
    "xgb_reg_model_head.fit(XGB_D_train, yXGB_D_train)"
   ]
  },
  {
   "cell_type": "code",
   "execution_count": 211,
   "metadata": {},
   "outputs": [
    {
     "data": {
      "text/html": [
       "<style>#sk-container-id-42 {color: black;background-color: white;}#sk-container-id-42 pre{padding: 0;}#sk-container-id-42 div.sk-toggleable {background-color: white;}#sk-container-id-42 label.sk-toggleable__label {cursor: pointer;display: block;width: 100%;margin-bottom: 0;padding: 0.3em;box-sizing: border-box;text-align: center;}#sk-container-id-42 label.sk-toggleable__label-arrow:before {content: \"▸\";float: left;margin-right: 0.25em;color: #696969;}#sk-container-id-42 label.sk-toggleable__label-arrow:hover:before {color: black;}#sk-container-id-42 div.sk-estimator:hover label.sk-toggleable__label-arrow:before {color: black;}#sk-container-id-42 div.sk-toggleable__content {max-height: 0;max-width: 0;overflow: hidden;text-align: left;background-color: #f0f8ff;}#sk-container-id-42 div.sk-toggleable__content pre {margin: 0.2em;color: black;border-radius: 0.25em;background-color: #f0f8ff;}#sk-container-id-42 input.sk-toggleable__control:checked~div.sk-toggleable__content {max-height: 200px;max-width: 100%;overflow: auto;}#sk-container-id-42 input.sk-toggleable__control:checked~label.sk-toggleable__label-arrow:before {content: \"▾\";}#sk-container-id-42 div.sk-estimator input.sk-toggleable__control:checked~label.sk-toggleable__label {background-color: #d4ebff;}#sk-container-id-42 div.sk-label input.sk-toggleable__control:checked~label.sk-toggleable__label {background-color: #d4ebff;}#sk-container-id-42 input.sk-hidden--visually {border: 0;clip: rect(1px 1px 1px 1px);clip: rect(1px, 1px, 1px, 1px);height: 1px;margin: -1px;overflow: hidden;padding: 0;position: absolute;width: 1px;}#sk-container-id-42 div.sk-estimator {font-family: monospace;background-color: #f0f8ff;border: 1px dotted black;border-radius: 0.25em;box-sizing: border-box;margin-bottom: 0.5em;}#sk-container-id-42 div.sk-estimator:hover {background-color: #d4ebff;}#sk-container-id-42 div.sk-parallel-item::after {content: \"\";width: 100%;border-bottom: 1px solid gray;flex-grow: 1;}#sk-container-id-42 div.sk-label:hover label.sk-toggleable__label {background-color: #d4ebff;}#sk-container-id-42 div.sk-serial::before {content: \"\";position: absolute;border-left: 1px solid gray;box-sizing: border-box;top: 0;bottom: 0;left: 50%;z-index: 0;}#sk-container-id-42 div.sk-serial {display: flex;flex-direction: column;align-items: center;background-color: white;padding-right: 0.2em;padding-left: 0.2em;position: relative;}#sk-container-id-42 div.sk-item {position: relative;z-index: 1;}#sk-container-id-42 div.sk-parallel {display: flex;align-items: stretch;justify-content: center;background-color: white;position: relative;}#sk-container-id-42 div.sk-item::before, #sk-container-id-42 div.sk-parallel-item::before {content: \"\";position: absolute;border-left: 1px solid gray;box-sizing: border-box;top: 0;bottom: 0;left: 50%;z-index: -1;}#sk-container-id-42 div.sk-parallel-item {display: flex;flex-direction: column;z-index: 1;position: relative;background-color: white;}#sk-container-id-42 div.sk-parallel-item:first-child::after {align-self: flex-end;width: 50%;}#sk-container-id-42 div.sk-parallel-item:last-child::after {align-self: flex-start;width: 50%;}#sk-container-id-42 div.sk-parallel-item:only-child::after {width: 0;}#sk-container-id-42 div.sk-dashed-wrapped {border: 1px dashed gray;margin: 0 0.4em 0.5em 0.4em;box-sizing: border-box;padding-bottom: 0.4em;background-color: white;}#sk-container-id-42 div.sk-label label {font-family: monospace;font-weight: bold;display: inline-block;line-height: 1.2em;}#sk-container-id-42 div.sk-label-container {text-align: center;}#sk-container-id-42 div.sk-container {/* jupyter's `normalize.less` sets `[hidden] { display: none; }` but bootstrap.min.css set `[hidden] { display: none !important; }` so we also need the `!important` here to be able to override the default hidden behavior on the sphinx rendered scikit-learn.org. See: https://github.com/scikit-learn/scikit-learn/issues/21755 */display: inline-block !important;position: relative;}#sk-container-id-42 div.sk-text-repr-fallback {display: none;}</style><div id=\"sk-container-id-42\" class=\"sk-top-container\"><div class=\"sk-text-repr-fallback\"><pre>XGBRegressor(alpha=10, base_score=None, booster=None, callbacks=None,\n",
       "             colsample_bylevel=None, colsample_bynode=None,\n",
       "             colsample_bytree=None, early_stopping_rounds=None,\n",
       "             enable_categorical=False, eval_metric=None, feature_types=None,\n",
       "             gamma=None, gpu_id=None, grow_policy=None, importance_type=None,\n",
       "             interaction_constraints=None, learning_rate=0.1, max_bin=None,\n",
       "             max_cat_threshold=None, max_cat_to_onehot=None,\n",
       "             max_delta_step=None, max_depth=25, max_leaves=None,\n",
       "             min_child_weight=None, missing=nan, monotone_constraints=None,\n",
       "             n_estimators=500, n_jobs=None, num_parallel_tree=None,\n",
       "             predictor=None, ...)</pre><b>In a Jupyter environment, please rerun this cell to show the HTML representation or trust the notebook. <br />On GitHub, the HTML representation is unable to render, please try loading this page with nbviewer.org.</b></div><div class=\"sk-container\" hidden><div class=\"sk-item\"><div class=\"sk-estimator sk-toggleable\"><input class=\"sk-toggleable__control sk-hidden--visually\" id=\"sk-estimator-id-42\" type=\"checkbox\" checked><label for=\"sk-estimator-id-42\" class=\"sk-toggleable__label sk-toggleable__label-arrow\">XGBRegressor</label><div class=\"sk-toggleable__content\"><pre>XGBRegressor(alpha=10, base_score=None, booster=None, callbacks=None,\n",
       "             colsample_bylevel=None, colsample_bynode=None,\n",
       "             colsample_bytree=None, early_stopping_rounds=None,\n",
       "             enable_categorical=False, eval_metric=None, feature_types=None,\n",
       "             gamma=None, gpu_id=None, grow_policy=None, importance_type=None,\n",
       "             interaction_constraints=None, learning_rate=0.1, max_bin=None,\n",
       "             max_cat_threshold=None, max_cat_to_onehot=None,\n",
       "             max_delta_step=None, max_depth=25, max_leaves=None,\n",
       "             min_child_weight=None, missing=nan, monotone_constraints=None,\n",
       "             n_estimators=500, n_jobs=None, num_parallel_tree=None,\n",
       "             predictor=None, ...)</pre></div></div></div></div></div>"
      ],
      "text/plain": [
       "XGBRegressor(alpha=10, base_score=None, booster=None, callbacks=None,\n",
       "             colsample_bylevel=None, colsample_bynode=None,\n",
       "             colsample_bytree=None, early_stopping_rounds=None,\n",
       "             enable_categorical=False, eval_metric=None, feature_types=None,\n",
       "             gamma=None, gpu_id=None, grow_policy=None, importance_type=None,\n",
       "             interaction_constraints=None, learning_rate=0.1, max_bin=None,\n",
       "             max_cat_threshold=None, max_cat_to_onehot=None,\n",
       "             max_delta_step=None, max_depth=25, max_leaves=None,\n",
       "             min_child_weight=None, missing=nan, monotone_constraints=None,\n",
       "             n_estimators=500, n_jobs=None, num_parallel_tree=None,\n",
       "             predictor=None, ...)"
      ]
     },
     "execution_count": 211,
     "metadata": {},
     "output_type": "execute_result"
    }
   ],
   "source": [
    "xgb_reg_model_head2.fit(XGB_D_train, yXGB_D_train)"
   ]
  },
  {
   "cell_type": "code",
   "execution_count": 207,
   "metadata": {},
   "outputs": [],
   "source": [
    "predsxgb_0 = xgb_reg_model_wrist.predict(XGB_D_0)\n",
    "predsxgb_1 = xgb_reg_model_head.predict(XGB_D_1)\n",
    "predsxgb_2 = xgb_reg_model_head.predict(XGB_D_2)\n",
    "predsxgb_3 = xgb_reg_model_wrist.predict(XGB_D_3)"
   ]
  },
  {
   "cell_type": "code",
   "execution_count": 212,
   "metadata": {},
   "outputs": [
    {
     "name": "stdout",
     "output_type": "stream",
     "text": [
      "Mean error: 96.082, Median error 98.457\n",
      "Resulting score 97.269\n"
     ]
    },
    {
     "data": {
      "text/plain": [
       "97.26942773049036"
      ]
     },
     "execution_count": 212,
     "metadata": {},
     "output_type": "execute_result"
    }
   ],
   "source": [
    "predsxgb = xgb_reg_model_wrist.predict(XGB_D_test)\n",
    "print_score(predsxgb, yXGB_D_test)"
   ]
  },
  {
   "cell_type": "code",
   "execution_count": 229,
   "metadata": {},
   "outputs": [
    {
     "data": {
      "text/plain": [
       "174.26820966643976"
      ]
     },
     "execution_count": 229,
     "metadata": {},
     "output_type": "execute_result"
    }
   ],
   "source": [
    "np.max(ref_hr_phase4)"
   ]
  },
  {
   "cell_type": "code",
   "execution_count": null,
   "metadata": {},
   "outputs": [],
   "source": []
  }
 ],
 "metadata": {
  "kaggle": {
   "accelerator": "none",
   "dataSources": [
    {
     "databundleVersionId": 7813402,
     "sourceId": 71361,
     "sourceType": "competition"
    }
   ],
   "dockerImageVersionId": 30646,
   "isGpuEnabled": false,
   "isInternetEnabled": true,
   "language": "python",
   "sourceType": "notebook"
  },
  "kernelspec": {
   "display_name": "Python 3",
   "language": "python",
   "name": "python3"
  },
  "language_info": {
   "codemirror_mode": {
    "name": "ipython",
    "version": 3
   },
   "file_extension": ".py",
   "mimetype": "text/x-python",
   "name": "python",
   "nbconvert_exporter": "python",
   "pygments_lexer": "ipython3",
   "version": "3.10.13"
  }
 },
 "nbformat": 4,
 "nbformat_minor": 4
}
