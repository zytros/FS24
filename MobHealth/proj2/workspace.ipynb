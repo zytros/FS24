{
 "cells": [
  {
   "cell_type": "code",
   "execution_count": null,
   "id": "3d7fe6fb",
   "metadata": {
    "collapsed": false,
    "execution": {
     "iopub.execute_input": "2023-05-08T15:52:21.940433Z",
     "iopub.status.busy": "2023-05-08T15:52:21.939864Z",
     "iopub.status.idle": "2023-05-08T15:56:22.919747Z",
     "shell.execute_reply": "2023-05-08T15:56:22.918424Z"
    },
    "papermill": {
     "duration": 240.991144,
     "end_time": "2023-05-08T15:56:22.922862",
     "exception": false,
     "start_time": "2023-05-08T15:52:21.931718",
     "status": "completed"
    },
    "pycharm": {
     "name": "#%%\n"
    },
    "tags": []
   },
   "outputs": [],
   "source": [
    "# INTERACTIVE PLOTS (only if you code locally, unfortunately)\n",
    "# This cell can take some minutes to run\n",
    "# You should only need to run this cell once and not everytime you open the script\n",
    "# In case the plotting of the data below does not work because of the error \"Error displaying widget: model not found\"\n",
    "# you'll probably have to restart your kernel once more.\n",
    "\n",
    "# IMPORTANT: After running this cell, restart your kernel\n",
    "# uncomment the next two lines for interactive plots\n",
    "# !jupyter labextension install @jupyter-widgets/jupyterlab-manager jupyter-leaflet\n",
    "# !pip install install nodejs"
   ]
  },
  {
   "cell_type": "code",
   "execution_count": null,
   "id": "25e85ead",
   "metadata": {
    "collapsed": false,
    "execution": {
     "iopub.execute_input": "2023-05-08T15:56:23.192715Z",
     "iopub.status.busy": "2023-05-08T15:56:23.191778Z",
     "iopub.status.idle": "2023-05-08T15:56:23.573394Z",
     "shell.execute_reply": "2023-05-08T15:56:23.572234Z"
    },
    "papermill": {
     "duration": 0.518619,
     "end_time": "2023-05-08T15:56:23.576184",
     "exception": false,
     "start_time": "2023-05-08T15:56:23.057565",
     "status": "completed"
    },
    "pycharm": {
     "name": "#%%\n"
    },
    "tags": []
   },
   "outputs": [],
   "source": [
    "import matplotlib.pyplot as plt\n",
    "\n",
    "# You may change the mhealth_activity module but your algorithm must support the original version\n",
    "from mhealth_activity import Recording, Trace, Activity, WatchLocation, Path\n",
    "\n",
    "# For interactive plots, uncomment the following line\n",
    "# %matplotlib widget"
   ]
  },
  {
   "attachments": {},
   "cell_type": "markdown",
   "id": "48074aef",
   "metadata": {
    "papermill": {
     "duration": 0.134617,
     "end_time": "2023-05-08T15:56:23.844764",
     "exception": false,
     "start_time": "2023-05-08T15:56:23.710147",
     "status": "completed"
    },
    "pycharm": {
     "name": "#%% md\n"
    },
    "tags": []
   },
   "source": [
    "# Reading sensor data from PKL file\n",
    "\n",
    "Create an instance of the <code>Recording</code> class that manages the data from a file"
   ]
  },
  {
   "cell_type": "code",
   "execution_count": null,
   "id": "d443de08",
   "metadata": {
    "execution": {
     "iopub.execute_input": "2023-05-08T15:56:24.115414Z",
     "iopub.status.busy": "2023-05-08T15:56:24.114981Z",
     "iopub.status.idle": "2023-05-08T15:56:25.331486Z",
     "shell.execute_reply": "2023-05-08T15:56:25.329938Z"
    },
    "papermill": {
     "duration": 1.355985,
     "end_time": "2023-05-08T15:56:25.333971",
     "exception": false,
     "start_time": "2023-05-08T15:56:23.977986",
     "status": "completed"
    },
    "pycharm": {
     "is_executing": true,
     "name": "#%%\n"
    },
    "tags": []
   },
   "outputs": [],
   "source": [
    "recording = Recording('/kaggle/input/24-exercise2/data/train/train_trace_013.pkl')\n",
    "\n",
    "# The data is stored inside a dictionary (access: recording.data[\"key\"])\n",
    "print(\"\\r\\nAvailable data traces:\")\n",
    "print(list(recording.data.keys()))\n",
    "\n",
    "if not(recording.labels is None):\n",
    "    print(\"\\r\\nLabels: \")\n",
    "    print(recording.labels)\n",
    "\n",
    "print(f\"\\r\\nRecording:\")\n",
    "for key in list(recording.data.keys()):\n",
    "    print(f'{key}: {recording.data[key]}')"
   ]
  },
  {
   "cell_type": "code",
   "execution_count": null,
   "id": "36d0bd7f",
   "metadata": {},
   "outputs": [],
   "source": [
    "print(\"ACTIVITIES\")\n",
    "for activity in Activity:\n",
    "    if activity.value in recording.labels[\"activities\"]:\n",
    "        print(f\"{activity.name} is contained in the recording, thus '{activity.name.lower()}': True\")\n",
    "    else:\n",
    "        print(f\"{activity.name} is NOT contained in the recording, thus '{activity.name.lower()}': False\")\n",
    "\n",
    "print(\"\\r\\nWATCH LOCATION\")\n",
    "print(f\"The LilyGo was worn on the {WatchLocation(recording.labels['watch_loc']).name.lower()}.\")\n",
    "\n",
    "print(\"\\r\\nPATH IDX\")\n",
    "print(f\"The participant completed {Path(recording.labels['path_idx']).name.lower()}.\")\n",
    "\n",
    "print(\"\\r\\nSTEP COUNT\")\n",
    "if \"step_count\" in recording.labels:\n",
    "    print(f\"The participant performed {recording.labels['step_count']} steps.\")\n",
    "else:\n",
    "    print(\"The step count is not available.\")\n"
   ]
  },
  {
   "attachments": {},
   "cell_type": "markdown",
   "id": "b24a4f68",
   "metadata": {
    "papermill": {
     "duration": 0.132977,
     "end_time": "2023-05-08T15:56:25.601412",
     "exception": false,
     "start_time": "2023-05-08T15:56:25.468435",
     "status": "completed"
    },
    "pycharm": {
     "name": "#%% md\n"
    },
    "tags": []
   },
   "source": [
    "## Working with timeseries\n",
    "Every value in this dictionary holds a <code>Trace</code> object to manage the data from one sensor"
   ]
  },
  {
   "cell_type": "code",
   "execution_count": null,
   "id": "4766b01c",
   "metadata": {
    "execution": {
     "iopub.execute_input": "2023-05-08T15:56:25.871665Z",
     "iopub.status.busy": "2023-05-08T15:56:25.870693Z",
     "iopub.status.idle": "2023-05-08T15:56:25.908038Z",
     "shell.execute_reply": "2023-05-08T15:56:25.906511Z"
    },
    "papermill": {
     "duration": 0.175999,
     "end_time": "2023-05-08T15:56:25.910477",
     "exception": false,
     "start_time": "2023-05-08T15:56:25.734478",
     "status": "completed"
    },
    "pycharm": {
     "is_executing": true,
     "name": "#%%\n"
    },
    "tags": []
   },
   "outputs": [],
   "source": [
    "recording = Recording('/kaggle/input/24-exercise2/data/example/medium_walk.pkl')  # Second example file: data/example/short_walk.pkl\n",
    "\n",
    "# X-axis of the LILYGO accelerometer\n",
    "ax = recording.data['ax']\n",
    "\n",
    "print(f\"Name of sensor: '{ax.title}'\")\n",
    "print(f\"Sample rate: {int(ax.samplerate)} Hz\")\n",
    "print(f\"Recording length: {ax.total_time} seconds\")\n",
    "print(f\"Timestamp of recording: {ax.raw_timestamps[0][1]}\")\n",
    "print(\"\\nGetting a time series:\")\n",
    "print(\" Time           x-Accel\")\n",
    "for x, t in list(zip(ax.timestamps, ax.values))[:20]:\n",
    "    print(f\"{x: .3f}s \\t{t:.5f}g\")"
   ]
  },
  {
   "attachments": {},
   "cell_type": "markdown",
   "id": "bdb9bea5",
   "metadata": {
    "papermill": {
     "duration": 0.133816,
     "end_time": "2023-05-08T15:56:26.178381",
     "exception": false,
     "start_time": "2023-05-08T15:56:26.044565",
     "status": "completed"
    },
    "pycharm": {
     "name": "#%% md\n"
    },
    "tags": []
   },
   "source": [
    "# Plotting"
   ]
  },
  {
   "cell_type": "code",
   "execution_count": null,
   "id": "38400622",
   "metadata": {
    "execution": {
     "iopub.execute_input": "2023-05-08T15:56:26.447354Z",
     "iopub.status.busy": "2023-05-08T15:56:26.446940Z",
     "iopub.status.idle": "2023-05-08T15:56:26.492803Z",
     "shell.execute_reply": "2023-05-08T15:56:26.491882Z"
    },
    "papermill": {
     "duration": 0.183441,
     "end_time": "2023-05-08T15:56:26.495099",
     "exception": false,
     "start_time": "2023-05-08T15:56:26.311658",
     "status": "completed"
    },
    "pycharm": {
     "is_executing": true,
     "name": "#%%\n"
    },
    "tags": []
   },
   "outputs": [],
   "source": [
    "# Display a simple plot\n",
    "recording.plot(['ax'])"
   ]
  },
  {
   "cell_type": "code",
   "execution_count": null,
   "id": "63fcd5cb",
   "metadata": {
    "execution": {
     "iopub.execute_input": "2023-05-08T15:56:26.765656Z",
     "iopub.status.busy": "2023-05-08T15:56:26.764551Z",
     "iopub.status.idle": "2023-05-08T15:56:26.813556Z",
     "shell.execute_reply": "2023-05-08T15:56:26.812732Z"
    },
    "papermill": {
     "duration": 0.185499,
     "end_time": "2023-05-08T15:56:26.815710",
     "exception": false,
     "start_time": "2023-05-08T15:56:26.630211",
     "status": "completed"
    },
    "pycharm": {
     "is_executing": true,
     "name": "#%%\n"
    },
    "tags": []
   },
   "outputs": [],
   "source": [
    "# Plot multiple axes at the same time\n",
    "# It's also possible to give titles to the y-axis and plots\n",
    "recording.plot(['ax', 'ay', 'az'], ylabels=['acceleration [g]'], labels=['Acc X', 'Acc Y', 'Acc Z'])"
   ]
  },
  {
   "cell_type": "code",
   "execution_count": null,
   "id": "54381b42",
   "metadata": {
    "execution": {
     "iopub.execute_input": "2023-05-08T15:56:27.084801Z",
     "iopub.status.busy": "2023-05-08T15:56:27.084369Z",
     "iopub.status.idle": "2023-05-08T15:56:27.422576Z",
     "shell.execute_reply": "2023-05-08T15:56:27.421400Z"
    },
    "papermill": {
     "duration": 0.477138,
     "end_time": "2023-05-08T15:56:27.426440",
     "exception": false,
     "start_time": "2023-05-08T15:56:26.949302",
     "status": "completed"
    },
    "pycharm": {
     "is_executing": true,
     "name": "#%%\n"
    },
    "tags": []
   },
   "outputs": [],
   "source": [
    "# Plot multiple sensors and multiple axes at the same time\n",
    "recording.plot([['ax', 'ay', 'az'], ['gx', 'gy', 'gz'], ['mx', 'my', 'mz'], ['altitude'], ['speed']], \n",
    "             ylabels=['acceleration [g]', 'rot. vel. [deg/s]', 'field strength [µT]', 'altitude [m]', 'speed [m/s]'],\n",
    "             labels=[['Acc X', 'Acc Y', 'Acc Z'], ['Gyro X', 'Gyro Y', 'Gyro Z'], ['Mag X', 'Mag Y', 'Mag Z'], ['Altitude'], ['Speed']])"
   ]
  },
  {
   "cell_type": "code",
   "outputs": [],
   "source": [
    "# How to Zoom In: use start_s and end_s to specify the time range in seconds\n",
    "# start_s: start of the range you want to plot (in seconds since the start of the trace)\n",
    "# end_s: end of the range you want to plot (in seconds since the start of the trace)\n",
    "recording.plot([['ax', 'ay', 'az'], ['gx', 'gy', 'gz'], ['mx', 'my', 'mz'], ['altitude'], ['speed']], \n",
    "             ylabels=['acceleration [g]', 'rot. vel. [deg/s]', 'field strength [µT]', 'altitude [m]', 'speed [m/s]'],\n",
    "             labels=[['Acc X', 'Acc Y', 'Acc Z'], ['Gyro X', 'Gyro Y', 'Gyro Z'], ['Mag X', 'Mag Y', 'Mag Z'], ['Altitude'], ['Speed']],\n",
    "               start_s=10, end_s=70)"
   ],
   "metadata": {
    "collapsed": false
   },
   "id": "666693ff2a669010",
   "execution_count": null
  },
  {
   "attachments": {},
   "cell_type": "markdown",
   "id": "2cde019f",
   "metadata": {
    "papermill": {
     "duration": 0.135072,
     "end_time": "2023-05-08T15:56:27.695416",
     "exception": false,
     "start_time": "2023-05-08T15:56:27.560344",
     "status": "completed"
    },
    "pycharm": {
     "name": "#%% md\n"
    },
    "tags": []
   },
   "source": [
    "# Display GPS data"
   ]
  },
  {
   "cell_type": "code",
   "execution_count": null,
   "id": "f37f6ee8",
   "metadata": {
    "collapsed": false,
    "execution": {
     "iopub.execute_input": "2023-05-08T15:56:27.966558Z",
     "iopub.status.busy": "2023-05-08T15:56:27.965360Z",
     "iopub.status.idle": "2023-05-08T15:56:28.070848Z",
     "shell.execute_reply": "2023-05-08T15:56:28.069982Z"
    },
    "papermill": {
     "duration": 0.244599,
     "end_time": "2023-05-08T15:56:28.073374",
     "exception": false,
     "start_time": "2023-05-08T15:56:27.828775",
     "status": "completed"
    },
    "pycharm": {
     "is_executing": true,
     "name": "#%%\n"
    },
    "tags": []
   },
   "outputs": [],
   "source": [
    "# Recording must contain gps data\n",
    "assert('latitude' in recording.data and 'longitude' in recording.data)\n",
    "\n",
    "plot_map_zurich = True\n",
    "\n",
    "# Visualize the path of the trace\n",
    "fig, ax = plt.subplots(figsize = (11,6))\n",
    "ax.scatter(recording.data['longitude'].values, recording.data['latitude'].values, zorder=1, alpha= 0.9, c='b', s=10)\n",
    "ax.set_title('Visualization of the path')\n",
    "\n",
    "if plot_map_zurich:\n",
    "    # Bounding coordinates for map\n",
    "    BBox = (8.5373,8.5593,\n",
    "            47.3673, 47.3880)\n",
    "    # Load map of Zurich\n",
    "    ruh_m = plt.imread('/kaggle/input/24-exercise2/mapzurich.png')\n",
    "    ax.set_title('GPS visualization in Zurich')\n",
    "    ax.set_xlim(BBox[0],BBox[1])\n",
    "    ax.set_ylim(BBox[2],BBox[3])\n",
    "    ax.imshow(ruh_m, zorder=0, extent = BBox)"
   ]
  },
  {
   "attachments": {},
   "cell_type": "markdown",
   "id": "ddd29823",
   "metadata": {
    "papermill": {
     "duration": 0.133901,
     "end_time": "2023-05-08T15:56:28.341241",
     "exception": false,
     "start_time": "2023-05-08T15:56:28.207340",
     "status": "completed"
    },
    "pycharm": {
     "name": "#%% md\n"
    },
    "tags": []
   },
   "source": [
    "# Generate computed traces\n",
    "\n",
    "Small example that adds an accelerometer magnitude trace\n",
    "\n",
    "<code>Trace.from_modified(cls, title: str, values: np.ndarray, timestamps: np.ndarray, time_offset: float = 0)</code> can be used to save a new or modified trace for the Recording object.\n",
    "\n",
    "<code>title</code>: Title for this collection of data.<br>\n",
    "<code>values</code>: modified values<br>\n",
    "<code>timestamps</code>: array of timestamps, one timestamp per value, usually directly taken from the original data<br>\n",
    "<code>offset</code>: optional offset in case the \"raw_timestamps\" should match the original data<br>\n",
    "\n",
    "Note: This change is only executed locally and not saved to the pkl file. Everytime you reload your dataset, you have to re-execute this steps. Alternatively, you can save a copy of your modified Recording using <code>save_to_pkl</code> (please be careful not to introduce errors in your origninal training set).\n"
   ]
  },
  {
   "cell_type": "code",
   "execution_count": null,
   "id": "f9725d16",
   "metadata": {
    "execution": {
     "iopub.execute_input": "2023-05-08T15:56:28.682657Z",
     "iopub.status.busy": "2023-05-08T15:56:28.682242Z",
     "iopub.status.idle": "2023-05-08T15:56:28.801577Z",
     "shell.execute_reply": "2023-05-08T15:56:28.800374Z"
    },
    "papermill": {
     "duration": 0.263615,
     "end_time": "2023-05-08T15:56:28.808406",
     "exception": false,
     "start_time": "2023-05-08T15:56:28.544791",
     "status": "completed"
    },
    "pycharm": {
     "is_executing": true,
     "name": "#%%\n"
    },
    "tags": []
   },
   "outputs": [],
   "source": [
    "# Trace must contain lilygo accelerometer data\n",
    "assert('ax' in recording.data and 'ay' in recording.data and 'az' in recording.data)\n",
    "# And those traces must be of the same length\n",
    "assert(len(recording.data['ax'].values) == len(recording.data['ay'].values)  and len(recording.data['ax'].values) == len(recording.data['az'].values) )\n",
    "\n",
    "magn = (recording.data['ax'].values**2 + recording.data['ay'].values**2 + recording.data['az'].values**2)**0.5\n",
    "\n",
    "recording.data['a_mag'] = Trace.from_modified('Accelerometer magnitude', magn, recording.data['ax'].timestamps, recording.data['ax'].raw_timestamps[0][1])\n",
    "\n",
    "recording.plot([['ax', 'ay', 'az'], ['a_mag']])"
   ]
  },
  {
   "attachments": {},
   "cell_type": "markdown",
   "id": "d262e1f0",
   "metadata": {
    "papermill": {
     "duration": 0.13585,
     "end_time": "2023-05-08T15:56:29.081451",
     "exception": false,
     "start_time": "2023-05-08T15:56:28.945601",
     "status": "completed"
    },
    "pycharm": {
     "name": "#%% md\n"
    },
    "tags": []
   },
   "source": [
    "# FYI: How Timestamps Are Handled (You Probably Don't Need This)\n",
    "\n",
    "Every time the smartphone receives a package via Bluetooth from the LilyGo smartwatch, up to 16 sensor values are stored at once, together with the current timestamp. Therefore, not every sensor reading has a perfectly defined timestamp that is 100% accurate.\n",
    "\n",
    "Each <code>Trace</code> contains a list of <code>raw_timestamps</code>, which are tuples of the type `(trace index, timestamp)`.\n",
    "\n",
    "The timestamps are standard Unix timestamps in milliseconds.\n",
    "\n",
    "For example, the first two entries indicate \"The 0th value arrived at 1645184293057, the 16th value at 1645184293144.\""
   ]
  },
  {
   "cell_type": "code",
   "execution_count": null,
   "id": "3b5bfa95",
   "metadata": {},
   "outputs": [],
   "source": [
    "recording.data[\"ax\"].raw_timestamps"
   ]
  },
  {
   "cell_type": "code",
   "execution_count": null,
   "id": "5f2ad443",
   "metadata": {
    "execution": {
     "iopub.execute_input": "2023-05-08T15:56:29.350621Z",
     "iopub.status.busy": "2023-05-08T15:56:29.350231Z",
     "iopub.status.idle": "2023-05-08T15:56:29.359794Z",
     "shell.execute_reply": "2023-05-08T15:56:29.358555Z"
    },
    "papermill": {
     "duration": 0.149801,
     "end_time": "2023-05-08T15:56:29.364471",
     "exception": false,
     "start_time": "2023-05-08T15:56:29.214670",
     "status": "completed"
    },
    "pycharm": {
     "is_executing": true,
     "name": "#%%\n"
    },
    "tags": []
   },
   "outputs": [],
   "source": [
    "recording.data['ax'].raw_timestamps[-1][1]-recording.data['ax'].raw_timestamps[0][1]"
   ]
  },
  {
   "attachments": {},
   "cell_type": "markdown",
   "id": "c14e1db3",
   "metadata": {
    "papermill": {
     "duration": 0.134545,
     "end_time": "2023-05-08T15:56:29.633347",
     "exception": false,
     "start_time": "2023-05-08T15:56:29.498802",
     "status": "completed"
    },
    "pycharm": {
     "name": "#%% md\n"
    },
    "tags": []
   },
   "source": [
    "The LilyGo uses a FIFO with a constant sampling rate, so it should be a fair assumption, that the delay between two consecutive readings is always the same.\n",
    "\n",
    "By default the <code>Trace.timestamps</code> array is linearly interpolated between the first and the last timestamp (<code>linspace(0, last_timestamp, num=len(values))</code>)"
   ]
  },
  {
   "cell_type": "code",
   "execution_count": null,
   "id": "edbafdc2",
   "metadata": {
    "execution": {
     "iopub.execute_input": "2023-05-08T15:56:29.908815Z",
     "iopub.status.busy": "2023-05-08T15:56:29.908408Z",
     "iopub.status.idle": "2023-05-08T15:56:29.952091Z",
     "shell.execute_reply": "2023-05-08T15:56:29.950578Z"
    },
    "papermill": {
     "duration": 0.191656,
     "end_time": "2023-05-08T15:56:29.961722",
     "exception": false,
     "start_time": "2023-05-08T15:56:29.770066",
     "status": "completed"
    },
    "pycharm": {
     "is_executing": true,
     "name": "#%%\n"
    },
    "tags": []
   },
   "outputs": [],
   "source": [
    "# Compare \"ideal\" interpolated timestamps against actual received timestamps\n",
    "recording.data['ideal_ts'] = Trace('ideal_ts', \n",
    "                                   [recording.data['timestamp'].values[0], recording.data['timestamp'].values[-1]], \n",
    "                                   [(0,recording.data['timestamp'].values[0]), \n",
    "                                    (len(recording.data['timestamp'].values), recording.data['timestamp'].values[-1])])\n",
    "recording.plot(['timestamp', 'ideal_ts'], labels=['Received timestamps', 'Interpolated Timestamps'], ylabels=['ms'])"
   ]
  }
 ],
 "metadata": {
  "kernelspec": {
   "display_name": "Python 3",
   "language": "python",
   "name": "python3"
  },
  "language_info": {
   "codemirror_mode": {
    "name": "ipython",
    "version": 3
   },
   "file_extension": ".py",
   "mimetype": "text/x-python",
   "name": "python",
   "nbconvert_exporter": "python",
   "pygments_lexer": "ipython3",
   "version": "3.9.16"
  },
  "papermill": {
   "default_parameters": {},
   "duration": 258.995033,
   "end_time": "2023-05-08T15:56:30.420093",
   "environment_variables": {},
   "exception": null,
   "input_path": "__notebook__.ipynb",
   "output_path": "__notebook__.ipynb",
   "parameters": {},
   "start_time": "2023-05-08T15:52:11.425060",
   "version": "2.4.0"
  },
  "widgets": {
   "application/vnd.jupyter.widget-state+json": {
    "state": {
     "00c7b5a4370d440da5741e9019c3a4ee": {
      "model_module": "jupyter-matplotlib",
      "model_module_version": "^0.9.0",
      "model_name": "MPLCanvasModel",
      "state": {
       "_cursor": "pointer",
       "_dom_classes": [],
       "_figure_label": "Figure",
       "_height": 0,
       "_image_mode": "full",
       "_message": "",
       "_model_module": "jupyter-matplotlib",
       "_model_module_version": "^0.9.0",
       "_model_name": "MPLCanvasModel",
       "_rubberband_height": 0,
       "_rubberband_width": 0,
       "_rubberband_x": 0,
       "_rubberband_y": 0,
       "_view_count": null,
       "_view_module": "jupyter-matplotlib",
       "_view_module_version": "^0.9.0",
       "_view_name": "MPLCanvasView",
       "_width": 0,
       "capture_scroll": false,
       "footer_visible": true,
       "header_visible": true,
       "layout": "IPY_MODEL_0ab88a6d6aab47d38df2fe28890a1dd9",
       "resizable": true,
       "toolbar": "IPY_MODEL_6ef7791d616940f9be04ad2d13328df9",
       "toolbar_position": "left",
       "toolbar_visible": true
      }
     },
     "073ecedf4b1f4748aef965cf738a383b": {
      "model_module": "@jupyter-widgets/base",
      "model_module_version": "1.2.0",
      "model_name": "LayoutModel",
      "state": {
       "_model_module": "@jupyter-widgets/base",
       "_model_module_version": "1.2.0",
       "_model_name": "LayoutModel",
       "_view_count": null,
       "_view_module": "@jupyter-widgets/base",
       "_view_module_version": "1.2.0",
       "_view_name": "LayoutView",
       "align_content": null,
       "align_items": null,
       "align_self": null,
       "border": null,
       "bottom": null,
       "display": null,
       "flex": null,
       "flex_flow": null,
       "grid_area": null,
       "grid_auto_columns": null,
       "grid_auto_flow": null,
       "grid_auto_rows": null,
       "grid_column": null,
       "grid_gap": null,
       "grid_row": null,
       "grid_template_areas": null,
       "grid_template_columns": null,
       "grid_template_rows": null,
       "height": null,
       "justify_content": null,
       "justify_items": null,
       "left": null,
       "margin": null,
       "max_height": null,
       "max_width": null,
       "min_height": null,
       "min_width": null,
       "object_fit": null,
       "object_position": null,
       "order": null,
       "overflow": null,
       "overflow_x": null,
       "overflow_y": null,
       "padding": null,
       "right": null,
       "top": null,
       "visibility": null,
       "width": null
      }
     },
     "0a7566c61c9343f6a47be800425600ff": {
      "model_module": "@jupyter-widgets/base",
      "model_module_version": "1.2.0",
      "model_name": "LayoutModel",
      "state": {
       "_model_module": "@jupyter-widgets/base",
       "_model_module_version": "1.2.0",
       "_model_name": "LayoutModel",
       "_view_count": null,
       "_view_module": "@jupyter-widgets/base",
       "_view_module_version": "1.2.0",
       "_view_name": "LayoutView",
       "align_content": null,
       "align_items": null,
       "align_self": null,
       "border": null,
       "bottom": null,
       "display": null,
       "flex": null,
       "flex_flow": null,
       "grid_area": null,
       "grid_auto_columns": null,
       "grid_auto_flow": null,
       "grid_auto_rows": null,
       "grid_column": null,
       "grid_gap": null,
       "grid_row": null,
       "grid_template_areas": null,
       "grid_template_columns": null,
       "grid_template_rows": null,
       "height": null,
       "justify_content": null,
       "justify_items": null,
       "left": null,
       "margin": null,
       "max_height": null,
       "max_width": null,
       "min_height": null,
       "min_width": null,
       "object_fit": null,
       "object_position": null,
       "order": null,
       "overflow": null,
       "overflow_x": null,
       "overflow_y": null,
       "padding": null,
       "right": null,
       "top": null,
       "visibility": null,
       "width": null
      }
     },
     "0ab88a6d6aab47d38df2fe28890a1dd9": {
      "model_module": "@jupyter-widgets/base",
      "model_module_version": "1.2.0",
      "model_name": "LayoutModel",
      "state": {
       "_model_module": "@jupyter-widgets/base",
       "_model_module_version": "1.2.0",
       "_model_name": "LayoutModel",
       "_view_count": null,
       "_view_module": "@jupyter-widgets/base",
       "_view_module_version": "1.2.0",
       "_view_name": "LayoutView",
       "align_content": null,
       "align_items": null,
       "align_self": null,
       "border": null,
       "bottom": null,
       "display": null,
       "flex": null,
       "flex_flow": null,
       "grid_area": null,
       "grid_auto_columns": null,
       "grid_auto_flow": null,
       "grid_auto_rows": null,
       "grid_column": null,
       "grid_gap": null,
       "grid_row": null,
       "grid_template_areas": null,
       "grid_template_columns": null,
       "grid_template_rows": null,
       "height": null,
       "justify_content": null,
       "justify_items": null,
       "left": null,
       "margin": null,
       "max_height": null,
       "max_width": null,
       "min_height": null,
       "min_width": null,
       "object_fit": null,
       "object_position": null,
       "order": null,
       "overflow": null,
       "overflow_x": null,
       "overflow_y": null,
       "padding": null,
       "right": null,
       "top": null,
       "visibility": null,
       "width": null
      }
     },
     "0c81743535ea4007a97860e576982cef": {
      "model_module": "@jupyter-widgets/base",
      "model_module_version": "1.2.0",
      "model_name": "LayoutModel",
      "state": {
       "_model_module": "@jupyter-widgets/base",
       "_model_module_version": "1.2.0",
       "_model_name": "LayoutModel",
       "_view_count": null,
       "_view_module": "@jupyter-widgets/base",
       "_view_module_version": "1.2.0",
       "_view_name": "LayoutView",
       "align_content": null,
       "align_items": null,
       "align_self": null,
       "border": null,
       "bottom": null,
       "display": null,
       "flex": null,
       "flex_flow": null,
       "grid_area": null,
       "grid_auto_columns": null,
       "grid_auto_flow": null,
       "grid_auto_rows": null,
       "grid_column": null,
       "grid_gap": null,
       "grid_row": null,
       "grid_template_areas": null,
       "grid_template_columns": null,
       "grid_template_rows": null,
       "height": null,
       "justify_content": null,
       "justify_items": null,
       "left": null,
       "margin": null,
       "max_height": null,
       "max_width": null,
       "min_height": null,
       "min_width": null,
       "object_fit": null,
       "object_position": null,
       "order": null,
       "overflow": null,
       "overflow_x": null,
       "overflow_y": null,
       "padding": null,
       "right": null,
       "top": null,
       "visibility": null,
       "width": null
      }
     },
     "10a3ead5b29b4c978a24394bbc28fcb5": {
      "model_module": "@jupyter-widgets/base",
      "model_module_version": "1.2.0",
      "model_name": "LayoutModel",
      "state": {
       "_model_module": "@jupyter-widgets/base",
       "_model_module_version": "1.2.0",
       "_model_name": "LayoutModel",
       "_view_count": null,
       "_view_module": "@jupyter-widgets/base",
       "_view_module_version": "1.2.0",
       "_view_name": "LayoutView",
       "align_content": null,
       "align_items": null,
       "align_self": null,
       "border": null,
       "bottom": null,
       "display": null,
       "flex": null,
       "flex_flow": null,
       "grid_area": null,
       "grid_auto_columns": null,
       "grid_auto_flow": null,
       "grid_auto_rows": null,
       "grid_column": null,
       "grid_gap": null,
       "grid_row": null,
       "grid_template_areas": null,
       "grid_template_columns": null,
       "grid_template_rows": null,
       "height": null,
       "justify_content": null,
       "justify_items": null,
       "left": null,
       "margin": null,
       "max_height": null,
       "max_width": null,
       "min_height": null,
       "min_width": null,
       "object_fit": null,
       "object_position": null,
       "order": null,
       "overflow": null,
       "overflow_x": null,
       "overflow_y": null,
       "padding": null,
       "right": null,
       "top": null,
       "visibility": null,
       "width": null
      }
     },
     "15ff8c9ab36b4ea2bee42ce24417b9f6": {
      "model_module": "jupyter-matplotlib",
      "model_module_version": "^0.9.0",
      "model_name": "ToolbarModel",
      "state": {
       "_current_action": "",
       "_dom_classes": [],
       "_model_module": "jupyter-matplotlib",
       "_model_module_version": "^0.9.0",
       "_model_name": "ToolbarModel",
       "_view_count": null,
       "_view_module": "jupyter-matplotlib",
       "_view_module_version": "^0.9.0",
       "_view_name": "ToolbarView",
       "button_style": "",
       "collapsed": true,
       "layout": "IPY_MODEL_f9d6793876ca43a5a9233c09c4decfe4",
       "orientation": "vertical",
       "toolitems": [
        [
         "Home",
         "Reset original view",
         "home",
         "home"
        ],
        [
         "Back",
         "Back to previous view",
         "arrow-left",
         "back"
        ],
        [
         "Forward",
         "Forward to next view",
         "arrow-right",
         "forward"
        ],
        [
         "Pan",
         "Left button pans, Right button zooms\nx/y fixes axis, CTRL fixes aspect",
         "arrows",
         "pan"
        ],
        [
         "Zoom",
         "Zoom to rectangle\nx/y fixes axis",
         "square-o",
         "zoom"
        ],
        [
         "Download",
         "Download plot",
         "floppy-o",
         "save_figure"
        ]
       ]
      }
     },
     "2109b014921747888df94b2928f6a5cc": {
      "model_module": "jupyter-matplotlib",
      "model_module_version": "^0.9.0",
      "model_name": "MPLCanvasModel",
      "state": {
       "_cursor": "pointer",
       "_dom_classes": [],
       "_figure_label": "Figure",
       "_height": 0,
       "_image_mode": "full",
       "_message": "",
       "_model_module": "jupyter-matplotlib",
       "_model_module_version": "^0.9.0",
       "_model_name": "MPLCanvasModel",
       "_rubberband_height": 0,
       "_rubberband_width": 0,
       "_rubberband_x": 0,
       "_rubberband_y": 0,
       "_view_count": null,
       "_view_module": "jupyter-matplotlib",
       "_view_module_version": "^0.9.0",
       "_view_name": "MPLCanvasView",
       "_width": 0,
       "capture_scroll": false,
       "footer_visible": true,
       "header_visible": true,
       "layout": "IPY_MODEL_0c81743535ea4007a97860e576982cef",
       "resizable": true,
       "toolbar": "IPY_MODEL_8bc9cf7592674853a10e264cb0a151f3",
       "toolbar_position": "left",
       "toolbar_visible": true
      }
     },
     "24ebd47b9161484991d095c47eaba4dd": {
      "model_module": "@jupyter-widgets/base",
      "model_module_version": "1.2.0",
      "model_name": "LayoutModel",
      "state": {
       "_model_module": "@jupyter-widgets/base",
       "_model_module_version": "1.2.0",
       "_model_name": "LayoutModel",
       "_view_count": null,
       "_view_module": "@jupyter-widgets/base",
       "_view_module_version": "1.2.0",
       "_view_name": "LayoutView",
       "align_content": null,
       "align_items": null,
       "align_self": null,
       "border": null,
       "bottom": null,
       "display": null,
       "flex": null,
       "flex_flow": null,
       "grid_area": null,
       "grid_auto_columns": null,
       "grid_auto_flow": null,
       "grid_auto_rows": null,
       "grid_column": null,
       "grid_gap": null,
       "grid_row": null,
       "grid_template_areas": null,
       "grid_template_columns": null,
       "grid_template_rows": null,
       "height": null,
       "justify_content": null,
       "justify_items": null,
       "left": null,
       "margin": null,
       "max_height": null,
       "max_width": null,
       "min_height": null,
       "min_width": null,
       "object_fit": null,
       "object_position": null,
       "order": null,
       "overflow": null,
       "overflow_x": null,
       "overflow_y": null,
       "padding": null,
       "right": null,
       "top": null,
       "visibility": null,
       "width": null
      }
     },
     "359a501b81204dcdaf47192f6562a5b4": {
      "model_module": "@jupyter-widgets/base",
      "model_module_version": "1.2.0",
      "model_name": "LayoutModel",
      "state": {
       "_model_module": "@jupyter-widgets/base",
       "_model_module_version": "1.2.0",
       "_model_name": "LayoutModel",
       "_view_count": null,
       "_view_module": "@jupyter-widgets/base",
       "_view_module_version": "1.2.0",
       "_view_name": "LayoutView",
       "align_content": null,
       "align_items": null,
       "align_self": null,
       "border": null,
       "bottom": null,
       "display": null,
       "flex": null,
       "flex_flow": null,
       "grid_area": null,
       "grid_auto_columns": null,
       "grid_auto_flow": null,
       "grid_auto_rows": null,
       "grid_column": null,
       "grid_gap": null,
       "grid_row": null,
       "grid_template_areas": null,
       "grid_template_columns": null,
       "grid_template_rows": null,
       "height": null,
       "justify_content": null,
       "justify_items": null,
       "left": null,
       "margin": null,
       "max_height": null,
       "max_width": null,
       "min_height": null,
       "min_width": null,
       "object_fit": null,
       "object_position": null,
       "order": null,
       "overflow": null,
       "overflow_x": null,
       "overflow_y": null,
       "padding": null,
       "right": null,
       "top": null,
       "visibility": null,
       "width": null
      }
     },
     "3a4b6d3e6feb41ee8f025d3b49e5d62b": {
      "model_module": "jupyter-matplotlib",
      "model_module_version": "^0.9.0",
      "model_name": "MPLCanvasModel",
      "state": {
       "_cursor": "pointer",
       "_dom_classes": [],
       "_figure_label": "Figure",
       "_height": 0,
       "_image_mode": "full",
       "_message": "",
       "_model_module": "jupyter-matplotlib",
       "_model_module_version": "^0.9.0",
       "_model_name": "MPLCanvasModel",
       "_rubberband_height": 0,
       "_rubberband_width": 0,
       "_rubberband_x": 0,
       "_rubberband_y": 0,
       "_view_count": null,
       "_view_module": "jupyter-matplotlib",
       "_view_module_version": "^0.9.0",
       "_view_name": "MPLCanvasView",
       "_width": 0,
       "capture_scroll": false,
       "footer_visible": true,
       "header_visible": true,
       "layout": "IPY_MODEL_10a3ead5b29b4c978a24394bbc28fcb5",
       "resizable": true,
       "toolbar": "IPY_MODEL_ea3329a52d1f4f3bb2debfed2f899680",
       "toolbar_position": "left",
       "toolbar_visible": true
      }
     },
     "3f4afcefb7734989901b33b6449ee377": {
      "model_module": "@jupyter-widgets/base",
      "model_module_version": "1.2.0",
      "model_name": "LayoutModel",
      "state": {
       "_model_module": "@jupyter-widgets/base",
       "_model_module_version": "1.2.0",
       "_model_name": "LayoutModel",
       "_view_count": null,
       "_view_module": "@jupyter-widgets/base",
       "_view_module_version": "1.2.0",
       "_view_name": "LayoutView",
       "align_content": null,
       "align_items": null,
       "align_self": null,
       "border": null,
       "bottom": null,
       "display": null,
       "flex": null,
       "flex_flow": null,
       "grid_area": null,
       "grid_auto_columns": null,
       "grid_auto_flow": null,
       "grid_auto_rows": null,
       "grid_column": null,
       "grid_gap": null,
       "grid_row": null,
       "grid_template_areas": null,
       "grid_template_columns": null,
       "grid_template_rows": null,
       "height": null,
       "justify_content": null,
       "justify_items": null,
       "left": null,
       "margin": null,
       "max_height": null,
       "max_width": null,
       "min_height": null,
       "min_width": null,
       "object_fit": null,
       "object_position": null,
       "order": null,
       "overflow": null,
       "overflow_x": null,
       "overflow_y": null,
       "padding": null,
       "right": null,
       "top": null,
       "visibility": null,
       "width": null
      }
     },
     "50586eba3be94317bd386beb7c9c32fb": {
      "model_module": "jupyter-matplotlib",
      "model_module_version": "^0.9.0",
      "model_name": "MPLCanvasModel",
      "state": {
       "_cursor": "pointer",
       "_dom_classes": [],
       "_figure_label": "Figure",
       "_height": 0,
       "_image_mode": "full",
       "_message": "",
       "_model_module": "jupyter-matplotlib",
       "_model_module_version": "^0.9.0",
       "_model_name": "MPLCanvasModel",
       "_rubberband_height": 0,
       "_rubberband_width": 0,
       "_rubberband_x": 0,
       "_rubberband_y": 0,
       "_view_count": null,
       "_view_module": "jupyter-matplotlib",
       "_view_module_version": "^0.9.0",
       "_view_name": "MPLCanvasView",
       "_width": 0,
       "capture_scroll": false,
       "footer_visible": true,
       "header_visible": true,
       "layout": "IPY_MODEL_0a7566c61c9343f6a47be800425600ff",
       "resizable": true,
       "toolbar": "IPY_MODEL_fd15679d5e8548b8a6463abe17a95a42",
       "toolbar_position": "left",
       "toolbar_visible": true
      }
     },
     "610d9124170345c99d3cd46393909cc3": {
      "model_module": "@jupyter-widgets/base",
      "model_module_version": "1.2.0",
      "model_name": "LayoutModel",
      "state": {
       "_model_module": "@jupyter-widgets/base",
       "_model_module_version": "1.2.0",
       "_model_name": "LayoutModel",
       "_view_count": null,
       "_view_module": "@jupyter-widgets/base",
       "_view_module_version": "1.2.0",
       "_view_name": "LayoutView",
       "align_content": null,
       "align_items": null,
       "align_self": null,
       "border": null,
       "bottom": null,
       "display": null,
       "flex": null,
       "flex_flow": null,
       "grid_area": null,
       "grid_auto_columns": null,
       "grid_auto_flow": null,
       "grid_auto_rows": null,
       "grid_column": null,
       "grid_gap": null,
       "grid_row": null,
       "grid_template_areas": null,
       "grid_template_columns": null,
       "grid_template_rows": null,
       "height": null,
       "justify_content": null,
       "justify_items": null,
       "left": null,
       "margin": null,
       "max_height": null,
       "max_width": null,
       "min_height": null,
       "min_width": null,
       "object_fit": null,
       "object_position": null,
       "order": null,
       "overflow": null,
       "overflow_x": null,
       "overflow_y": null,
       "padding": null,
       "right": null,
       "top": null,
       "visibility": null,
       "width": null
      }
     },
     "64f0d3d5379543f98f1b04ae857fc4f6": {
      "model_module": "jupyter-matplotlib",
      "model_module_version": "^0.9.0",
      "model_name": "ToolbarModel",
      "state": {
       "_current_action": "",
       "_dom_classes": [],
       "_model_module": "jupyter-matplotlib",
       "_model_module_version": "^0.9.0",
       "_model_name": "ToolbarModel",
       "_view_count": null,
       "_view_module": "jupyter-matplotlib",
       "_view_module_version": "^0.9.0",
       "_view_name": "ToolbarView",
       "button_style": "",
       "collapsed": true,
       "layout": "IPY_MODEL_9930da9f3733407c93e6c287d1846c30",
       "orientation": "vertical",
       "toolitems": [
        [
         "Home",
         "Reset original view",
         "home",
         "home"
        ],
        [
         "Back",
         "Back to previous view",
         "arrow-left",
         "back"
        ],
        [
         "Forward",
         "Forward to next view",
         "arrow-right",
         "forward"
        ],
        [
         "Pan",
         "Left button pans, Right button zooms\nx/y fixes axis, CTRL fixes aspect",
         "arrows",
         "pan"
        ],
        [
         "Zoom",
         "Zoom to rectangle\nx/y fixes axis",
         "square-o",
         "zoom"
        ],
        [
         "Download",
         "Download plot",
         "floppy-o",
         "save_figure"
        ]
       ]
      }
     },
     "6ef7791d616940f9be04ad2d13328df9": {
      "model_module": "jupyter-matplotlib",
      "model_module_version": "^0.9.0",
      "model_name": "ToolbarModel",
      "state": {
       "_current_action": "",
       "_dom_classes": [],
       "_model_module": "jupyter-matplotlib",
       "_model_module_version": "^0.9.0",
       "_model_name": "ToolbarModel",
       "_view_count": null,
       "_view_module": "jupyter-matplotlib",
       "_view_module_version": "^0.9.0",
       "_view_name": "ToolbarView",
       "button_style": "",
       "collapsed": true,
       "layout": "IPY_MODEL_073ecedf4b1f4748aef965cf738a383b",
       "orientation": "vertical",
       "toolitems": [
        [
         "Home",
         "Reset original view",
         "home",
         "home"
        ],
        [
         "Back",
         "Back to previous view",
         "arrow-left",
         "back"
        ],
        [
         "Forward",
         "Forward to next view",
         "arrow-right",
         "forward"
        ],
        [
         "Pan",
         "Left button pans, Right button zooms\nx/y fixes axis, CTRL fixes aspect",
         "arrows",
         "pan"
        ],
        [
         "Zoom",
         "Zoom to rectangle\nx/y fixes axis",
         "square-o",
         "zoom"
        ],
        [
         "Download",
         "Download plot",
         "floppy-o",
         "save_figure"
        ]
       ]
      }
     },
     "6ff2dc6b8dd848e3b213166de21a9d57": {
      "model_module": "jupyter-matplotlib",
      "model_module_version": "^0.9.0",
      "model_name": "MPLCanvasModel",
      "state": {
       "_cursor": "pointer",
       "_dom_classes": [],
       "_figure_label": "Figure",
       "_height": 0,
       "_image_mode": "full",
       "_message": "",
       "_model_module": "jupyter-matplotlib",
       "_model_module_version": "^0.9.0",
       "_model_name": "MPLCanvasModel",
       "_rubberband_height": 0,
       "_rubberband_width": 0,
       "_rubberband_x": 0,
       "_rubberband_y": 0,
       "_view_count": null,
       "_view_module": "jupyter-matplotlib",
       "_view_module_version": "^0.9.0",
       "_view_name": "MPLCanvasView",
       "_width": 0,
       "capture_scroll": false,
       "footer_visible": true,
       "header_visible": true,
       "layout": "IPY_MODEL_610d9124170345c99d3cd46393909cc3",
       "resizable": true,
       "toolbar": "IPY_MODEL_15ff8c9ab36b4ea2bee42ce24417b9f6",
       "toolbar_position": "left",
       "toolbar_visible": true
      }
     },
     "8bc9cf7592674853a10e264cb0a151f3": {
      "model_module": "jupyter-matplotlib",
      "model_module_version": "^0.9.0",
      "model_name": "ToolbarModel",
      "state": {
       "_current_action": "",
       "_dom_classes": [],
       "_model_module": "jupyter-matplotlib",
       "_model_module_version": "^0.9.0",
       "_model_name": "ToolbarModel",
       "_view_count": null,
       "_view_module": "jupyter-matplotlib",
       "_view_module_version": "^0.9.0",
       "_view_name": "ToolbarView",
       "button_style": "",
       "collapsed": true,
       "layout": "IPY_MODEL_24ebd47b9161484991d095c47eaba4dd",
       "orientation": "vertical",
       "toolitems": [
        [
         "Home",
         "Reset original view",
         "home",
         "home"
        ],
        [
         "Back",
         "Back to previous view",
         "arrow-left",
         "back"
        ],
        [
         "Forward",
         "Forward to next view",
         "arrow-right",
         "forward"
        ],
        [
         "Pan",
         "Left button pans, Right button zooms\nx/y fixes axis, CTRL fixes aspect",
         "arrows",
         "pan"
        ],
        [
         "Zoom",
         "Zoom to rectangle\nx/y fixes axis",
         "square-o",
         "zoom"
        ],
        [
         "Download",
         "Download plot",
         "floppy-o",
         "save_figure"
        ]
       ]
      }
     },
     "9930da9f3733407c93e6c287d1846c30": {
      "model_module": "@jupyter-widgets/base",
      "model_module_version": "1.2.0",
      "model_name": "LayoutModel",
      "state": {
       "_model_module": "@jupyter-widgets/base",
       "_model_module_version": "1.2.0",
       "_model_name": "LayoutModel",
       "_view_count": null,
       "_view_module": "@jupyter-widgets/base",
       "_view_module_version": "1.2.0",
       "_view_name": "LayoutView",
       "align_content": null,
       "align_items": null,
       "align_self": null,
       "border": null,
       "bottom": null,
       "display": null,
       "flex": null,
       "flex_flow": null,
       "grid_area": null,
       "grid_auto_columns": null,
       "grid_auto_flow": null,
       "grid_auto_rows": null,
       "grid_column": null,
       "grid_gap": null,
       "grid_row": null,
       "grid_template_areas": null,
       "grid_template_columns": null,
       "grid_template_rows": null,
       "height": null,
       "justify_content": null,
       "justify_items": null,
       "left": null,
       "margin": null,
       "max_height": null,
       "max_width": null,
       "min_height": null,
       "min_width": null,
       "object_fit": null,
       "object_position": null,
       "order": null,
       "overflow": null,
       "overflow_x": null,
       "overflow_y": null,
       "padding": null,
       "right": null,
       "top": null,
       "visibility": null,
       "width": null
      }
     },
     "e6c2a9f888954e929f6a2897d982b65d": {
      "model_module": "@jupyter-widgets/base",
      "model_module_version": "1.2.0",
      "model_name": "LayoutModel",
      "state": {
       "_model_module": "@jupyter-widgets/base",
       "_model_module_version": "1.2.0",
       "_model_name": "LayoutModel",
       "_view_count": null,
       "_view_module": "@jupyter-widgets/base",
       "_view_module_version": "1.2.0",
       "_view_name": "LayoutView",
       "align_content": null,
       "align_items": null,
       "align_self": null,
       "border": null,
       "bottom": null,
       "display": null,
       "flex": null,
       "flex_flow": null,
       "grid_area": null,
       "grid_auto_columns": null,
       "grid_auto_flow": null,
       "grid_auto_rows": null,
       "grid_column": null,
       "grid_gap": null,
       "grid_row": null,
       "grid_template_areas": null,
       "grid_template_columns": null,
       "grid_template_rows": null,
       "height": null,
       "justify_content": null,
       "justify_items": null,
       "left": null,
       "margin": null,
       "max_height": null,
       "max_width": null,
       "min_height": null,
       "min_width": null,
       "object_fit": null,
       "object_position": null,
       "order": null,
       "overflow": null,
       "overflow_x": null,
       "overflow_y": null,
       "padding": null,
       "right": null,
       "top": null,
       "visibility": null,
       "width": null
      }
     },
     "ea3329a52d1f4f3bb2debfed2f899680": {
      "model_module": "jupyter-matplotlib",
      "model_module_version": "^0.9.0",
      "model_name": "ToolbarModel",
      "state": {
       "_current_action": "",
       "_dom_classes": [],
       "_model_module": "jupyter-matplotlib",
       "_model_module_version": "^0.9.0",
       "_model_name": "ToolbarModel",
       "_view_count": null,
       "_view_module": "jupyter-matplotlib",
       "_view_module_version": "^0.9.0",
       "_view_name": "ToolbarView",
       "button_style": "",
       "collapsed": true,
       "layout": "IPY_MODEL_359a501b81204dcdaf47192f6562a5b4",
       "orientation": "vertical",
       "toolitems": [
        [
         "Home",
         "Reset original view",
         "home",
         "home"
        ],
        [
         "Back",
         "Back to previous view",
         "arrow-left",
         "back"
        ],
        [
         "Forward",
         "Forward to next view",
         "arrow-right",
         "forward"
        ],
        [
         "Pan",
         "Left button pans, Right button zooms\nx/y fixes axis, CTRL fixes aspect",
         "arrows",
         "pan"
        ],
        [
         "Zoom",
         "Zoom to rectangle\nx/y fixes axis",
         "square-o",
         "zoom"
        ],
        [
         "Download",
         "Download plot",
         "floppy-o",
         "save_figure"
        ]
       ]
      }
     },
     "f9d6793876ca43a5a9233c09c4decfe4": {
      "model_module": "@jupyter-widgets/base",
      "model_module_version": "1.2.0",
      "model_name": "LayoutModel",
      "state": {
       "_model_module": "@jupyter-widgets/base",
       "_model_module_version": "1.2.0",
       "_model_name": "LayoutModel",
       "_view_count": null,
       "_view_module": "@jupyter-widgets/base",
       "_view_module_version": "1.2.0",
       "_view_name": "LayoutView",
       "align_content": null,
       "align_items": null,
       "align_self": null,
       "border": null,
       "bottom": null,
       "display": null,
       "flex": null,
       "flex_flow": null,
       "grid_area": null,
       "grid_auto_columns": null,
       "grid_auto_flow": null,
       "grid_auto_rows": null,
       "grid_column": null,
       "grid_gap": null,
       "grid_row": null,
       "grid_template_areas": null,
       "grid_template_columns": null,
       "grid_template_rows": null,
       "height": null,
       "justify_content": null,
       "justify_items": null,
       "left": null,
       "margin": null,
       "max_height": null,
       "max_width": null,
       "min_height": null,
       "min_width": null,
       "object_fit": null,
       "object_position": null,
       "order": null,
       "overflow": null,
       "overflow_x": null,
       "overflow_y": null,
       "padding": null,
       "right": null,
       "top": null,
       "visibility": null,
       "width": null
      }
     },
     "fd15679d5e8548b8a6463abe17a95a42": {
      "model_module": "jupyter-matplotlib",
      "model_module_version": "^0.9.0",
      "model_name": "ToolbarModel",
      "state": {
       "_current_action": "",
       "_dom_classes": [],
       "_model_module": "jupyter-matplotlib",
       "_model_module_version": "^0.9.0",
       "_model_name": "ToolbarModel",
       "_view_count": null,
       "_view_module": "jupyter-matplotlib",
       "_view_module_version": "^0.9.0",
       "_view_name": "ToolbarView",
       "button_style": "",
       "collapsed": true,
       "layout": "IPY_MODEL_3f4afcefb7734989901b33b6449ee377",
       "orientation": "vertical",
       "toolitems": [
        [
         "Home",
         "Reset original view",
         "home",
         "home"
        ],
        [
         "Back",
         "Back to previous view",
         "arrow-left",
         "back"
        ],
        [
         "Forward",
         "Forward to next view",
         "arrow-right",
         "forward"
        ],
        [
         "Pan",
         "Left button pans, Right button zooms\nx/y fixes axis, CTRL fixes aspect",
         "arrows",
         "pan"
        ],
        [
         "Zoom",
         "Zoom to rectangle\nx/y fixes axis",
         "square-o",
         "zoom"
        ],
        [
         "Download",
         "Download plot",
         "floppy-o",
         "save_figure"
        ]
       ]
      }
     },
     "ff3ac944ad4240d4ba926e9700e01463": {
      "model_module": "jupyter-matplotlib",
      "model_module_version": "^0.9.0",
      "model_name": "MPLCanvasModel",
      "state": {
       "_cursor": "pointer",
       "_dom_classes": [],
       "_figure_label": "Figure",
       "_height": 0,
       "_image_mode": "full",
       "_message": "",
       "_model_module": "jupyter-matplotlib",
       "_model_module_version": "^0.9.0",
       "_model_name": "MPLCanvasModel",
       "_rubberband_height": 0,
       "_rubberband_width": 0,
       "_rubberband_x": 0,
       "_rubberband_y": 0,
       "_view_count": null,
       "_view_module": "jupyter-matplotlib",
       "_view_module_version": "^0.9.0",
       "_view_name": "MPLCanvasView",
       "_width": 0,
       "capture_scroll": false,
       "footer_visible": true,
       "header_visible": true,
       "layout": "IPY_MODEL_e6c2a9f888954e929f6a2897d982b65d",
       "resizable": true,
       "toolbar": "IPY_MODEL_64f0d3d5379543f98f1b04ae857fc4f6",
       "toolbar_position": "left",
       "toolbar_visible": true
      }
     }
    },
    "version_major": 2,
    "version_minor": 0
   }
  }
 },
 "nbformat": 4,
 "nbformat_minor": 5
}
