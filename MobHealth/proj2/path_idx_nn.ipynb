{
 "cells": [
  {
   "cell_type": "code",
   "execution_count": 1,
   "metadata": {},
   "outputs": [],
   "source": [
    "# This is the template for the submission. You can develop your algorithm in a regular Python script and copy the code here for submission.\n",
    "\n",
    "# TEAM NAME ON KAGGLE\n",
    "# \"EXAMPLE_GROUP\"\n",
    "\n",
    "# GROUP NUMBER\n",
    "# \"group_XX\"\n",
    "\n",
    "# TEAM MEMBERS (E-MAIL, LEGI, KAGGLE USERNAME):\n",
    "# \"examplestudent1@ethz.ch\", \"12-345-678\", \"eXampl3stdNtone\" \n",
    "# \"examplestudent2@ethz.ch\", \"12-345-679\", \"xXexamplestudent2Xx\"\n",
    "# \"examplestudent3@ethz.ch\", \"12-345-670\", \"mhealth_student_98\""
   ]
  },
  {
   "cell_type": "code",
   "execution_count": 64,
   "metadata": {},
   "outputs": [],
   "source": [
    "from os import listdir\n",
    "from os.path import isfile, join\n",
    "import re\n",
    "\n",
    "import pandas as pd\n",
    "import numpy as np\n",
    "\n",
    "# You may change the mhealth_activity module but your algorithm must support the original version\n",
    "from mhealth_activity import Recording\n",
    "import matplotlib.pyplot as plt\n",
    "\n",
    "import torch\n",
    "from torch import nn\n",
    "\n",
    "from xgboost import XGBClassifier\n",
    "from sklearn.model_selection import train_test_split\n",
    "from sklearn.metrics import accuracy_score, balanced_accuracy_score, confusion_matrix\n",
    "\n",
    "# For interactive graphs\n",
    "# %matplotlib widget"
   ]
  },
  {
   "cell_type": "code",
   "execution_count": 132,
   "metadata": {},
   "outputs": [],
   "source": [
    "\n",
    "# Get the path for all test traces\n",
    "'''\n",
    "dir_traces_test = 'data/test'\n",
    "filenames_test = [join(dir_traces_test, f) for f in listdir(dir_traces_test) if isfile(join(dir_traces_test, f))]\n",
    "filenames_test.sort()\n",
    "recordings_test = []\n",
    "for fn in filenames_test:\n",
    "    rec = Recording(fn)\n",
    "    match = re.search(r'(\\d{3})\\.pkl$', fn)\n",
    "    if match:\n",
    "        id = int(match.group(1))\n",
    "        rec.id = id\n",
    "    else:\n",
    "        raise ValueError(f'Filename {fn} does not match expected format')\n",
    "    recordings_test.append(rec)\n",
    "'''\n",
    "    \n",
    "    \n",
    "dir_traces_train = 'data/train'\n",
    "filenames_train = [join(dir_traces_train, f) for f in listdir(dir_traces_train) if isfile(join(dir_traces_train, f))]\n",
    "filenames_train.sort()\n",
    "\n",
    "alts_train = []\n",
    "path_idxs = []\n",
    "activities = []\n",
    "mxs = []\n",
    "mys = []\n",
    "mzs = []\n",
    "axs = []\n",
    "ays = []\n",
    "azs = []\n",
    "for fn in filenames_train:\n",
    "    rec = Recording(fn)\n",
    "    alts_train.append(rec.data['altitude'].values)\n",
    "    path_idxs.append(rec.labels['path_idx'])\n",
    "    #activities.append(rec.labels['activities'])\n",
    "    mxs.append(rec.data['mx'].values)\n",
    "    mys.append(rec.data['my'].values)\n",
    "    mzs.append(rec.data['mz'].values)\n",
    "    axs.append(rec.data['ax'].values)\n",
    "    ays.append(rec.data['ay'].values)\n",
    "    azs.append(rec.data['az'].values)"
   ]
  },
  {
   "cell_type": "code",
   "execution_count": 133,
   "metadata": {},
   "outputs": [],
   "source": [
    "dir_traces_test = 'data/test'\n",
    "filenames_test = [join(dir_traces_test, f) for f in listdir(dir_traces_test) if isfile(join(dir_traces_test, f))]\n",
    "filenames_test.sort()\n",
    "\n",
    "alts_test = []\n",
    "\n",
    "for fn in filenames_test:\n",
    "    rec = Recording(fn)\n",
    "    alts_test.append(rec.data['altitude'].values)\n",
    "    "
   ]
  },
  {
   "cell_type": "code",
   "execution_count": 110,
   "metadata": {},
   "outputs": [],
   "source": [
    "from scipy.signal import argrelextrema, find_peaks\n",
    "from torch.utils.data import TensorDataset, DataLoader\n",
    "\n",
    "def centered_moving_average(data, window_size):\n",
    "    ret = np.cumsum(data, dtype=float)\n",
    "    ret[window_size:] = ret[window_size:] - ret[:-window_size]\n",
    "    return ret[window_size - 1:] / window_size\n",
    "def plot_array(arr):\n",
    "    plt.figure(figsize=(25, 3))\n",
    "    plt.plot(arr)\n",
    "    plt.show()\n",
    "\n",
    "def windowed_peak_detection(data, window_size):\n",
    "    # Initialize an empty list to store the peaks\n",
    "    peaks = []\n",
    "\n",
    "    # Divide the data into windows\n",
    "    for i in range(0, len(data), window_size):\n",
    "        window = data[i:i + window_size]\n",
    "\n",
    "        # Compute the relative maxima of the window\n",
    "        window_peaks = argrelextrema(window, np.greater)\n",
    "\n",
    "        # Add the indices of the peaks to the list\n",
    "        peaks.extend(window_peaks[0] + i)\n",
    "\n",
    "    return np.array(peaks)\n",
    "\n",
    "def get_steps_from_peaks(data, peaks, threshold=1.25):\n",
    "    steps=0\n",
    "    for peak in peaks:\n",
    "        if data[peak]>threshold:\n",
    "            steps+=1\n",
    "    return steps\n",
    "\n",
    "def get_steps(data, window_size=80, threshold=1.25):\n",
    "    peaks, _ = find_peaks(data, height=1.25, distance=80)\n",
    "    steps = get_steps_from_peaks(data, peaks, threshold)\n",
    "    return steps\n",
    "\n",
    "with open('indices.txt', 'r') as f:\n",
    "    indices = [line.rstrip() for line in f]\n",
    "    \n",
    "\n",
    "def pad_arrays(arr_list):\n",
    "    max_len = max(len(arr) for arr in arr_list)\n",
    "    return [np.pad(arr, (0, max_len - len(arr)), 'constant') for arr in arr_list]\n",
    "\n",
    "def pad_arrays_len(arr_list, pad_length=10032):\n",
    "    #10032\n",
    "    return [np.pad(arr, (0, pad_length - len(arr)), 'constant') if len(arr) < pad_length else arr[:pad_length] for arr in arr_list]\n",
    "\n",
    "def create_one_hot_vector(num):\n",
    "    return [1 if i == num else 0 for i in range(5)]\n",
    "\n",
    "def create_dataloaders(X, y, batch_size=16, test_size=0.2):\n",
    "    # Convert X and y into PyTorch tensors\n",
    "    X_tensor = torch.tensor(X, dtype=torch.float32)\n",
    "    y_tensor = torch.tensor(y, dtype=torch.float32)\n",
    "\n",
    "    # Split the data into training and testing sets\n",
    "    X_train, X_test, y_train, y_test = train_test_split(X_tensor, y_tensor, test_size=test_size)\n",
    "\n",
    "    # Create TensorDatasets for the training and testing sets\n",
    "    train_data = TensorDataset(X_train, y_train)\n",
    "    test_data = TensorDataset(X_test, y_test)\n",
    "\n",
    "    # Create DataLoaders for the training and testing sets\n",
    "    train_loader = DataLoader(train_data, batch_size=batch_size, shuffle=True)\n",
    "    test_loader = DataLoader(test_data, batch_size=batch_size, shuffle=True)\n",
    "\n",
    "    return train_loader, test_loader\n",
    "\n",
    "def train_model(dataloader, model, epochs=5):\n",
    "    size = len(dataloader.dataset)\n",
    "    \n",
    "    model.train()\n",
    "    optimizer = torch.optim.Adam(model.parameters(), lr=1e-3)\n",
    "    device = torch.device(\"cuda\" if torch.cuda.is_available() else \"cpu\")\n",
    "    model.to(device)\n",
    "    loss_fn = nn.CrossEntropyLoss()\n",
    "    for i in range(epochs):\n",
    "        for batch, (X, y) in enumerate(dataloader):\n",
    "            X, y = X.to(device), y.to(device)\n",
    "\n",
    "            # Compute prediction error\n",
    "            pred = model(X)\n",
    "            #print('pred:', pred, 'y:', y)\n",
    "            loss = loss_fn(pred, y)\n",
    "\n",
    "            # Backpropagation\n",
    "            optimizer.zero_grad()\n",
    "            loss.backward()\n",
    "            optimizer.step()\n",
    "\n",
    "        loss, current = loss.item(), batch * len(X)\n",
    "        #print(f\"loss: {loss:>7f} \")\n",
    "        \n",
    "def make_predictions(model, dataloader):\n",
    "    model.eval()\n",
    "    predictions = []\n",
    "    y_true = []\n",
    "    device = torch.device(\"cuda\" if torch.cuda.is_available() else \"cpu\")\n",
    "    with torch.no_grad():\n",
    "        for X,y in dataloader:\n",
    "            X = X.to(device)\n",
    "            output = model(X)\n",
    "            _, predicted = torch.max(output.data, 1)\n",
    "            predictions.extend(predicted.cpu().numpy())\n",
    "            y = torch.max(y, 1)[1]\n",
    "            y_true.extend(y.cpu().numpy())\n",
    "    return predictions, y_true\n",
    "\n",
    "def plot_arrays(arrays):\n",
    "    for array in arrays:\n",
    "        plt.plot(array)\n",
    "    plt.legend()\n",
    "    plt.show()\n",
    "    \n",
    "def clean_data(data:np.array):\n",
    "    min = np.min(data[:500])\n",
    "    max = np.max(data[:500])\n",
    "    diff = max-min\n",
    "    if diff > 30:\n",
    "        n_data = data[500:]\n",
    "    else:\n",
    "        n_data = data\n",
    "        \n",
    "    n_data = centered_moving_average(n_data, 100)\n",
    "    return n_data\n",
    "\n",
    "def downsample_time_series(time_series):\n",
    "    # Calculate the downsampling factor\n",
    "    downsample_factor = int(200 / 12.5)\n",
    "\n",
    "    # Reshape the time series into chunks of size downsample_factor\n",
    "    reshaped_time_series = time_series[:len(time_series) // downsample_factor * downsample_factor].reshape(-1, downsample_factor)\n",
    "\n",
    "    # Average each chunk to get the downsampled time series\n",
    "    downsampled_time_series = reshaped_time_series.mean(axis=1)\n",
    "\n",
    "    return downsampled_time_series"
   ]
  },
  {
   "cell_type": "code",
   "execution_count": 94,
   "metadata": {},
   "outputs": [
    {
     "data": {
      "text/plain": [
       "12.5189357023906"
      ]
     },
     "execution_count": 94,
     "metadata": {},
     "output_type": "execute_result"
    }
   ],
   "source": [
    "rec = Recording(filenames_train[0])\n",
    "rec.data['mx'].samplerate"
   ]
  },
  {
   "cell_type": "code",
   "execution_count": 134,
   "metadata": {},
   "outputs": [
    {
     "data": {
      "text/plain": [
       "'for d in mxs:\\n    data_mx.append(centered_moving_average(d, 30))\\ndata_mx = pad_arrays(data_mx)\\nfor d in mys:\\n    data_my.append(centered_moving_average(d, 30))\\ndata_my = pad_arrays(data_my)\\nfor d in mzs:\\n    data_mz.append(centered_moving_average(d, 30))\\ndata_mz = pad_arrays(data_mz)\\nfor d in axs:\\n    d = downsample_time_series(d)\\n    data_ax.append(centered_moving_average(d, 30))\\ndata_ax = pad_arrays(data_ax)\\nfor d in ays:\\n    d = downsample_time_series(d)\\n    data_ay.append(centered_moving_average(d, 30))\\ndata_ay = pad_arrays(data_ay)\\nfor d in azs:\\n    d = downsample_time_series(d)\\n    data_az.append(centered_moving_average(d, 30))\\ndata_az = pad_arrays(data_az)\\ndata_tot = np.concatenate((data_alt_train, data_mx, data_my, data_mz, data_ax, data_ay, data_az), axis=1)\\nprint(data_tot.shape)\\nplot_arrays([data_ax[0], data_ay[0], data_az[0]])'"
      ]
     },
     "execution_count": 134,
     "metadata": {},
     "output_type": "execute_result"
    }
   ],
   "source": [
    "data_alt_train = []\n",
    "for d in alts_train:\n",
    "    data_alt_train.append(clean_data(d))\n",
    "data_alt_train = pad_arrays_len(data_alt_train)\n",
    "\n",
    "data_alt_test = []\n",
    "for d in alts_test:\n",
    "    data_alt_test.append(clean_data(d))\n",
    "data_alt_test = pad_arrays_len(data_alt_test)\n",
    "'''for d in mxs:\n",
    "    data_mx.append(centered_moving_average(d, 30))\n",
    "data_mx = pad_arrays(data_mx)\n",
    "for d in mys:\n",
    "    data_my.append(centered_moving_average(d, 30))\n",
    "data_my = pad_arrays(data_my)\n",
    "for d in mzs:\n",
    "    data_mz.append(centered_moving_average(d, 30))\n",
    "data_mz = pad_arrays(data_mz)\n",
    "for d in axs:\n",
    "    d = downsample_time_series(d)\n",
    "    data_ax.append(centered_moving_average(d, 30))\n",
    "data_ax = pad_arrays(data_ax)\n",
    "for d in ays:\n",
    "    d = downsample_time_series(d)\n",
    "    data_ay.append(centered_moving_average(d, 30))\n",
    "data_ay = pad_arrays(data_ay)\n",
    "for d in azs:\n",
    "    d = downsample_time_series(d)\n",
    "    data_az.append(centered_moving_average(d, 30))\n",
    "data_az = pad_arrays(data_az)\n",
    "data_tot = np.concatenate((data_alt_train, data_mx, data_my, data_mz, data_ax, data_ay, data_az), axis=1)\n",
    "print(data_tot.shape)\n",
    "plot_arrays([data_ax[0], data_ay[0], data_az[0]])'''"
   ]
  },
  {
   "cell_type": "code",
   "execution_count": 135,
   "metadata": {},
   "outputs": [],
   "source": [
    "X_train_data = np.array(pad_arrays(data_alt_train))\n",
    "y_train_data = np.array(path_idxs)\n",
    "X_test_data = np.array(pad_arrays(data_alt_test))"
   ]
  },
  {
   "cell_type": "code",
   "execution_count": 151,
   "metadata": {},
   "outputs": [
    {
     "name": "stdout",
     "output_type": "stream",
     "text": [
      "B Accuracy: 0.6022, n_est: 5\n"
     ]
    }
   ],
   "source": [
    "\n",
    "# Split the data into training and testing sets\n",
    "X_train, X_test, y_train, y_test = train_test_split(X_train_data, y_train_data, test_size=0.2)\n",
    "\n",
    "for dep in [5]:\n",
    "    model = XGBClassifier(objective='multi:softmax', num_class=5, subsample=1, reg_lambda=1, n_estimators=100, max_depth=6)\n",
    "    model.fit(X_train, y_train)\n",
    "    y_pred = model.predict(X_test)\n",
    "    accuracy = balanced_accuracy_score(y_test, y_pred, adjusted=True)\n",
    "    #print(y_pred)\n",
    "    print(f\"B Accuracy: {accuracy:.4f}, n_est: {dep}\")"
   ]
  },
  {
   "cell_type": "markdown",
   "metadata": {},
   "source": [
    "balanced accuracy with altitude(preprocessed): 66.93% (no hyperparameter tuning)\n",
    "\n",
    "balanced accuracy with altitute and magnetometer: 59.37% (no hyperparameter tuning)\n",
    "\n",
    "balanced accuracy with altitude, magnetometer and acceleration: 53.37%(no hyperparameter tuning)\n",
    "\n"
   ]
  },
  {
   "cell_type": "code",
   "execution_count": 137,
   "metadata": {},
   "outputs": [
    {
     "data": {
      "text/plain": [
       "array([[ 7,  6,  1,  0,  1],\n",
       "       [ 4,  7,  2,  1,  0],\n",
       "       [ 1,  0, 14,  0,  0],\n",
       "       [ 1,  0,  0, 17,  1],\n",
       "       [ 0,  0,  0,  2, 15]], dtype=int64)"
      ]
     },
     "execution_count": 137,
     "metadata": {},
     "output_type": "execute_result"
    }
   ],
   "source": [
    "confusion_matrix(y_test, y_pred)"
   ]
  },
  {
   "cell_type": "code",
   "execution_count": 138,
   "metadata": {},
   "outputs": [
    {
     "data": {
      "text/plain": [
       "(68, 43, 48, 53, 68)"
      ]
     },
     "execution_count": 138,
     "metadata": {},
     "output_type": "execute_result"
    }
   ],
   "source": [
    "y_solution = model.predict(X_test_data)\n",
    "np.count_nonzero(y_solution == 0), np.count_nonzero(y_solution == 1), np.count_nonzero(y_solution == 2), np.count_nonzero(y_solution == 3), np.count_nonzero(y_solution == 4)"
   ]
  },
  {
   "cell_type": "code",
   "execution_count": 60,
   "metadata": {},
   "outputs": [],
   "source": [
    "class CNN_clf(nn.Module):\n",
    "    def __init__(self):\n",
    "        super(CNN_clf, self).__init__()\n",
    "        self.conv1 = nn.Conv1d(1, 16, kernel_size=15, padding=7, stride=3)\n",
    "        self.pool1 = nn.MaxPool1d(3)\n",
    "        self.conv2 = nn.Conv1d(16, 32, kernel_size=7, padding=3)\n",
    "        self.pool2 = nn.MaxPool1d(3)\n",
    "        self.fc0 = nn.Linear(11872, 4096)\n",
    "        self.fc1 = nn.Linear(4096, 128)\n",
    "        self.fc2 = nn.Linear(128, 5)\n",
    "    \n",
    "    def forward(self, x):\n",
    "        x = x.unsqueeze(1)\n",
    "        x = self.conv1(x)\n",
    "        x = self.pool1(nn.functional.relu(x))\n",
    "        x = self.conv2(x)\n",
    "        x = self.pool2(nn.functional.relu(x))\n",
    "        #print(x.shape)\n",
    "        x = x.view(-1, 11872)\n",
    "        x = nn.functional.relu(self.fc0(x))\n",
    "        x = nn.functional.relu(self.fc1(x))\n",
    "        x = self.fc2(x)\n",
    "        return x"
   ]
  },
  {
   "cell_type": "code",
   "execution_count": 62,
   "metadata": {},
   "outputs": [
    {
     "name": "stderr",
     "output_type": "stream",
     "text": [
      "100%|██████████| 50/50 [09:03<00:00, 10.87s/it]\n",
      "No artists with labels found to put in legend.  Note that artists whose label start with an underscore are ignored when legend() is called with no argument.\n"
     ]
    },
    {
     "data": {
      "image/png": "[encoded data removed]",
      "text/plain": [
       "<Figure size 640x480 with 1 Axes>"
      ]
     },
     "metadata": {},
     "output_type": "display_data"
    }
   ],
   "source": [
    "import tqdm\n",
    "y_new = np.array([create_one_hot_vector(yi) for yi in y])\n",
    "train_loader, test_loader = create_dataloaders(X, y_new)\n",
    "model = CNN_clf()\n",
    "#for i in range(50):\n",
    "train_acc = []\n",
    "test_acc = []\n",
    "for i in tqdm.tqdm(range(50)):\n",
    "    train_model(train_loader, model, 10)\n",
    "    y_pred, y_true = make_predictions(model, test_loader)\n",
    "    test_acc.append(balanced_accuracy_score(y_true, y_pred, adjusted=True))\n",
    "    y_pred, y_true = make_predictions(model, train_loader)\n",
    "    train_acc.append(balanced_accuracy_score(y_true, y_pred, adjusted=True))\n",
    "\n",
    "plot_arrays([train_acc, test_acc])"
   ]
  },
  {
   "cell_type": "code",
   "execution_count": 66,
   "metadata": {},
   "outputs": [
    {
     "data": {
      "text/plain": [
       "array([[ 2, 10,  4,  3,  1],\n",
       "       [ 2,  3,  2,  2,  3],\n",
       "       [ 4,  1,  7,  4,  1],\n",
       "       [ 3,  2,  2,  3,  2],\n",
       "       [ 5,  5,  3,  5,  1]], dtype=int64)"
      ]
     },
     "execution_count": 66,
     "metadata": {},
     "output_type": "execute_result"
    }
   ],
   "source": [
    "y_pred, y_true = make_predictions(model, test_loader)\n",
    "#y_true = test_loader.dataset.tensors[1].max(1)[1]\n",
    "confusion_matrix(y_true, y_pred)"
   ]
  },
  {
   "cell_type": "code",
   "execution_count": null,
   "metadata": {},
   "outputs": [],
   "source": []
  },
  {
   "cell_type": "code",
   "execution_count": 7,
   "metadata": {},
   "outputs": [],
   "source": [
    "# Loop through all filenames to process recordings\n",
    "filenames_test = []\n",
    "submission = []\n",
    "for filename in filenames_test:\n",
    "    recording = Recording(filename)\n",
    "    \n",
    "    # Assumes filename format ends with a three-digit ID before \".pkl\"\n",
    "    match = re.search(r'(\\d{3})\\.pkl$', filename)\n",
    "    if match:\n",
    "        id = int(match.group(1))\n",
    "        recording.id = id\n",
    "    else:\n",
    "        raise ValueError(f'Filename {filename} does not match expected format')\n",
    "\n",
    "    # Placeholder for the algorithm to process the recording\n",
    "    # Implement the logic to infer watch location, path index, step count,\n",
    "    # and activities (standing, walking, running, cycling) here.\n",
    "    # Ensure your algorithm is tolerant to missing data and does not crash\n",
    "    # when optional smartphone data traces are missing.\n",
    "\n",
    "    path_idx = 0  # Integer, path in {0, 1, 2, 3, 4}\n",
    "    watch_loc = 0  # Integer, 0: left wrist, 1: belt, 2: right ankle\n",
    "    standing = False  # Boolean, True if participant was standing still throughout the recording\n",
    "    walking = False  # Boolean, True if participant was walking throughout the recording\n",
    "    running = False  # Boolean, True if participant was running throughout the recording\n",
    "    cycling = False  # Boolean, True if participant was cycling throughout the recording\n",
    "    step_count = 0  # Integer, number of steps, must be provided for each recording\n",
    "\n",
    "    predictions = {\n",
    "        'Id': id, \n",
    "        'watch_loc': watch_loc, \n",
    "        'path_idx': path_idx,\n",
    "        'standing': standing,\n",
    "        'walking': walking,\n",
    "        'running': running,\n",
    "        'cycling': cycling,\n",
    "        'step_count': step_count\n",
    "        }\n",
    "\n",
    "    submission.append(predictions)"
   ]
  },
  {
   "cell_type": "code",
   "execution_count": 139,
   "metadata": {},
   "outputs": [],
   "source": [
    "# Write the predicted values into a .csv file to then upload the .csv file to Kaggle\n",
    "# When cross-checking the .csv file on your computer, we recommend using a text editor and NOT excel so that the results are displayed correctly\n",
    "# IMPORTANT: Do NOT change the name of the columns of the .csv file (\"Id\", \"watch_loc\", \"path_idx\", \"standing\", \"walking\", \"running\", \"cycling\", \"step_count\")\n",
    "submission = []\n",
    "for i in range(len(y_solution)):\n",
    "    predictions = {\n",
    "        'Id': i, \n",
    "        'watch_loc': 0, \n",
    "        'path_idx': y_solution[i],\n",
    "        'standing': False,\n",
    "        'walking': False,\n",
    "        'running': False,\n",
    "        'cycling': False,\n",
    "        'step_count': 0\n",
    "    }\n",
    "    submission.append(predictions)\n",
    "\n",
    "submission_df = pd.DataFrame(submission, columns=['Id', 'watch_loc', 'path_idx', 'standing', 'walking', 'running', 'cycling', 'step_count'])\n",
    "submission_df.to_csv('submission.csv', index=False)"
   ]
  },
  {
   "cell_type": "code",
   "execution_count": null,
   "metadata": {},
   "outputs": [],
   "source": []
  }
 ],
 "metadata": {
  "kernelspec": {
   "display_name": "mhealth",
   "language": "python",
   "name": "python3"
  },
  "language_info": {
   "codemirror_mode": {
    "name": "ipython",
    "version": 3
   },
   "file_extension": ".py",
   "mimetype": "text/x-python",
   "name": "python",
   "nbconvert_exporter": "python",
   "pygments_lexer": "ipython3",
   "version": "3.10.13"
  },
  "orig_nbformat": 4
 },
 "nbformat": 4,
 "nbformat_minor": 2
}
