{
 "cells": [
  {
   "cell_type": "code",
   "execution_count": 1,
   "metadata": {},
   "outputs": [],
   "source": [
    "import numpy as np\n",
    "import pandas as pd\n",
    "from sklearn.model_selection import train_test_split\n",
    "import matplotlib.pyplot as plt\n",
    "from sklearn.ensemble import RandomForestClassifier\n",
    "from sklearn import svm\n",
    "from sklearn.metrics import balanced_accuracy_score\n",
    "from tsfresh import extract_features, select_features\n"
   ]
  },
  {
   "cell_type": "code",
   "execution_count": 2,
   "metadata": {},
   "outputs": [],
   "source": [
    "def plot_array(array, color='blue'):\n",
    "    if not color == 'blue':\n",
    "        if color == 1:\n",
    "            color = 'green'\n",
    "        else:\n",
    "            color = 'red'\n",
    "    plt.figure(figsize=(15, 2))\n",
    "    plt.plot(array, color=color)\n",
    "    plt.show()\n",
    "    \n",
    "def plot2D_array(array):\n",
    "    plt.imshow(array, cmap='hot', interpolation='nearest')\n",
    "    plt.show()\n",
    "\n",
    "def append_zero_to_each_row(arr):\n",
    "    zeros = np.zeros((arr.shape[0], 1))\n",
    "    return np.hstack((arr, zeros))\n",
    "\n",
    "def plot_arrays(arrays):\n",
    "    colors = ['blue', 'green', 'red', 'cyan', 'magenta', 'yellow', 'black']\n",
    "    plt.figure(figsize=(15, 2))\n",
    "    for i, array in enumerate(arrays):\n",
    "        plt.plot(array, color=colors[i % len(colors)])\n",
    "    plt.show()"
   ]
  },
  {
   "cell_type": "code",
   "execution_count": 3,
   "metadata": {},
   "outputs": [
    {
     "data": {
      "text/plain": [
       "((11640, 188), 11640, 188)"
      ]
     },
     "execution_count": 3,
     "metadata": {},
     "output_type": "execute_result"
    }
   ],
   "source": [
    "df_train = pd.read_csv('data/ptbdb_train.csv')\n",
    "df_test = pd.read_csv('data/ptbdb_test.csv')\n",
    "X_train = df_train.iloc[:, :-1].values\n",
    "y_train = df_train.iloc[:, -1].values\n",
    "X_test = df_test.iloc[:, :-1].values\n",
    "y_test = df_test.iloc[:, -1].values\n",
    "X_train = append_zero_to_each_row(X_train)\n",
    "X_test = append_zero_to_each_row(X_test)\n",
    "X_train.shape, len(X_train), len(X_train[0])"
   ]
  },
  {
   "cell_type": "code",
   "execution_count": 4,
   "metadata": {},
   "outputs": [],
   "source": [
    "# idx | time | value\n",
    "#\n",
    "#\n",
    "# 3*(11640*188)\n",
    "\n",
    "x_train_feature_extract = []\n",
    "for i in range(len(X_train)):\n",
    "    for j in range(len(X_train[i])):\n",
    "        x_train_feature_extract.append([i, j, X_train[i][j]])\n",
    "x_train_feature_extract = np.array(x_train_feature_extract)\n",
    "df_train_feature_extract = pd.DataFrame(x_train_feature_extract, columns=['id', 'time', 'value'])\n",
    "\n",
    "x_test_feature_extract = []\n",
    "for i in range(len(X_test)):\n",
    "    for j in range(len(X_test[i])):\n",
    "        x_test_feature_extract.append([i, j, X_test[i][j]])\n",
    "x_test_feature_extract = np.array(x_test_feature_extract)\n",
    "df_test_feature_extract = pd.DataFrame(x_test_feature_extract, columns=['id', 'time', 'value'])\n"
   ]
  },
  {
   "cell_type": "code",
   "execution_count": 33,
   "metadata": {},
   "outputs": [
    {
     "name": "stderr",
     "output_type": "stream",
     "text": [
      "Feature Extraction:   0%|          | 0/20 [00:00<?, ?it/s]"
     ]
    }
   ],
   "source": [
    "X_train_extracted_features = extract_features(df_train_feature_extract, column_id='id', column_sort='time')\n",
    "X_train_extracted_features.to_csv('data/X_train_extracted_features.csv', index=False)\n",
    "X_test_extracted_features = extract_features(df_test_feature_extract, column_id='id', column_sort='time')\n",
    "X_test_extracted_features.to_csv('data/X_test_extracted_features.csv', index=False)"
   ]
  },
  {
   "cell_type": "code",
   "execution_count": 4,
   "metadata": {},
   "outputs": [
    {
     "data": {
      "image/png": "[encoded data removed]",
      "text/plain": [
       "<Figure size 1500x200 with 1 Axes>"
      ]
     },
     "metadata": {},
     "output_type": "display_data"
    }
   ],
   "source": [
    "idx = 2\n",
    "plot_array(X_train[idx], y_train[idx])"
   ]
  },
  {
   "cell_type": "code",
   "execution_count": 5,
   "metadata": {},
   "outputs": [
    {
     "name": "stdout",
     "output_type": "stream",
     "text": [
      "Class zero samples: 3237, Class one samples: 8403\n",
      "Based on this information, we can see that the dataset is imbalanced. We use balanced accuracy as metric.\n"
     ]
    }
   ],
   "source": [
    "cls_0 = np.count_nonzero(y_train == 0)\n",
    "cls_1 = np.count_nonzero(y_train == 1)\n",
    "print(f'Class zero samples: {cls_0}, Class one samples: {cls_1}')\n",
    "print('Based on this information, we can see that the dataset is imbalanced. We use balanced accuracy as metric.')"
   ]
  },
  {
   "cell_type": "code",
   "execution_count": 6,
   "metadata": {},
   "outputs": [
    {
     "name": "stdout",
     "output_type": "stream",
     "text": [
      "SVM balanced accuracy: 0.8813936043937409\n",
      "Random Forest balanced accuracy: 0.9561626833473071\n"
     ]
    }
   ],
   "source": [
    "svm_clf_no_features = svm.SVC()\n",
    "svm_clf_no_features.fit(X_train, y_train)\n",
    "\n",
    "svm_preds = svm_clf_no_features.predict(X_test)\n",
    "svm_acc_no_features = balanced_accuracy_score(y_test, svm_preds)\n",
    "print(f'SVM balanced accuracy: {svm_acc_no_features}')\n",
    "\n",
    "rf_clf_no_features = RandomForestClassifier()\n",
    "rf_clf_no_features.fit(X_train, y_train)\n",
    "\n",
    "rf_preds = rf_clf_no_features.predict(X_test)\n",
    "rf_acc_no_features = balanced_accuracy_score(y_test, rf_preds)\n",
    "print(f'Random Forest balanced accuracy: {rf_acc_no_features}')"
   ]
  },
  {
   "cell_type": "code",
   "execution_count": 7,
   "metadata": {},
   "outputs": [
    {
     "data": {
      "text/plain": [
       "(11640, 188)"
      ]
     },
     "execution_count": 7,
     "metadata": {},
     "output_type": "execute_result"
    }
   ],
   "source": [
    "df_train['id'] = range(len(df_train))\n",
    "X_train.shape"
   ]
  },
  {
   "cell_type": "code",
   "execution_count": 8,
   "metadata": {},
   "outputs": [],
   "source": [
    "#extracted_feautures = extract_features(df_train, column_id='id')"
   ]
  },
  {
   "cell_type": "markdown",
   "metadata": {},
   "source": [
    "RNNs"
   ]
  },
  {
   "cell_type": "code",
   "execution_count": 9,
   "metadata": {},
   "outputs": [],
   "source": [
    "import torch\n",
    "from torch import nn\n",
    "from torch.utils.data import TensorDataset, DataLoader\n"
   ]
  },
  {
   "cell_type": "code",
   "execution_count": 97,
   "metadata": {},
   "outputs": [],
   "source": [
    "def train_model(model, dataloader, epochs):\n",
    "    # Define the loss function and the optimizer\n",
    "    criterion = nn.BCEWithLogitsLoss()\n",
    "    optimizer = torch.optim.Adam(model.parameters())\n",
    "    device = torch.device('cuda' if torch.cuda.is_available() else 'cpu')\n",
    "\n",
    "    # Move the model to the device\n",
    "    model = model.to(device)\n",
    "    model.train()\n",
    "    # Loop over the epochs\n",
    "    for epoch in range(epochs):\n",
    "        for inputs, targets in dataloader:\n",
    "            # Move inputs and targets to the device\n",
    "            inputs, targets = inputs.to(device), targets.to(device)\n",
    "\n",
    "            # Zero the gradients\n",
    "            optimizer.zero_grad()\n",
    "\n",
    "            # Forward pass\n",
    "            outputs = model(inputs).squeeze()\n",
    "\n",
    "            # Compute the loss\n",
    "            loss = criterion(outputs, targets)\n",
    "\n",
    "            # Backward pass and optimize\n",
    "            loss.backward()\n",
    "            optimizer.step()\n",
    "\n",
    "        print(f'Epoch {epoch+1}/{epochs} Loss: {loss.item()}')\n",
    "        \n",
    "def train_model_transformer(model, dataloader, epochs):\n",
    "    # Define the loss function and the optimizer\n",
    "    criterion = nn.BCEWithLogitsLoss()\n",
    "    optimizer = torch.optim.Adam(model.parameters())\n",
    "    device = torch.device('cuda' if torch.cuda.is_available() else 'cpu')\n",
    "\n",
    "    # Move the model to the device\n",
    "    model = model.to(device)\n",
    "    model.train()\n",
    "    # Loop over the epochs\n",
    "    for epoch in range(epochs):\n",
    "        for inputs, targets in dataloader:\n",
    "            # Move inputs and targets to the device\n",
    "            inputs, targets = inputs.to(device), targets.to(device)\n",
    "            inputs = inputs.unsqueeze(-1)\n",
    "            # Zero the gradients\n",
    "            optimizer.zero_grad()\n",
    "\n",
    "            # Forward pass\n",
    "            outputs = model(inputs).prediction_logits.squeeze()\n",
    "\n",
    "            # Compute the loss\n",
    "            loss = criterion(outputs, targets)\n",
    "\n",
    "            # Backward pass and optimize\n",
    "            loss.backward()\n",
    "            optimizer.step()\n",
    "\n",
    "        print(f'Epoch {epoch+1}/{epochs} Loss: {loss.item()}')\n",
    "        \n",
    "def create_dataloader(X, y, batch_size=32):\n",
    "    # Convert X and y to PyTorch tensors\n",
    "    X_tensor = torch.tensor(X, dtype=torch.float32)\n",
    "    y_tensor = torch.tensor(y, dtype=torch.float32)\n",
    "\n",
    "    # Wrap them in a TensorDataset\n",
    "    dataset = TensorDataset(X_tensor, y_tensor)\n",
    "\n",
    "    # Create a DataLoader\n",
    "    dataloader = DataLoader(dataset, batch_size=batch_size)\n",
    "\n",
    "    return dataloader\n",
    "\n",
    "def get_predictions(model, dataloader):\n",
    "    model.eval()  # Set the model to evaluation mode\n",
    "    predictions = []\n",
    "\n",
    "    with torch.no_grad():  # No need to track gradients\n",
    "        for inputs, _ in dataloader:\n",
    "            outputs = model(inputs)\n",
    "            predictions.extend(outputs.detach().numpy())\n",
    "    for i in range(len(predictions)):\n",
    "        if predictions[i] > 0.5:\n",
    "            predictions[i] = 1\n",
    "        else:\n",
    "            predictions[i] = 0\n",
    "\n",
    "    return np.array(predictions)\n",
    "\n",
    "def get_predictions_transformer(model, dataloader):\n",
    "    model.eval()  # Set the model to evaluation mode\n",
    "    predictions = []\n",
    "\n",
    "    with torch.no_grad():  # No need to track gradients\n",
    "        for inputs, _ in dataloader:\n",
    "            inputs = inputs.unsqueeze(-1)\n",
    "            outputs = model(inputs)\n",
    "            predictions.extend(outputs.prediction_logits.detach().numpy())\n",
    "    for i in range(len(predictions)):\n",
    "        if predictions[i] > 0.5:\n",
    "            predictions[i] = 1\n",
    "        else:\n",
    "            predictions[i] = 0\n",
    "\n",
    "    return np.array(predictions)"
   ]
  },
  {
   "cell_type": "code",
   "execution_count": 11,
   "metadata": {},
   "outputs": [],
   "source": [
    "class RNNModel_uni(nn.Module):\n",
    "    def __init__(self, input_size, hidden_size, output_size):\n",
    "        super(RNNModel_uni, self).__init__()\n",
    "        self.hidden_size = hidden_size\n",
    "        self.rnn = nn.RNN(input_size, hidden_size, batch_first=True)\n",
    "        self.fc1 = nn.Linear(hidden_size, output_size)\n",
    "\n",
    "\n",
    "    def forward(self, x):\n",
    "        out, _ = self.rnn(x)\n",
    "        out = self.fc1(out)\n",
    "        return out"
   ]
  },
  {
   "cell_type": "code",
   "execution_count": 12,
   "metadata": {},
   "outputs": [],
   "source": [
    "rnn_uni = RNNModel_uni(input_size=188, hidden_size=20, output_size=1)\n",
    "\n",
    "train_loader = create_dataloader(X_train, y_train)\n",
    "test_loader = create_dataloader(X_test, y_test)"
   ]
  },
  {
   "cell_type": "code",
   "execution_count": 13,
   "metadata": {},
   "outputs": [
    {
     "name": "stdout",
     "output_type": "stream",
     "text": [
      "Epoch 1/10 Loss: 0.5499123334884644\n",
      "Epoch 2/10 Loss: 0.5428112745285034\n",
      "Epoch 3/10 Loss: 0.52266526222229\n",
      "Epoch 4/10 Loss: 0.4978412389755249\n",
      "Epoch 5/10 Loss: 0.4730170667171478\n",
      "Epoch 6/10 Loss: 0.45120900869369507\n",
      "Epoch 7/10 Loss: 0.4335772395133972\n",
      "Epoch 8/10 Loss: 0.41934138536453247\n",
      "Epoch 9/10 Loss: 0.4072217643260956\n",
      "Epoch 10/10 Loss: 0.39637231826782227\n"
     ]
    }
   ],
   "source": [
    "train_model(rnn_uni, train_loader, epochs=10)"
   ]
  },
  {
   "cell_type": "code",
   "execution_count": 14,
   "metadata": {},
   "outputs": [
    {
     "name": "stdout",
     "output_type": "stream",
     "text": [
      "RNN unidirectional balanced accuracy: 0.8336891550715491\n"
     ]
    }
   ],
   "source": [
    "preds_rnn = get_predictions(rnn_uni.to('cpu'), test_loader)\n",
    "rnn_uni_acc = balanced_accuracy_score(y_test, preds_rnn)\n",
    "print(f'RNN unidirectional balanced accuracy: {rnn_uni_acc}')"
   ]
  },
  {
   "cell_type": "code",
   "execution_count": 15,
   "metadata": {},
   "outputs": [],
   "source": [
    "class RNNModel_bi(nn.Module):\n",
    "    def __init__(self, input_size, hidden_size, output_size):\n",
    "        super(RNNModel_bi, self).__init__()\n",
    "        self.hidden_size = hidden_size\n",
    "        self.rnn = nn.RNN(input_size, hidden_size, batch_first=True, bidirectional=True)\n",
    "        self.fc1 = nn.Linear(hidden_size*2, output_size)\n",
    "\n",
    "\n",
    "    def forward(self, x):\n",
    "        out, _ = self.rnn(x)\n",
    "        out = self.fc1(out)\n",
    "        return out"
   ]
  },
  {
   "cell_type": "code",
   "execution_count": 16,
   "metadata": {},
   "outputs": [],
   "source": [
    "rnn_bi = RNNModel_bi(input_size=188, hidden_size=20, output_size=1)"
   ]
  },
  {
   "cell_type": "code",
   "execution_count": 17,
   "metadata": {},
   "outputs": [
    {
     "name": "stdout",
     "output_type": "stream",
     "text": [
      "Epoch 1/10 Loss: 0.5841301679611206\n",
      "Epoch 2/10 Loss: 0.567115068435669\n",
      "Epoch 3/10 Loss: 0.5337367653846741\n",
      "Epoch 4/10 Loss: 0.4975883364677429\n",
      "Epoch 5/10 Loss: 0.46550410985946655\n",
      "Epoch 6/10 Loss: 0.4388134479522705\n",
      "Epoch 7/10 Loss: 0.41644662618637085\n",
      "Epoch 8/10 Loss: 0.3971051871776581\n",
      "Epoch 9/10 Loss: 0.37985512614250183\n",
      "Epoch 10/10 Loss: 0.3643447756767273\n"
     ]
    }
   ],
   "source": [
    "train_model(rnn_bi, train_loader, epochs=10)"
   ]
  },
  {
   "cell_type": "code",
   "execution_count": 18,
   "metadata": {},
   "outputs": [
    {
     "name": "stdout",
     "output_type": "stream",
     "text": [
      "RNN bidirectional balanced accuracy: 0.8382086603046603\n"
     ]
    }
   ],
   "source": [
    "preds_rnn_bi = get_predictions(rnn_bi.to('cpu'), test_loader)\n",
    "rnn_bi_acc = balanced_accuracy_score(y_test, preds_rnn_bi)\n",
    "print(f'RNN bidirectional balanced accuracy: {rnn_bi_acc}')"
   ]
  },
  {
   "cell_type": "markdown",
   "metadata": {},
   "source": [
    "CNNs"
   ]
  },
  {
   "cell_type": "code",
   "execution_count": 19,
   "metadata": {},
   "outputs": [],
   "source": [
    "class CNN_vanilla(nn.Module):\n",
    "    def __init__(self):\n",
    "        super(CNN_vanilla, self).__init__()\n",
    "        self.conv1 = nn.Conv1d(in_channels=1, out_channels=16, kernel_size=3)\n",
    "        self.relu1 = nn.ReLU()\n",
    "        self.maxpool1 = nn.MaxPool1d(kernel_size=2)\n",
    "        self.conv2 = nn.Conv1d(in_channels=16, out_channels=32, kernel_size=3)\n",
    "        self.relu2 = nn.ReLU()\n",
    "        self.maxpool2 = nn.MaxPool1d(kernel_size=2)\n",
    "        self.conv3 = nn.Conv1d(in_channels=32, out_channels=64, kernel_size=3)\n",
    "        self.relu3 = nn.ReLU()\n",
    "        self.maxpool3 = nn.MaxPool1d(kernel_size=2)\n",
    "        self.fc1 = nn.Linear(64*21, 128)\n",
    "        self.relu4 = nn.ReLU()\n",
    "        self.fc2 = nn.Linear(128, 1)\n",
    "\n",
    "    def forward(self, x):\n",
    "        x = x.unsqueeze(1)\n",
    "        x = self.relu1(self.conv1(x))\n",
    "        x = self.maxpool1(x)\n",
    "        x = self.relu2(self.conv2(x))\n",
    "        x = self.maxpool2(x)\n",
    "        x = self.relu3(self.conv3(x))      \n",
    "        x = self.maxpool3(x)\n",
    "        x = x.view(x.size(0), -1)\n",
    "        x = self.relu4(self.fc1(x))\n",
    "        x = self.fc2(x)\n",
    "        return x"
   ]
  },
  {
   "cell_type": "code",
   "execution_count": 20,
   "metadata": {},
   "outputs": [],
   "source": [
    "conv_vanilla = CNN_vanilla()"
   ]
  },
  {
   "cell_type": "code",
   "execution_count": 21,
   "metadata": {},
   "outputs": [
    {
     "name": "stdout",
     "output_type": "stream",
     "text": [
      "Epoch 1/10 Loss: 0.44882044196128845\n",
      "Epoch 2/10 Loss: 0.34996724128723145\n",
      "Epoch 3/10 Loss: 0.31033891439437866\n",
      "Epoch 4/10 Loss: 0.26477426290512085\n",
      "Epoch 5/10 Loss: 0.20109306275844574\n",
      "Epoch 6/10 Loss: 0.1580551266670227\n",
      "Epoch 7/10 Loss: 0.12991636991500854\n",
      "Epoch 8/10 Loss: 0.11362989991903305\n",
      "Epoch 9/10 Loss: 0.10672318190336227\n",
      "Epoch 10/10 Loss: 0.09803147614002228\n"
     ]
    }
   ],
   "source": [
    "train_model(conv_vanilla, train_loader, epochs=10)"
   ]
  },
  {
   "cell_type": "code",
   "execution_count": 22,
   "metadata": {},
   "outputs": [
    {
     "name": "stdout",
     "output_type": "stream",
     "text": [
      "Vanilla CNN balanced accuracy: 0.948561483170201\n"
     ]
    }
   ],
   "source": [
    "preds_cnn_van = get_predictions(conv_vanilla.to('cpu'), test_loader)\n",
    "cnn_van_preds = balanced_accuracy_score(y_test, preds_cnn_van)\n",
    "print(f'Vanilla CNN balanced accuracy: {cnn_van_preds}')"
   ]
  },
  {
   "cell_type": "code",
   "execution_count": 23,
   "metadata": {},
   "outputs": [],
   "source": [
    "class ResidualBlock(nn.Module):\n",
    "    def __init__(self, in_channels, out_channels, stride=1):\n",
    "        super(ResidualBlock, self).__init__()\n",
    "        self.conv1 = nn.Conv1d(in_channels, out_channels, kernel_size=3, stride=stride, padding=1, bias=False)\n",
    "        self.bn1 = nn.BatchNorm1d(out_channels)\n",
    "        self.relu = nn.ReLU(inplace=True)\n",
    "        self.conv2 = nn.Conv1d(out_channels, out_channels, kernel_size=3, stride=1, padding=1, bias=False)\n",
    "        self.bn2 = nn.BatchNorm1d(out_channels)\n",
    "\n",
    "        self.shortcut = nn.Sequential()\n",
    "        if stride != 1 or in_channels != out_channels:\n",
    "            self.shortcut = nn.Sequential(\n",
    "                nn.Conv1d(in_channels, out_channels, kernel_size=1, stride=stride, bias=False),\n",
    "                nn.BatchNorm1d(out_channels)\n",
    "            )\n",
    "\n",
    "    def forward(self, x):\n",
    "        out = self.relu(self.bn1(self.conv1(x)))\n",
    "        out = self.bn2(self.conv2(out))\n",
    "        out += self.shortcut(x)\n",
    "        out = self.relu(out)\n",
    "        return out\n",
    "\n",
    "class ResNet(nn.Module):\n",
    "    def __init__(self, block, num_blocks, num_classes=1):\n",
    "        super(ResNet, self).__init__()\n",
    "        self.in_channels = 64\n",
    "\n",
    "        self.conv1 = nn.Conv1d(1, 64, kernel_size=3, stride=1, padding=1, bias=False)\n",
    "        self.bn1 = nn.BatchNorm1d(64)\n",
    "        self.relu = nn.ReLU(inplace=True)\n",
    "        self.layer1 = self._make_layer(block, 64, num_blocks[0], stride=1)\n",
    "        self.layer2 = self._make_layer(block, 128, num_blocks[1], stride=2)\n",
    "        self.linear = nn.Linear(12032, num_classes)\n",
    "\n",
    "    def _make_layer(self, block, out_channels, num_blocks, stride):\n",
    "        strides = [stride] + [1]*(num_blocks-1)\n",
    "        layers = []\n",
    "        for stride in strides:\n",
    "            layers.append(block(self.in_channels, out_channels, stride))\n",
    "            self.in_channels = out_channels\n",
    "        return nn.Sequential(*layers)\n",
    "\n",
    "    def forward(self, x):\n",
    "        out = x.unsqueeze(1)\n",
    "        out = self.relu(self.bn1(self.conv1(out)))\n",
    "        out = self.layer1(out)\n",
    "        out = self.layer2(out)\n",
    "        out = out.view(out.size(0), -1)\n",
    "        out = self.linear(out)\n",
    "        return out\n",
    "\n",
    "# Define the model\n",
    "model = ResNet(ResidualBlock, [2, 2])"
   ]
  },
  {
   "cell_type": "code",
   "execution_count": 24,
   "metadata": {},
   "outputs": [],
   "source": [
    "ConvResNet = ResNet(ResidualBlock, [2, 2], num_classes=1)"
   ]
  },
  {
   "cell_type": "code",
   "execution_count": 25,
   "metadata": {},
   "outputs": [
    {
     "name": "stdout",
     "output_type": "stream",
     "text": [
      "Epoch 1/10 Loss: 0.3933973014354706\n",
      "Epoch 2/10 Loss: 0.20826968550682068\n",
      "Epoch 3/10 Loss: 0.06831397116184235\n",
      "Epoch 4/10 Loss: 0.012450968846678734\n",
      "Epoch 5/10 Loss: 0.011599790304899216\n",
      "Epoch 6/10 Loss: 0.04732903838157654\n",
      "Epoch 7/10 Loss: 0.0064477939158678055\n",
      "Epoch 8/10 Loss: 0.13697990775108337\n",
      "Epoch 9/10 Loss: 0.059688881039619446\n",
      "Epoch 10/10 Loss: 0.021210338920354843\n"
     ]
    }
   ],
   "source": [
    "train_model(ConvResNet, train_loader, epochs=10)"
   ]
  },
  {
   "cell_type": "code",
   "execution_count": 26,
   "metadata": {},
   "outputs": [
    {
     "name": "stdout",
     "output_type": "stream",
     "text": [
      "Vanilla CNN balanced accuracy: 0.948561483170201\n"
     ]
    }
   ],
   "source": [
    "preds_cnn_res = get_predictions(conv_vanilla.to('cpu'), test_loader)\n",
    "cnn_res_preds = balanced_accuracy_score(y_test, preds_cnn_res)\n",
    "print(f'Res Net balanced accuracy: {cnn_res_preds}')"
   ]
  },
  {
   "cell_type": "markdown",
   "metadata": {},
   "source": [
    "Transformer based classification\n"
   ]
  },
  {
   "cell_type": "code",
   "execution_count": 142,
   "metadata": {},
   "outputs": [],
   "source": [
    "from transformers import PatchTSTConfig, PatchTSTForClassification\n",
    "\n",
    "config = PatchTSTConfig(\n",
    "    num_input_channels=1,\n",
    "    num_targets=1,\n",
    "    context_length=188,\n",
    "    num_attention_heads=8,\n",
    "    ffn_dim=128,\n",
    "    output_attentions=True,\n",
    ")\n",
    "\n",
    "transformer = PatchTSTForClassification(config)"
   ]
  },
  {
   "cell_type": "code",
   "execution_count": 143,
   "metadata": {},
   "outputs": [
    {
     "name": "stdout",
     "output_type": "stream",
     "text": [
      "Epoch 1/100 Loss: 0.42746973037719727\n",
      "Epoch 2/100 Loss: 0.3403642177581787\n",
      "Epoch 3/100 Loss: 0.3936675488948822\n",
      "Epoch 4/100 Loss: 0.38482412695884705\n",
      "Epoch 5/100 Loss: 0.38684648275375366\n",
      "Epoch 6/100 Loss: 0.36885589361190796\n",
      "Epoch 7/100 Loss: 0.290865957736969\n",
      "Epoch 8/100 Loss: 0.15710215270519257\n",
      "Epoch 9/100 Loss: 0.1466515064239502\n",
      "Epoch 10/100 Loss: 0.2269773930311203\n",
      "Epoch 11/100 Loss: 0.14645503461360931\n",
      "Epoch 12/100 Loss: 0.2102542370557785\n",
      "Epoch 13/100 Loss: 0.2532804608345032\n",
      "Epoch 14/100 Loss: 0.18957027792930603\n",
      "Epoch 15/100 Loss: 0.12150317430496216\n",
      "Epoch 16/100 Loss: 0.17621105909347534\n",
      "Epoch 17/100 Loss: 0.13793155550956726\n",
      "Epoch 18/100 Loss: 0.10725583881139755\n",
      "Epoch 19/100 Loss: 0.15941515564918518\n",
      "Epoch 20/100 Loss: 0.0637342557311058\n",
      "Epoch 21/100 Loss: 0.08635213226079941\n",
      "Epoch 22/100 Loss: 0.11670487374067307\n",
      "Epoch 23/100 Loss: 0.0666227787733078\n",
      "Epoch 24/100 Loss: 0.16066613793373108\n",
      "Epoch 25/100 Loss: 0.09136539697647095\n",
      "Epoch 26/100 Loss: 0.04236402362585068\n",
      "Epoch 27/100 Loss: 0.05223371833562851\n",
      "Epoch 28/100 Loss: 0.1297397017478943\n",
      "Epoch 29/100 Loss: 0.0566127710044384\n",
      "Epoch 30/100 Loss: 0.07740101218223572\n",
      "Epoch 31/100 Loss: 0.0781387984752655\n",
      "Epoch 32/100 Loss: 0.027654320001602173\n",
      "Epoch 33/100 Loss: 0.06226836144924164\n",
      "Epoch 34/100 Loss: 0.06383827328681946\n",
      "Epoch 35/100 Loss: 0.08658315986394882\n",
      "Epoch 36/100 Loss: 0.08819063007831573\n",
      "Epoch 37/100 Loss: 0.08563996851444244\n",
      "Epoch 38/100 Loss: 0.03834375739097595\n",
      "Epoch 39/100 Loss: 0.04831434041261673\n",
      "Epoch 40/100 Loss: 0.023421233519911766\n",
      "Epoch 41/100 Loss: 0.0836457833647728\n",
      "Epoch 42/100 Loss: 0.040872588753700256\n",
      "Epoch 43/100 Loss: 0.03767374902963638\n",
      "Epoch 44/100 Loss: 0.0076590366661548615\n",
      "Epoch 45/100 Loss: 0.0059114303439855576\n",
      "Epoch 46/100 Loss: 0.01981176808476448\n",
      "Epoch 47/100 Loss: 0.00828953180462122\n",
      "Epoch 48/100 Loss: 0.1014600619673729\n",
      "Epoch 49/100 Loss: 0.003956780768930912\n",
      "Epoch 50/100 Loss: 0.016538942232728004\n",
      "Epoch 51/100 Loss: 0.00490514375269413\n",
      "Epoch 52/100 Loss: 0.007064943667501211\n",
      "Epoch 53/100 Loss: 0.1528819501399994\n",
      "Epoch 54/100 Loss: 0.16579517722129822\n",
      "Epoch 55/100 Loss: 0.018456414341926575\n",
      "Epoch 56/100 Loss: 0.0024410197511315346\n",
      "Epoch 57/100 Loss: 0.01023139525204897\n",
      "Epoch 58/100 Loss: 0.0011089845793321729\n",
      "Epoch 59/100 Loss: 0.0005849165027029812\n",
      "Epoch 60/100 Loss: 0.02154134027659893\n",
      "Epoch 61/100 Loss: 0.008069848641753197\n",
      "Epoch 62/100 Loss: 0.007173880934715271\n",
      "Epoch 63/100 Loss: 0.000984460231848061\n",
      "Epoch 64/100 Loss: 0.0024170675314962864\n",
      "Epoch 65/100 Loss: 0.013182831928133965\n",
      "Epoch 66/100 Loss: 0.006978603079915047\n",
      "Epoch 67/100 Loss: 0.031282104551792145\n",
      "Epoch 68/100 Loss: 0.006814236752688885\n",
      "Epoch 69/100 Loss: 0.009516334161162376\n",
      "Epoch 70/100 Loss: 0.05800740420818329\n",
      "Epoch 71/100 Loss: 0.0019268791656941175\n",
      "Epoch 72/100 Loss: 0.004082834348082542\n",
      "Epoch 73/100 Loss: 0.0001224157604156062\n",
      "Epoch 74/100 Loss: 0.004051267169415951\n",
      "Epoch 75/100 Loss: 0.017379164695739746\n",
      "Epoch 76/100 Loss: 0.008062414824962616\n",
      "Epoch 77/100 Loss: 0.006482443772256374\n",
      "Epoch 78/100 Loss: 0.009503914043307304\n",
      "Epoch 79/100 Loss: 0.004588660784065723\n",
      "Epoch 80/100 Loss: 0.04528336226940155\n",
      "Epoch 81/100 Loss: 0.014842215925455093\n",
      "Epoch 82/100 Loss: 0.003974943421781063\n",
      "Epoch 83/100 Loss: 0.059216901659965515\n",
      "Epoch 84/100 Loss: 0.0026646279729902744\n",
      "Epoch 85/100 Loss: 0.008689356967806816\n",
      "Epoch 86/100 Loss: 0.006131619215011597\n",
      "Epoch 87/100 Loss: 0.001854447997175157\n",
      "Epoch 88/100 Loss: 0.01240011490881443\n",
      "Epoch 89/100 Loss: 0.0005394635372795165\n",
      "Epoch 90/100 Loss: 0.0005331475986167789\n",
      "Epoch 91/100 Loss: 0.0024651740677654743\n",
      "Epoch 92/100 Loss: 0.006089627277106047\n",
      "Epoch 93/100 Loss: 0.0006548210512846708\n",
      "Epoch 94/100 Loss: 0.00010428296809550375\n",
      "Epoch 95/100 Loss: 0.006029650568962097\n",
      "Epoch 96/100 Loss: 0.003495695535093546\n",
      "Epoch 97/100 Loss: 0.00032756105065345764\n",
      "Epoch 98/100 Loss: 0.00030776590574532747\n",
      "Epoch 99/100 Loss: 0.005838967394083738\n",
      "Epoch 100/100 Loss: 0.011055417358875275\n"
     ]
    }
   ],
   "source": [
    "train_model_transformer(transformer, train_loader, epochs=100)"
   ]
  },
  {
   "cell_type": "code",
   "execution_count": 144,
   "metadata": {},
   "outputs": [
    {
     "name": "stdout",
     "output_type": "stream",
     "text": [
      "Transformer balanced accuracy: 0.9618803638213489\n"
     ]
    }
   ],
   "source": [
    "preds_transformer = get_predictions_transformer(transformer.to('cpu'), test_loader)\n",
    "transformer_preds = balanced_accuracy_score(y_test, preds_transformer)\n",
    "print(f'Transformer balanced accuracy: {transformer_preds}')"
   ]
  },
  {
   "cell_type": "code",
   "execution_count": 167,
   "metadata": {},
   "outputs": [
    {
     "data": {
      "image/png": "[encoded data removed]",
      "text/plain": [
       "<Figure size 640x480 with 1 Axes>"
      ]
     },
     "metadata": {},
     "output_type": "display_data"
    },
    {
     "data": {
      "image/png": "[encoded data removed]",
      "text/plain": [
       "<Figure size 1500x200 with 1 Axes>"
      ]
     },
     "metadata": {},
     "output_type": "display_data"
    }
   ],
   "source": [
    "transformer.eval()\n",
    "idx_vis = 105\n",
    "x = torch.tensor(X_test[idx_vis], dtype=torch.float).unsqueeze(-1).unsqueeze(0)\n",
    "#print(x)\n",
    "y = transformer(x)\n",
    "attention = y.attentions[-1].mean(dim=1).squeeze().detach().numpy()\n",
    "plot2D_array(attention)\n",
    "summed_attention = attention.sum(axis=0)\n",
    "scaled_attention = summed_attention / np.max(summed_attention)\n",
    "plot_array\n",
    "plot_arrays([X_test[idx_vis], scaled_attention])\n"
   ]
  },
  {
   "cell_type": "code",
   "execution_count": null,
   "metadata": {},
   "outputs": [],
   "source": []
  }
 ],
 "metadata": {
  "kernelspec": {
   "display_name": "base",
   "language": "python",
   "name": "python3"
  },
  "language_info": {
   "codemirror_mode": {
    "name": "ipython",
    "version": 3
   },
   "file_extension": ".py",
   "mimetype": "text/x-python",
   "name": "python",
   "nbconvert_exporter": "python",
   "pygments_lexer": "ipython3",
   "version": "3.11.7"
  }
 },
 "nbformat": 4,
 "nbformat_minor": 2
}
